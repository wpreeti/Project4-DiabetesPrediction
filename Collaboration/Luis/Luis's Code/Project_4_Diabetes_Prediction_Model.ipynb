{
  "nbformat": 4,
  "nbformat_minor": 0,
  "metadata": {
    "colab": {
      "provenance": []
    },
    "kernelspec": {
      "name": "python3",
      "display_name": "Python 3"
    }
  },
  "cells": [
    {
      "cell_type": "markdown",
      "metadata": {
        "id": "Snq4iq_JOB4T"
      },
      "source": [
        "# PART 1 : Install Dependencies & Run Spark Session"
      ]
    },
    {
      "cell_type": "code",
      "metadata": {
        "id": "NpCRBcqtN5lH",
        "colab": {
          "base_uri": "https://localhost:8080/"
        },
        "outputId": "8ba45a2d-0388-40a0-ccd3-131de3511a85"
      },
      "source": [
        "# Install pyspark and import:\n",
        "! pip install pyspark\n",
        "\n",
        "import pyspark\n",
        "from pyspark.ml.classification import LogisticRegression\n",
        "\n",
        "from pyspark.sql.functions import when, col"
      ],
      "execution_count": 1,
      "outputs": [
        {
          "output_type": "stream",
          "name": "stdout",
          "text": [
            "Collecting pyspark\n",
            "  Downloading pyspark-3.5.0.tar.gz (316.9 MB)\n",
            "\u001b[2K     \u001b[90m━━━━━━━━━━━━━━━━━━━━━━━━━━━━━━━━━━━━━━━━\u001b[0m \u001b[32m316.9/316.9 MB\u001b[0m \u001b[31m2.6 MB/s\u001b[0m eta \u001b[36m0:00:00\u001b[0m\n",
            "\u001b[?25h  Preparing metadata (setup.py) ... \u001b[?25l\u001b[?25hdone\n",
            "Requirement already satisfied: py4j==0.10.9.7 in /usr/local/lib/python3.10/dist-packages (from pyspark) (0.10.9.7)\n",
            "Building wheels for collected packages: pyspark\n",
            "  Building wheel for pyspark (setup.py) ... \u001b[?25l\u001b[?25hdone\n",
            "  Created wheel for pyspark: filename=pyspark-3.5.0-py2.py3-none-any.whl size=317425345 sha256=b71f586876563d1b8a412b79e47c00b1b4dc8a2575e5a1db99c6d2107291a824\n",
            "  Stored in directory: /root/.cache/pip/wheels/41/4e/10/c2cf2467f71c678cfc8a6b9ac9241e5e44a01940da8fbb17fc\n",
            "Successfully built pyspark\n",
            "Installing collected packages: pyspark\n",
            "Successfully installed pyspark-3.5.0\n"
          ]
        }
      ]
    },
    {
      "cell_type": "code",
      "metadata": {
        "id": "GNZoOuDqOdxX"
      },
      "source": [
        "# Create the pyspark session:\n",
        "from pyspark.sql import SparkSession\n",
        "spark = SparkSession.builder.appName(\"spark\").getOrCreate()"
      ],
      "execution_count": 2,
      "outputs": []
    },
    {
      "cell_type": "markdown",
      "metadata": {
        "id": "5sG3MLXlOews"
      },
      "source": [
        "# PART 2: Clone & Explore dataset"
      ]
    },
    {
      "cell_type": "code",
      "metadata": {
        "id": "-Uh5H7_KOoSL",
        "colab": {
          "base_uri": "https://localhost:8080/"
        },
        "outputId": "8821582d-dee5-4e03-cc2b-666d040c961e"
      },
      "source": [
        "# Clone the diabetes dataset from the github repository; if you get error saying \"Project-4 directory already exists, move to next cell\":\n",
        "! git clone https://github.com/elluis1001/Project-4/"
      ],
      "execution_count": 3,
      "outputs": [
        {
          "output_type": "stream",
          "name": "stdout",
          "text": [
            "Cloning into 'Project-4'...\n",
            "remote: Enumerating objects: 112, done.\u001b[K\n",
            "remote: Counting objects: 100% (112/112), done.\u001b[K\n",
            "remote: Compressing objects: 100% (93/93), done.\u001b[K\n",
            "remote: Total 112 (delta 51), reused 54 (delta 17), pack-reused 0\u001b[K\n",
            "Receiving objects: 100% (112/112), 901.64 KiB | 5.67 MiB/s, done.\n",
            "Resolving deltas: 100% (51/51), done.\n"
          ]
        }
      ]
    },
    {
      "cell_type": "code",
      "metadata": {
        "id": "VcqwJRxVOutr",
        "colab": {
          "base_uri": "https://localhost:8080/"
        },
        "outputId": "650e0af9-2093-4360-fafd-35ebf09bdbbf"
      },
      "source": [
        "# Check if the dataset exists:\n",
        "! ls /content/Project-4/Luis/Dataset/"
      ],
      "execution_count": 4,
      "outputs": [
        {
          "output_type": "stream",
          "name": "stdout",
          "text": [
            "diabetes_prediction_dataset.csv  diabetes_test_dataset.csv\n"
          ]
        }
      ]
    },
    {
      "cell_type": "code",
      "metadata": {
        "id": "ST1rFFOlOu8s"
      },
      "source": [
        "# Create spark dataframe:\n",
        "df_diabetes_data = spark.read.csv(\"/content/Project-4/Luis/Dataset/diabetes_prediction_dataset.csv\", header=True, inferSchema=True)"
      ],
      "execution_count": 5,
      "outputs": []
    },
    {
      "cell_type": "code",
      "metadata": {
        "id": "IiJm-pmROvKd",
        "colab": {
          "base_uri": "https://localhost:8080/"
        },
        "outputId": "723f6ed2-1d87-4c34-86ee-b6bbf2d66af8"
      },
      "source": [
        "# Display the dataframe:\n",
        "df_diabetes_data.show()"
      ],
      "execution_count": 6,
      "outputs": [
        {
          "output_type": "stream",
          "name": "stdout",
          "text": [
            "+------+----+------------+-------------+---------------+-----+-----------+-------------------+--------+\n",
            "|gender| age|hypertension|heart_disease|smoking_history|  bmi|HbA1c_level|blood_glucose_level|diabetes|\n",
            "+------+----+------------+-------------+---------------+-----+-----------+-------------------+--------+\n",
            "|Female|80.0|           0|            1|          never|25.19|        6.6|                140|       0|\n",
            "|Female|54.0|           0|            0|        No Info|27.32|        6.6|                 80|       0|\n",
            "|  Male|28.0|           0|            0|          never|27.32|        5.7|                158|       0|\n",
            "|Female|36.0|           0|            0|        current|23.45|        5.0|                155|       0|\n",
            "|  Male|76.0|           1|            1|        current|20.14|        4.8|                155|       0|\n",
            "|Female|20.0|           0|            0|          never|27.32|        6.6|                 85|       0|\n",
            "|Female|44.0|           0|            0|          never|19.31|        6.5|                200|       1|\n",
            "|Female|79.0|           0|            0|        No Info|23.86|        5.7|                 85|       0|\n",
            "|  Male|42.0|           0|            0|          never|33.64|        4.8|                145|       0|\n",
            "|Female|32.0|           0|            0|          never|27.32|        5.0|                100|       0|\n",
            "|Female|53.0|           0|            0|          never|27.32|        6.1|                 85|       0|\n",
            "|Female|54.0|           0|            0|         former| 54.7|        6.0|                100|       0|\n",
            "|Female|78.0|           0|            0|         former|36.05|        5.0|                130|       0|\n",
            "|Female|67.0|           0|            0|          never|25.69|        5.8|                200|       0|\n",
            "|Female|76.0|           0|            0|        No Info|27.32|        5.0|                160|       0|\n",
            "|  Male|78.0|           0|            0|        No Info|27.32|        6.6|                126|       0|\n",
            "|  Male|15.0|           0|            0|          never|30.36|        6.1|                200|       0|\n",
            "|Female|42.0|           0|            0|          never|24.48|        5.7|                158|       0|\n",
            "|Female|42.0|           0|            0|        No Info|27.32|        5.7|                 80|       0|\n",
            "|  Male|37.0|           0|            0|           ever|25.72|        3.5|                159|       0|\n",
            "+------+----+------------+-------------+---------------+-----+-----------+-------------------+--------+\n",
            "only showing top 20 rows\n",
            "\n"
          ]
        }
      ]
    },
    {
      "cell_type": "code",
      "source": [
        "# Show amount of rows:\n",
        "df_diabetes_data.count()"
      ],
      "metadata": {
        "colab": {
          "base_uri": "https://localhost:8080/"
        },
        "id": "MKF7kv1AI2pw",
        "outputId": "c0970294-68b8-4177-f444-0a55e2ea7629"
      },
      "execution_count": 7,
      "outputs": [
        {
          "output_type": "execute_result",
          "data": {
            "text/plain": [
              "100000"
            ]
          },
          "metadata": {},
          "execution_count": 7
        }
      ]
    },
    {
      "cell_type": "code",
      "metadata": {
        "id": "Ulqkuz8aOvV6",
        "colab": {
          "base_uri": "https://localhost:8080/"
        },
        "outputId": "bcd327c3-cbe8-4ce8-b698-913c9caaedfb"
      },
      "source": [
        "# Print the schema:\n",
        "df_diabetes_data.printSchema()"
      ],
      "execution_count": 8,
      "outputs": [
        {
          "output_type": "stream",
          "name": "stdout",
          "text": [
            "root\n",
            " |-- gender: string (nullable = true)\n",
            " |-- age: double (nullable = true)\n",
            " |-- hypertension: integer (nullable = true)\n",
            " |-- heart_disease: integer (nullable = true)\n",
            " |-- smoking_history: string (nullable = true)\n",
            " |-- bmi: double (nullable = true)\n",
            " |-- HbA1c_level: double (nullable = true)\n",
            " |-- blood_glucose_level: integer (nullable = true)\n",
            " |-- diabetes: integer (nullable = true)\n",
            "\n"
          ]
        }
      ]
    },
    {
      "cell_type": "code",
      "metadata": {
        "id": "kpZlF2S2Ovgw",
        "colab": {
          "base_uri": "https://localhost:8080/"
        },
        "outputId": "8d56e013-f5d6-4e2e-ddff-05aed850ffae"
      },
      "source": [
        "# Count the total no. of diabetic and non-diabetic class (values of 1 indicating the presence of diabetes and 0 indicating the absence of diabetes):\n",
        "print((df_diabetes_data.count(), len(df_diabetes_data.columns)))\n",
        "df_diabetes_data.groupBy('diabetes').count().show()"
      ],
      "execution_count": 9,
      "outputs": [
        {
          "output_type": "stream",
          "name": "stdout",
          "text": [
            "(100000, 9)\n",
            "+--------+-----+\n",
            "|diabetes|count|\n",
            "+--------+-----+\n",
            "|       1| 8500|\n",
            "|       0|91500|\n",
            "+--------+-----+\n",
            "\n"
          ]
        }
      ]
    },
    {
      "cell_type": "code",
      "source": [
        " # Count the total no. of gender types:\n",
        "print((df_diabetes_data.count(), len(df_diabetes_data.columns)))\n",
        "df_diabetes_data.groupBy('gender').count().show()"
      ],
      "metadata": {
        "colab": {
          "base_uri": "https://localhost:8080/"
        },
        "id": "3f2sAuuh9iY7",
        "outputId": "e2d3451d-cc3a-47e3-f336-c16ed2ca1215"
      },
      "execution_count": 10,
      "outputs": [
        {
          "output_type": "stream",
          "name": "stdout",
          "text": [
            "(100000, 9)\n",
            "+------+-----+\n",
            "|gender|count|\n",
            "+------+-----+\n",
            "|Female|58552|\n",
            "| Other|   18|\n",
            "|  Male|41430|\n",
            "+------+-----+\n",
            "\n"
          ]
        }
      ]
    },
    {
      "cell_type": "code",
      "metadata": {
        "id": "NewCNZEMOvtM",
        "colab": {
          "base_uri": "https://localhost:8080/"
        },
        "outputId": "0f7979f5-180f-4c17-d027-604b39d5ef5f"
      },
      "source": [
        "# Get the summary statistics:\n",
        "df_diabetes_data.describe().show()"
      ],
      "execution_count": 11,
      "outputs": [
        {
          "output_type": "stream",
          "name": "stdout",
          "text": [
            "+-------+------+-----------------+------------------+------------------+---------------+-----------------+------------------+-------------------+-------------------+\n",
            "|summary|gender|              age|      hypertension|     heart_disease|smoking_history|              bmi|       HbA1c_level|blood_glucose_level|           diabetes|\n",
            "+-------+------+-----------------+------------------+------------------+---------------+-----------------+------------------+-------------------+-------------------+\n",
            "|  count|100000|           100000|            100000|            100000|         100000|           100000|            100000|             100000|             100000|\n",
            "|   mean|  NULL|41.88585600000013|           0.07485|           0.03942|           NULL|27.32076709999422|5.5275069999983275|          138.05806|              0.085|\n",
            "| stddev|  NULL|22.51683987161704|0.2631504702289171|0.1945930169980986|           NULL|6.636783416648357|1.0706720918835468|  40.70813604870383|0.27888308976661896|\n",
            "|    min|Female|             0.08|                 0|                 0|        No Info|            10.01|               3.5|                 80|                  0|\n",
            "|    max| Other|             80.0|                 1|                 1|    not current|            95.69|               9.0|                300|                  1|\n",
            "+-------+------+-----------------+------------------+------------------+---------------+-----------------+------------------+-------------------+-------------------+\n",
            "\n"
          ]
        }
      ]
    },
    {
      "cell_type": "markdown",
      "metadata": {
        "id": "gZerPOR-OyjQ"
      },
      "source": [
        "# PART 3: Data Cleaning & Preparation"
      ]
    },
    {
      "cell_type": "code",
      "metadata": {
        "id": "Q-KkJvV_PFFU",
        "colab": {
          "base_uri": "https://localhost:8080/"
        },
        "outputId": "8f5e2993-8266-4e1f-cac3-7bdf445a9daa"
      },
      "source": [
        "# Check for null values:\n",
        "for col in df_diabetes_data.columns:\n",
        "  print(col + \":\", df_diabetes_data[df_diabetes_data[col].isNull()].count())"
      ],
      "execution_count": 12,
      "outputs": [
        {
          "output_type": "stream",
          "name": "stdout",
          "text": [
            "gender: 0\n",
            "age: 0\n",
            "hypertension: 0\n",
            "heart_disease: 0\n",
            "smoking_history: 0\n",
            "bmi: 0\n",
            "HbA1c_level: 0\n",
            "blood_glucose_level: 0\n",
            "diabetes: 0\n"
          ]
        }
      ]
    },
    {
      "cell_type": "code",
      "metadata": {
        "id": "ZJsbgwZMPFQC"
      },
      "source": [
        "# Look for the unnecessary values present:\n",
        "def count_zeros():\n",
        "  columns_list = [\"age\", \"bmi\", \"HbA1c_level\", \"blood_glucose_level\"]\n",
        "  for i in columns_list:\n",
        "    print(i+\":\",df_diabetes_data[df_diabetes_data[i]==0].count())"
      ],
      "execution_count": 13,
      "outputs": []
    },
    {
      "cell_type": "code",
      "metadata": {
        "id": "pcXTErb9PFbo",
        "colab": {
          "base_uri": "https://localhost:8080/"
        },
        "outputId": "17b1512d-58bb-49e6-dec4-170f4572f475"
      },
      "source": [
        "count_zeros()"
      ],
      "execution_count": 14,
      "outputs": [
        {
          "output_type": "stream",
          "name": "stdout",
          "text": [
            "age: 0\n",
            "bmi: 0\n",
            "HbA1c_level: 0\n",
            "blood_glucose_level: 0\n"
          ]
        }
      ]
    },
    {
      "cell_type": "code",
      "source": [
        "# Drop the 'other' rows in the gender columns:\n",
        "string_to_remove = \"Other\"\n",
        "df_diabetes_data = df_diabetes_data[df_diabetes_data['Gender'] != string_to_remove]"
      ],
      "metadata": {
        "id": "E1k77q7hKhIo"
      },
      "execution_count": 15,
      "outputs": []
    },
    {
      "cell_type": "code",
      "source": [
        "# Count the total no. of gender types:\n",
        "print((df_diabetes_data.count(), len(df_diabetes_data.columns)))\n",
        "df_diabetes_data.groupBy('gender').count().show()"
      ],
      "metadata": {
        "colab": {
          "base_uri": "https://localhost:8080/"
        },
        "id": "OXDmlg6KZgTn",
        "outputId": "d75ff4b6-1d88-4080-88bc-00058b9921e2"
      },
      "execution_count": 16,
      "outputs": [
        {
          "output_type": "stream",
          "name": "stdout",
          "text": [
            "(99982, 9)\n",
            "+------+-----+\n",
            "|gender|count|\n",
            "+------+-----+\n",
            "|Female|58552|\n",
            "|  Male|41430|\n",
            "+------+-----+\n",
            "\n"
          ]
        }
      ]
    },
    {
      "cell_type": "code",
      "source": [
        "# Count the total no. of smoker/non-smoker types:\n",
        "print((df_diabetes_data.count(), len(df_diabetes_data.columns)))\n",
        "df_diabetes_data.groupBy('smoking_history').count().show()"
      ],
      "metadata": {
        "colab": {
          "base_uri": "https://localhost:8080/"
        },
        "id": "xwwTUAJLZ72A",
        "outputId": "5a383819-fddc-42c3-c632-93a860f72285"
      },
      "execution_count": 17,
      "outputs": [
        {
          "output_type": "stream",
          "name": "stdout",
          "text": [
            "(99982, 9)\n",
            "+---------------+-----+\n",
            "|smoking_history|count|\n",
            "+---------------+-----+\n",
            "|    not current| 6439|\n",
            "|         former| 9352|\n",
            "|        No Info|35810|\n",
            "|        current| 9286|\n",
            "|          never|35092|\n",
            "|           ever| 4003|\n",
            "+---------------+-----+\n",
            "\n"
          ]
        }
      ]
    },
    {
      "cell_type": "code",
      "source": [
        "# Drop the 'other' rows in the gender columns:\n",
        "string_to_remove_1= \"No Info\"\n",
        "df_diabetes_data = df_diabetes_data[df_diabetes_data['smoking_history'] != string_to_remove_1]"
      ],
      "metadata": {
        "id": "KdN7OCA1cDnb"
      },
      "execution_count": 18,
      "outputs": []
    },
    {
      "cell_type": "code",
      "source": [
        "# Count the total no. of smoker/non-smoker types:\n",
        "print((df_diabetes_data.count(), len(df_diabetes_data.columns)))\n",
        "df_diabetes_data.groupBy('smoking_history').count().show()"
      ],
      "metadata": {
        "colab": {
          "base_uri": "https://localhost:8080/"
        },
        "id": "ZbxmgHOFcoEb",
        "outputId": "4b0bf7b3-db1a-4d61-d3f6-beea31dadfdc"
      },
      "execution_count": 19,
      "outputs": [
        {
          "output_type": "stream",
          "name": "stdout",
          "text": [
            "(64172, 9)\n",
            "+---------------+-----+\n",
            "|smoking_history|count|\n",
            "+---------------+-----+\n",
            "|    not current| 6439|\n",
            "|         former| 9352|\n",
            "|        current| 9286|\n",
            "|          never|35092|\n",
            "|           ever| 4003|\n",
            "+---------------+-----+\n",
            "\n"
          ]
        }
      ]
    },
    {
      "cell_type": "code",
      "source": [
        "# Count the total no. of gender types:\n",
        "print((df_diabetes_data.count(), len(df_diabetes_data.columns)))\n",
        "df_diabetes_data.groupBy('gender').count().show()"
      ],
      "metadata": {
        "colab": {
          "base_uri": "https://localhost:8080/"
        },
        "id": "ZKJc4_sLh_pJ",
        "outputId": "c1c3178b-ad42-4eed-881f-54a3361db61c"
      },
      "execution_count": 20,
      "outputs": [
        {
          "output_type": "stream",
          "name": "stdout",
          "text": [
            "(64172, 9)\n",
            "+------+-----+\n",
            "|gender|count|\n",
            "+------+-----+\n",
            "|Female|38852|\n",
            "|  Male|25320|\n",
            "+------+-----+\n",
            "\n"
          ]
        }
      ]
    },
    {
      "cell_type": "code",
      "source": [
        "# Assign in the 'gender'column 'Female' = 0, and 'Male' = 1:\n",
        "from pyspark.sql.functions import when, col\n",
        "df_diabetes_data = df_diabetes_data.withColumn(\"gender\",\n",
        "    when(col(\"gender\") == \"Female\", 0).\n",
        "    when(col(\"gender\") == \"Male\", 1).\n",
        "    otherwise(col(\"gender\"))\n",
        ")\n",
        "df_diabetes_data.show()"
      ],
      "metadata": {
        "colab": {
          "base_uri": "https://localhost:8080/"
        },
        "id": "ZlK0I77Di1Yq",
        "outputId": "dbdd5cd0-5d15-4659-f9b4-2d47d64c19f3"
      },
      "execution_count": 21,
      "outputs": [
        {
          "output_type": "stream",
          "name": "stdout",
          "text": [
            "+------+----+------------+-------------+---------------+-----+-----------+-------------------+--------+\n",
            "|gender| age|hypertension|heart_disease|smoking_history|  bmi|HbA1c_level|blood_glucose_level|diabetes|\n",
            "+------+----+------------+-------------+---------------+-----+-----------+-------------------+--------+\n",
            "|     0|80.0|           0|            1|          never|25.19|        6.6|                140|       0|\n",
            "|     1|28.0|           0|            0|          never|27.32|        5.7|                158|       0|\n",
            "|     0|36.0|           0|            0|        current|23.45|        5.0|                155|       0|\n",
            "|     1|76.0|           1|            1|        current|20.14|        4.8|                155|       0|\n",
            "|     0|20.0|           0|            0|          never|27.32|        6.6|                 85|       0|\n",
            "|     0|44.0|           0|            0|          never|19.31|        6.5|                200|       1|\n",
            "|     1|42.0|           0|            0|          never|33.64|        4.8|                145|       0|\n",
            "|     0|32.0|           0|            0|          never|27.32|        5.0|                100|       0|\n",
            "|     0|53.0|           0|            0|          never|27.32|        6.1|                 85|       0|\n",
            "|     0|54.0|           0|            0|         former| 54.7|        6.0|                100|       0|\n",
            "|     0|78.0|           0|            0|         former|36.05|        5.0|                130|       0|\n",
            "|     0|67.0|           0|            0|          never|25.69|        5.8|                200|       0|\n",
            "|     1|15.0|           0|            0|          never|30.36|        6.1|                200|       0|\n",
            "|     0|42.0|           0|            0|          never|24.48|        5.7|                158|       0|\n",
            "|     1|37.0|           0|            0|           ever|25.72|        3.5|                159|       0|\n",
            "|     1|40.0|           0|            0|        current|36.38|        6.0|                 90|       0|\n",
            "|     0|69.0|           0|            0|          never|21.24|        4.8|                 85|       0|\n",
            "|     0|72.0|           0|            1|         former|27.94|        6.5|                130|       0|\n",
            "|     1|30.0|           0|            0|          never|33.76|        6.1|                126|       0|\n",
            "|     1|67.0|           0|            1|    not current|27.32|        6.5|                200|       1|\n",
            "+------+----+------------+-------------+---------------+-----+-----------+-------------------+--------+\n",
            "only showing top 20 rows\n",
            "\n"
          ]
        }
      ]
    },
    {
      "cell_type": "code",
      "source": [
        "# Assign in the 'smoking_history': \"never\" = 0, \"ever\" = 1, \"not current\" = 2, \"current\" = 3, \"former\" = 4:\n",
        "df_diabetes_data = df_diabetes_data.withColumn(\"smoking_history\",\n",
        "    when(col(\"smoking_history\") == \"never\", 0).\n",
        "    when(col(\"smoking_history\") == \"ever\", 1).\n",
        "    when(col(\"smoking_history\") == \"not current\", 2).\n",
        "    when(col(\"smoking_history\") == \"current\", 3).\n",
        "    when(col(\"smoking_history\") == \"former\", 4).\n",
        "    otherwise(col(\"smoking_history\"))\n",
        ")\n",
        "df_diabetes_data.show()"
      ],
      "metadata": {
        "colab": {
          "base_uri": "https://localhost:8080/"
        },
        "id": "j3RHqrEwlS_e",
        "outputId": "3157dfc9-c4a5-4610-b237-98ccc0abb55d"
      },
      "execution_count": 22,
      "outputs": [
        {
          "output_type": "stream",
          "name": "stdout",
          "text": [
            "+------+----+------------+-------------+---------------+-----+-----------+-------------------+--------+\n",
            "|gender| age|hypertension|heart_disease|smoking_history|  bmi|HbA1c_level|blood_glucose_level|diabetes|\n",
            "+------+----+------------+-------------+---------------+-----+-----------+-------------------+--------+\n",
            "|     0|80.0|           0|            1|              0|25.19|        6.6|                140|       0|\n",
            "|     1|28.0|           0|            0|              0|27.32|        5.7|                158|       0|\n",
            "|     0|36.0|           0|            0|              3|23.45|        5.0|                155|       0|\n",
            "|     1|76.0|           1|            1|              3|20.14|        4.8|                155|       0|\n",
            "|     0|20.0|           0|            0|              0|27.32|        6.6|                 85|       0|\n",
            "|     0|44.0|           0|            0|              0|19.31|        6.5|                200|       1|\n",
            "|     1|42.0|           0|            0|              0|33.64|        4.8|                145|       0|\n",
            "|     0|32.0|           0|            0|              0|27.32|        5.0|                100|       0|\n",
            "|     0|53.0|           0|            0|              0|27.32|        6.1|                 85|       0|\n",
            "|     0|54.0|           0|            0|              4| 54.7|        6.0|                100|       0|\n",
            "|     0|78.0|           0|            0|              4|36.05|        5.0|                130|       0|\n",
            "|     0|67.0|           0|            0|              0|25.69|        5.8|                200|       0|\n",
            "|     1|15.0|           0|            0|              0|30.36|        6.1|                200|       0|\n",
            "|     0|42.0|           0|            0|              0|24.48|        5.7|                158|       0|\n",
            "|     1|37.0|           0|            0|              1|25.72|        3.5|                159|       0|\n",
            "|     1|40.0|           0|            0|              3|36.38|        6.0|                 90|       0|\n",
            "|     0|69.0|           0|            0|              0|21.24|        4.8|                 85|       0|\n",
            "|     0|72.0|           0|            1|              4|27.94|        6.5|                130|       0|\n",
            "|     1|30.0|           0|            0|              0|33.76|        6.1|                126|       0|\n",
            "|     1|67.0|           0|            1|              2|27.32|        6.5|                200|       1|\n",
            "+------+----+------------+-------------+---------------+-----+-----------+-------------------+--------+\n",
            "only showing top 20 rows\n",
            "\n"
          ]
        }
      ]
    },
    {
      "cell_type": "markdown",
      "metadata": {
        "id": "LOgSTdBpPs7G"
      },
      "source": [
        "# PART 4: Correlation Analysis & Feature Selection"
      ]
    },
    {
      "cell_type": "code",
      "source": [
        "# Gender and smoking_history needs to be converted to float data type for model to work:\n",
        "df_diabetes_data = df_diabetes_data.withColumn(\"gender\", col(\"gender\").cast('float'))\n",
        "df_diabetes_data = df_diabetes_data.withColumn(\"smoking_history\", col(\"smoking_history\").cast('float'))\n",
        "df_diabetes_data.show()\n"
      ],
      "metadata": {
        "id": "PVQ4iahSjL63",
        "outputId": "a9b96d7b-fbba-497e-8f58-6f943579d429",
        "colab": {
          "base_uri": "https://localhost:8080/"
        }
      },
      "execution_count": 23,
      "outputs": [
        {
          "output_type": "stream",
          "name": "stdout",
          "text": [
            "+------+----+------------+-------------+---------------+-----+-----------+-------------------+--------+\n",
            "|gender| age|hypertension|heart_disease|smoking_history|  bmi|HbA1c_level|blood_glucose_level|diabetes|\n",
            "+------+----+------------+-------------+---------------+-----+-----------+-------------------+--------+\n",
            "|   0.0|80.0|           0|            1|            0.0|25.19|        6.6|                140|       0|\n",
            "|   1.0|28.0|           0|            0|            0.0|27.32|        5.7|                158|       0|\n",
            "|   0.0|36.0|           0|            0|            3.0|23.45|        5.0|                155|       0|\n",
            "|   1.0|76.0|           1|            1|            3.0|20.14|        4.8|                155|       0|\n",
            "|   0.0|20.0|           0|            0|            0.0|27.32|        6.6|                 85|       0|\n",
            "|   0.0|44.0|           0|            0|            0.0|19.31|        6.5|                200|       1|\n",
            "|   1.0|42.0|           0|            0|            0.0|33.64|        4.8|                145|       0|\n",
            "|   0.0|32.0|           0|            0|            0.0|27.32|        5.0|                100|       0|\n",
            "|   0.0|53.0|           0|            0|            0.0|27.32|        6.1|                 85|       0|\n",
            "|   0.0|54.0|           0|            0|            4.0| 54.7|        6.0|                100|       0|\n",
            "|   0.0|78.0|           0|            0|            4.0|36.05|        5.0|                130|       0|\n",
            "|   0.0|67.0|           0|            0|            0.0|25.69|        5.8|                200|       0|\n",
            "|   1.0|15.0|           0|            0|            0.0|30.36|        6.1|                200|       0|\n",
            "|   0.0|42.0|           0|            0|            0.0|24.48|        5.7|                158|       0|\n",
            "|   1.0|37.0|           0|            0|            1.0|25.72|        3.5|                159|       0|\n",
            "|   1.0|40.0|           0|            0|            3.0|36.38|        6.0|                 90|       0|\n",
            "|   0.0|69.0|           0|            0|            0.0|21.24|        4.8|                 85|       0|\n",
            "|   0.0|72.0|           0|            1|            4.0|27.94|        6.5|                130|       0|\n",
            "|   1.0|30.0|           0|            0|            0.0|33.76|        6.1|                126|       0|\n",
            "|   1.0|67.0|           0|            1|            2.0|27.32|        6.5|                200|       1|\n",
            "+------+----+------------+-------------+---------------+-----+-----------+-------------------+--------+\n",
            "only showing top 20 rows\n",
            "\n"
          ]
        }
      ]
    },
    {
      "cell_type": "code",
      "metadata": {
        "id": "7Eq6jdcFP_3C",
        "colab": {
          "base_uri": "https://localhost:8080/"
        },
        "outputId": "5beaf08e-44fe-4162-9488-f0dac4303b26"
      },
      "source": [
        "# Find the correlation among the set of input & output variables:\n",
        "for i in df_diabetes_data.columns:\n",
        "  print(\"Correlation to outcome for {} is {}\".format(i, df_diabetes_data.stat.corr(\"diabetes\",i)))"
      ],
      "execution_count": 24,
      "outputs": [
        {
          "output_type": "stream",
          "name": "stdout",
          "text": [
            "Correlation to outcome for gender is 0.05699689368565596\n",
            "Correlation to outcome for age is 0.26084962459224337\n",
            "Correlation to outcome for hypertension is 0.19222574901207254\n",
            "Correlation to outcome for heart_disease is 0.16961397731730365\n",
            "Correlation to outcome for smoking_history is 0.06472564826560573\n",
            "Correlation to outcome for bmi is 0.20442115545137657\n",
            "Correlation to outcome for HbA1c_level is 0.43889709468177335\n",
            "Correlation to outcome for blood_glucose_level is 0.449697968864106\n",
            "Correlation to outcome for diabetes is 1.0\n"
          ]
        }
      ]
    },
    {
      "cell_type": "code",
      "metadata": {
        "id": "Fl7Edj-OQACn"
      },
      "source": [
        "# Feature selection:\n",
        "from pyspark.ml.feature import VectorAssembler\n",
        "\n",
        "assembler = VectorAssembler(inputCols = ['gender', 'age', 'hypertension', 'heart_disease',\n",
        "                                         'smoking_history', 'bmi', 'HbA1c_level', 'blood_glucose_level'], outputCol='features')\n",
        "output_data = assembler.transform(df_diabetes_data)"
      ],
      "execution_count": 25,
      "outputs": []
    },
    {
      "cell_type": "code",
      "metadata": {
        "id": "mJKrfqdaQAOy",
        "colab": {
          "base_uri": "https://localhost:8080/"
        },
        "outputId": "c918d2f7-c7f4-485a-c732-792cdaea0b28"
      },
      "source": [
        "# Print the schema:\n",
        "output_data.printSchema()"
      ],
      "execution_count": 26,
      "outputs": [
        {
          "output_type": "stream",
          "name": "stdout",
          "text": [
            "root\n",
            " |-- gender: float (nullable = true)\n",
            " |-- age: double (nullable = true)\n",
            " |-- hypertension: integer (nullable = true)\n",
            " |-- heart_disease: integer (nullable = true)\n",
            " |-- smoking_history: float (nullable = true)\n",
            " |-- bmi: double (nullable = true)\n",
            " |-- HbA1c_level: double (nullable = true)\n",
            " |-- blood_glucose_level: integer (nullable = true)\n",
            " |-- diabetes: integer (nullable = true)\n",
            " |-- features: vector (nullable = true)\n",
            "\n"
          ]
        }
      ]
    },
    {
      "cell_type": "code",
      "metadata": {
        "id": "FURl7qESQAaQ",
        "colab": {
          "base_uri": "https://localhost:8080/"
        },
        "outputId": "4776b74d-9c7b-45b8-b9bd-9295758d20f6"
      },
      "source": [
        "# Display dataframe:\n",
        "output_data.show()"
      ],
      "execution_count": 27,
      "outputs": [
        {
          "output_type": "stream",
          "name": "stdout",
          "text": [
            "+------+----+------------+-------------+---------------+-----+-----------+-------------------+--------+--------------------+\n",
            "|gender| age|hypertension|heart_disease|smoking_history|  bmi|HbA1c_level|blood_glucose_level|diabetes|            features|\n",
            "+------+----+------------+-------------+---------------+-----+-----------+-------------------+--------+--------------------+\n",
            "|   0.0|80.0|           0|            1|            0.0|25.19|        6.6|                140|       0|[0.0,80.0,0.0,1.0...|\n",
            "|   1.0|28.0|           0|            0|            0.0|27.32|        5.7|                158|       0|[1.0,28.0,0.0,0.0...|\n",
            "|   0.0|36.0|           0|            0|            3.0|23.45|        5.0|                155|       0|[0.0,36.0,0.0,0.0...|\n",
            "|   1.0|76.0|           1|            1|            3.0|20.14|        4.8|                155|       0|[1.0,76.0,1.0,1.0...|\n",
            "|   0.0|20.0|           0|            0|            0.0|27.32|        6.6|                 85|       0|(8,[1,5,6,7],[20....|\n",
            "|   0.0|44.0|           0|            0|            0.0|19.31|        6.5|                200|       1|(8,[1,5,6,7],[44....|\n",
            "|   1.0|42.0|           0|            0|            0.0|33.64|        4.8|                145|       0|[1.0,42.0,0.0,0.0...|\n",
            "|   0.0|32.0|           0|            0|            0.0|27.32|        5.0|                100|       0|(8,[1,5,6,7],[32....|\n",
            "|   0.0|53.0|           0|            0|            0.0|27.32|        6.1|                 85|       0|(8,[1,5,6,7],[53....|\n",
            "|   0.0|54.0|           0|            0|            4.0| 54.7|        6.0|                100|       0|[0.0,54.0,0.0,0.0...|\n",
            "|   0.0|78.0|           0|            0|            4.0|36.05|        5.0|                130|       0|[0.0,78.0,0.0,0.0...|\n",
            "|   0.0|67.0|           0|            0|            0.0|25.69|        5.8|                200|       0|(8,[1,5,6,7],[67....|\n",
            "|   1.0|15.0|           0|            0|            0.0|30.36|        6.1|                200|       0|[1.0,15.0,0.0,0.0...|\n",
            "|   0.0|42.0|           0|            0|            0.0|24.48|        5.7|                158|       0|(8,[1,5,6,7],[42....|\n",
            "|   1.0|37.0|           0|            0|            1.0|25.72|        3.5|                159|       0|[1.0,37.0,0.0,0.0...|\n",
            "|   1.0|40.0|           0|            0|            3.0|36.38|        6.0|                 90|       0|[1.0,40.0,0.0,0.0...|\n",
            "|   0.0|69.0|           0|            0|            0.0|21.24|        4.8|                 85|       0|(8,[1,5,6,7],[69....|\n",
            "|   0.0|72.0|           0|            1|            4.0|27.94|        6.5|                130|       0|[0.0,72.0,0.0,1.0...|\n",
            "|   1.0|30.0|           0|            0|            0.0|33.76|        6.1|                126|       0|[1.0,30.0,0.0,0.0...|\n",
            "|   1.0|67.0|           0|            1|            2.0|27.32|        6.5|                200|       1|[1.0,67.0,0.0,1.0...|\n",
            "+------+----+------------+-------------+---------------+-----+-----------+-------------------+--------+--------------------+\n",
            "only showing top 20 rows\n",
            "\n"
          ]
        }
      ]
    },
    {
      "cell_type": "markdown",
      "metadata": {
        "id": "8fSjOdfyQA99"
      },
      "source": [
        "# PART 5: Split Dataset & Build the Model"
      ]
    },
    {
      "cell_type": "code",
      "metadata": {
        "id": "F89--FiVQQJn"
      },
      "source": [
        "# Create final data:\n",
        "from pyspark.ml.classification import LogisticRegression\n",
        "\n",
        "final_data = output_data.select('features','diabetes')"
      ],
      "execution_count": 28,
      "outputs": []
    },
    {
      "cell_type": "code",
      "metadata": {
        "id": "cKpm5912Qji_",
        "colab": {
          "base_uri": "https://localhost:8080/"
        },
        "outputId": "f45b636c-4774-413f-b82d-cc157ac1ce36"
      },
      "source": [
        "# Print schema of final data:\n",
        "final_data.printSchema()"
      ],
      "execution_count": 29,
      "outputs": [
        {
          "output_type": "stream",
          "name": "stdout",
          "text": [
            "root\n",
            " |-- features: vector (nullable = true)\n",
            " |-- diabetes: integer (nullable = true)\n",
            "\n"
          ]
        }
      ]
    },
    {
      "cell_type": "code",
      "metadata": {
        "id": "r_Nom7aZQjuN"
      },
      "source": [
        "# Split the dataset ; build the model:\n",
        "train, test = final_data.randomSplit([0.7, 0.3])\n",
        "models = LogisticRegression(labelCol= 'diabetes')\n",
        "model = models.fit(train)"
      ],
      "execution_count": 30,
      "outputs": []
    },
    {
      "cell_type": "code",
      "metadata": {
        "id": "OljO2HcIQj7E",
        "colab": {
          "base_uri": "https://localhost:8080/"
        },
        "outputId": "9cf4475d-99b0-4b90-e74e-8362ad43365e"
      },
      "source": [
        "# Summary of the model:\n",
        "summary = model.summary\n",
        "summary.predictions.describe().show()"
      ],
      "execution_count": 31,
      "outputs": [
        {
          "output_type": "stream",
          "name": "stdout",
          "text": [
            "+-------+-------------------+-------------------+\n",
            "|summary|           diabetes|         prediction|\n",
            "+-------+-------------------+-------------------+\n",
            "|  count|              45017|              45017|\n",
            "|   mean|0.10946975587000467|  0.081302619010596|\n",
            "| stddev| 0.3122311547686878|0.27330232782774494|\n",
            "|    min|                0.0|                0.0|\n",
            "|    max|                1.0|                1.0|\n",
            "+-------+-------------------+-------------------+\n",
            "\n"
          ]
        }
      ]
    },
    {
      "cell_type": "markdown",
      "metadata": {
        "id": "DfaD_vzfQkah"
      },
      "source": [
        "# PART 6: Evaluate and Save the Model"
      ]
    },
    {
      "cell_type": "code",
      "metadata": {
        "id": "CHC5Erq7Q4QN"
      },
      "source": [
        "# Import BinaryClassificationEvaluator:\n",
        "from pyspark.ml.evaluation import BinaryClassificationEvaluator\n",
        "\n",
        "predictions = model.evaluate(test)"
      ],
      "execution_count": 32,
      "outputs": []
    },
    {
      "cell_type": "code",
      "metadata": {
        "id": "UBltVqoNQ4cM",
        "colab": {
          "base_uri": "https://localhost:8080/"
        },
        "outputId": "769fde41-6e31-4a86-ed5d-c639a7fc81b5"
      },
      "source": [
        "# Display predictions:\n",
        "predictions.predictions.show(100)"
      ],
      "execution_count": 33,
      "outputs": [
        {
          "output_type": "stream",
          "name": "stdout",
          "text": [
            "+--------------------+--------+--------------------+--------------------+----------+\n",
            "|            features|diabetes|       rawPrediction|         probability|prediction|\n",
            "+--------------------+--------+--------------------+--------------------+----------+\n",
            "|(8,[1,5,6,7],[0.1...|       0|[6.62028879289234...|[0.99866872872989...|       0.0|\n",
            "|(8,[1,5,6,7],[0.3...|       0|[7.04725213678943...|[0.99913096013092...|       0.0|\n",
            "|(8,[1,5,6,7],[0.8...|       0|[5.22662849821061...|[0.99465709479345...|       0.0|\n",
            "|(8,[1,5,6,7],[0.8...|       0|[5.81498817693441...|[0.99702635335772...|       0.0|\n",
            "|(8,[1,5,6,7],[0.8...|       0|[7.22494740768205...|[0.99927233904071...|       0.0|\n",
            "|(8,[1,5,6,7],[0.8...|       0|[14.4057851623874...|[0.99999944582522...|       0.0|\n",
            "|(8,[1,5,6,7],[1.0...|       0|[6.29073809791215...|[0.99815003724764...|       0.0|\n",
            "|(8,[1,5,6,7],[1.2...|       0|[12.7872754187789...|[0.99999720388111...|       0.0|\n",
            "|(8,[1,5,6,7],[1.3...|       0|[8.38578945981901...|[0.99977196638813...|       0.0|\n",
            "|(8,[1,5,6,7],[1.3...|       0|[10.9545914090208...|[0.99998252272140...|       0.0|\n",
            "|(8,[1,5,6,7],[1.3...|       0|[14.5127259595231...|[0.99999950203022...|       0.0|\n",
            "|(8,[1,5,6,7],[1.3...|       0|[12.3233959970125...|[0.99999555353181...|       0.0|\n",
            "|(8,[1,5,6,7],[1.3...|       0|[9.98718472559895...|[0.99995401662822...|       0.0|\n",
            "|(8,[1,5,6,7],[1.4...|       0|[11.0028103080503...|[0.99998334544762...|       0.0|\n",
            "|(8,[1,5,6,7],[1.4...|       0|[5.82181622358146...|[0.99704652863060...|       0.0|\n",
            "|(8,[1,5,6,7],[1.4...|       0|[11.1368966950610...|[0.99998543532177...|       0.0|\n",
            "|(8,[1,5,6,7],[1.5...|       0|[11.9327221737975...|[0.99999342823913...|       0.0|\n",
            "|(8,[1,5,6,7],[1.6...|       0|[6.98041279694241...|[0.99907094469028...|       0.0|\n",
            "|(8,[1,5,6,7],[1.7...|       0|[7.59408286880340...|[0.99949683185708...|       0.0|\n",
            "|(8,[1,5,6,7],[1.8...|       0|[7.09278072623266...|[0.99916960699082...|       0.0|\n",
            "|(8,[1,5,6,7],[1.8...|       0|[6.46427784979712...|[0.99844430790195...|       0.0|\n",
            "|(8,[1,5,6,7],[1.8...|       0|[12.5408431768455...|[0.99999642250153...|       0.0|\n",
            "|(8,[1,5,6,7],[1.8...|       0|[10.8809503151421...|[0.99998118712586...|       0.0|\n",
            "|(8,[1,5,6,7],[2.0...|       0|[12.6147633789032...|[0.99999667741246...|       0.0|\n",
            "|(8,[1,5,6,7],[2.0...|       0|[4.78104635179171...|[0.99168254194368...|       0.0|\n",
            "|(8,[1,5,6,7],[2.0...|       0|[8.37140555861340...|[0.99976866343626...|       0.0|\n",
            "|(8,[1,5,6,7],[2.0...|       0|[10.4749579207942...|[0.99997176607122...|       0.0|\n",
            "|(8,[1,5,6,7],[2.0...|       0|[11.6338808944859...|[0.99999113934399...|       0.0|\n",
            "|(8,[1,5,6,7],[2.0...|       0|[7.65784376821968...|[0.99952789823011...|       0.0|\n",
            "|(8,[1,5,6,7],[2.0...|       0|[9.93690419772733...|[0.99995164556210...|       0.0|\n",
            "|(8,[1,5,6,7],[2.0...|       0|[5.75843609205670...|[0.99685388577095...|       0.0|\n",
            "|(8,[1,5,6,7],[2.0...|       0|[6.86465607225971...|[0.99895704742009...|       0.0|\n",
            "|(8,[1,5,6,7],[2.0...|       0|[8.68609035173177...|[0.99983110937748...|       0.0|\n",
            "|(8,[1,5,6,7],[2.0...|       0|[9.18415452851829...|[0.99989735736609...|       0.0|\n",
            "|(8,[1,5,6,7],[2.0...|       0|[7.60588518976087...|[0.99950273256642...|       0.0|\n",
            "|(8,[1,5,6,7],[2.0...|       0|[9.66161484428721...|[0.99993632245210...|       0.0|\n",
            "|(8,[1,5,6,7],[2.0...|       0|[11.4559173781815...|[0.99998941346836...|       0.0|\n",
            "|(8,[1,5,6,7],[2.0...|       0|[8.99776691257854...|[0.99987632959936...|       0.0|\n",
            "|(8,[1,5,6,7],[2.0...|       0|[4.38183600198296...|[0.98765199633697...|       0.0|\n",
            "|(8,[1,5,6,7],[3.0...|       0|[7.71967277289875...|[0.99955619118283...|       0.0|\n",
            "|(8,[1,5,6,7],[3.0...|       0|[8.81315920361036...|[0.99985125958537...|       0.0|\n",
            "|(8,[1,5,6,7],[3.0...|       0|[11.7860846515244...|[0.99999239034149...|       0.0|\n",
            "|(8,[1,5,6,7],[3.0...|       0|[4.89248796674669...|[0.99255313912110...|       0.0|\n",
            "|(8,[1,5,6,7],[3.0...|       0|[6.25828775862969...|[0.99808913727301...|       0.0|\n",
            "|(8,[1,5,6,7],[3.0...|       0|[7.43514160930446...|[0.99941020266533...|       0.0|\n",
            "|(8,[1,5,6,7],[3.0...|       0|[9.51228576169224...|[0.99992606762225...|       0.0|\n",
            "|(8,[1,5,6,7],[3.0...|       0|[7.23797417920582...|[0.99928174987595...|       0.0|\n",
            "|(8,[1,5,6,7],[3.0...|       0|[13.2378273904033...|[0.99999821809790...|       0.0|\n",
            "|(8,[1,5,6,7],[3.0...|       0|[10.4067937525854...|[0.99996977448064...|       0.0|\n",
            "|(8,[1,5,6,7],[3.0...|       0|[7.33253993124793...|[0.99934651673149...|       0.0|\n",
            "|(8,[1,5,6,7],[3.0...|       0|[7.89895533161844...|[0.99962900664026...|       0.0|\n",
            "|(8,[1,5,6,7],[3.0...|       0|[6.55036399967572...|[0.99857244569326...|       0.0|\n",
            "|(8,[1,5,6,7],[3.0...|       0|[13.2515632084744...|[0.99999824240641...|       0.0|\n",
            "|(8,[1,5,6,7],[3.0...|       0|[11.0792500741682...|[0.99998457105864...|       0.0|\n",
            "|(8,[1,5,6,7],[3.0...|       0|[8.56359758929518...|[0.99980910528308...|       0.0|\n",
            "|(8,[1,5,6,7],[3.0...|       0|[5.69686274795451...|[0.99665474918660...|       0.0|\n",
            "|(8,[1,5,6,7],[3.0...|       0|[4.29975942220578...|[0.98660990431900...|       0.0|\n",
            "|(8,[1,5,6,7],[3.0...|       0|[5.28085337282018...|[0.99493767066717...|       0.0|\n",
            "|(8,[1,5,6,7],[4.0...|       0|[8.32161933983851...|[0.99975685741374...|       0.0|\n",
            "|(8,[1,5,6,7],[4.0...|       0|[9.83666349664502...|[0.99994654748939...|       0.0|\n",
            "|(8,[1,5,6,7],[4.0...|       0|[13.6572103884900...|[0.99999882848357...|       0.0|\n",
            "|(8,[1,5,6,7],[4.0...|       0|[11.1953505345664...|[0.99998626226692...|       0.0|\n",
            "|(8,[1,5,6,7],[4.0...|       0|[7.93077015011862...|[0.99964061977052...|       0.0|\n",
            "|(8,[1,5,6,7],[4.0...|       0|[11.1187748076464...|[0.99998516898020...|       0.0|\n",
            "|(8,[1,5,6,7],[4.0...|       0|[6.89482884376244...|[0.99898801480873...|       0.0|\n",
            "|(8,[1,5,6,7],[4.0...|       0|[7.16298027691313...|[0.99922585759779...|       0.0|\n",
            "|(8,[1,5,6,7],[4.0...|       0|[6.37719531454082...|[0.99830300078496...|       0.0|\n",
            "|(8,[1,5,6,7],[4.0...|       0|[5.16250007124624...|[0.99430525292717...|       0.0|\n",
            "|(8,[1,5,6,7],[4.0...|       0|[6.63013891957648...|[0.99868176034732...|       0.0|\n",
            "|(8,[1,5,6,7],[4.0...|       0|[9.19809203699849...|[0.99989877788165...|       0.0|\n",
            "|(8,[1,5,6,7],[4.0...|       0|[9.55721221518422...|[0.99992931540506...|       0.0|\n",
            "|(8,[1,5,6,7],[4.0...|       0|[4.80089247190207...|[0.99184465107832...|       0.0|\n",
            "|(8,[1,5,6,7],[4.0...|       0|[8.75586913822121...|[0.99984249079545...|       0.0|\n",
            "|(8,[1,5,6,7],[4.0...|       0|[13.6947243835096...|[0.99999887161766...|       0.0|\n",
            "|(8,[1,5,6,7],[4.0...|       0|[5.84493971749413...|[0.99711384480704...|       0.0|\n",
            "|(8,[1,5,6,7],[4.0...|       0|[7.71622045317468...|[0.99955465704860...|       0.0|\n",
            "|(8,[1,5,6,7],[4.0...|       0|[5.44675807523009...|[0.99570824298066...|       0.0|\n",
            "|(8,[1,5,6,7],[5.0...|       0|[7.64428306621016...|[0.99952145567832...|       0.0|\n",
            "|(8,[1,5,6,7],[5.0...|       0|[6.71661325349006...|[0.99879083247575...|       0.0|\n",
            "|(8,[1,5,6,7],[5.0...|       0|[9.68676040973108...|[0.99993790359790...|       0.0|\n",
            "|(8,[1,5,6,7],[5.0...|       0|[5.37217778070819...|[0.99537746044295...|       0.0|\n",
            "|(8,[1,5,6,7],[5.0...|       0|[7.26904696606389...|[0.99930370943002...|       0.0|\n",
            "|(8,[1,5,6,7],[5.0...|       0|[9.31728060315698...|[0.99991015013588...|       0.0|\n",
            "|(8,[1,5,6,7],[5.0...|       0|[6.05681096315438...|[0.99766361422102...|       0.0|\n",
            "|(8,[1,5,6,7],[5.0...|       0|[5.91791814812905...|[0.99731642476503...|       0.0|\n",
            "|(8,[1,5,6,7],[5.0...|       0|[9.26672777295933...|[0.99990549164226...|       0.0|\n",
            "|(8,[1,5,6,7],[5.0...|       0|[8.04744423308709...|[0.99968018379944...|       0.0|\n",
            "|(8,[1,5,6,7],[5.0...|       0|[11.3644024908756...|[0.99998839894008...|       0.0|\n",
            "|(8,[1,5,6,7],[5.0...|       0|[12.0467239547721...|[0.99999413630037...|       0.0|\n",
            "|(8,[1,5,6,7],[5.0...|       0|[10.1251813733352...|[0.99995994357330...|       0.0|\n",
            "|(8,[1,5,6,7],[5.0...|       0|[4.83349391962880...|[0.99210417454175...|       0.0|\n",
            "|(8,[1,5,6,7],[5.0...|       0|[12.4850376011073...|[0.99999621718222...|       0.0|\n",
            "|(8,[1,5,6,7],[5.0...|       0|[11.6263722667124...|[0.99999107256282...|       0.0|\n",
            "|(8,[1,5,6,7],[5.0...|       0|[11.9142836792188...|[0.99999330594255...|       0.0|\n",
            "|(8,[1,5,6,7],[5.0...|       0|[7.40123530303176...|[0.99938987433565...|       0.0|\n",
            "|(8,[1,5,6,7],[5.0...|       0|[11.8448829088138...|[0.99999282487291...|       0.0|\n",
            "|(8,[1,5,6,7],[5.0...|       0|[7.57447475689414...|[0.99948687342850...|       0.0|\n",
            "|(8,[1,5,6,7],[5.0...|       0|[6.46054803005401...|[0.99843850369376...|       0.0|\n",
            "|(8,[1,5,6,7],[5.0...|       0|[9.83961771078878...|[0.99994670515813...|       0.0|\n",
            "|(8,[1,5,6,7],[5.0...|       0|[11.0624611075160...|[0.99998430984006...|       0.0|\n",
            "+--------------------+--------+--------------------+--------------------+----------+\n",
            "only showing top 100 rows\n",
            "\n"
          ]
        }
      ]
    },
    {
      "cell_type": "code",
      "metadata": {
        "id": "A4BHCxCiQ4l-",
        "colab": {
          "base_uri": "https://localhost:8080/"
        },
        "outputId": "dc432cba-99cc-4a84-990a-2909c06d0146"
      },
      "source": [
        "# How well the model works:\n",
        "evaluator = BinaryClassificationEvaluator(rawPredictionCol= 'rawPrediction', labelCol='diabetes')\n",
        "evaluator.evaluate(model.transform(test))"
      ],
      "execution_count": 34,
      "outputs": [
        {
          "output_type": "execute_result",
          "data": {
            "text/plain": [
              "0.9558051123857909"
            ]
          },
          "metadata": {},
          "execution_count": 34
        }
      ]
    },
    {
      "cell_type": "code",
      "metadata": {
        "id": "ERpRUFOHQ4x5"
      },
      "source": [
        "# Save model:\n",
        "model.save(\"model\")"
      ],
      "execution_count": 35,
      "outputs": []
    },
    {
      "cell_type": "code",
      "metadata": {
        "id": "4zSA9_KCQ47W"
      },
      "source": [
        "# Load saved model back to the environment:\n",
        "from pyspark.ml.classification import LogisticRegressionModel\n",
        "\n",
        "model = LogisticRegressionModel.load('model')"
      ],
      "execution_count": 36,
      "outputs": []
    },
    {
      "cell_type": "markdown",
      "metadata": {
        "id": "Iznukr-xRANo"
      },
      "source": [
        "# PART 7: Prediction on New Data with the saved model"
      ]
    },
    {
      "cell_type": "code",
      "metadata": {
        "id": "MBq2hq27RdHB"
      },
      "source": [
        "# Create a new spark dataframe:\n",
        "test_df = spark.read.csv('/content/Project-4/Luis/Dataset/diabetes_test_dataset.csv', header=True, inferSchema=True)"
      ],
      "execution_count": 37,
      "outputs": []
    },
    {
      "cell_type": "code",
      "source": [
        "# Assign in the 'gender'column 'Female' = 0, and 'Male' = 1:\n",
        "from pyspark.sql.functions import when, col\n",
        "test_df = test_df.withColumn(\"gender\",\n",
        "    when(col(\"gender\") == \"Female\", 0).\n",
        "    when(col(\"gender\") == \"Male\", 1).\n",
        "    otherwise(col(\"gender\"))\n",
        ")\n",
        "test_df.show()"
      ],
      "metadata": {
        "colab": {
          "base_uri": "https://localhost:8080/"
        },
        "id": "N1uvhlMdSTjk",
        "outputId": "ac4af576-0510-402e-b7fc-4e2e3d4efe5f"
      },
      "execution_count": 38,
      "outputs": [
        {
          "output_type": "stream",
          "name": "stdout",
          "text": [
            "+------+---+------------+-------------+---------------+-----+-----------+-------------------+\n",
            "|gender|age|hypertension|heart_disease|smoking_history|  bmi|HbA1c_level|blood_glucose_level|\n",
            "+------+---+------------+-------------+---------------+-----+-----------+-------------------+\n",
            "|     0| 80|           1|            1|              0|25.19|        6.6|                140|\n",
            "|     1| 28|           0|            0|              0|27.32|        5.7|                158|\n",
            "|     0| 36|           0|            0|              3|23.45|        5.0|                155|\n",
            "|     1| 76|           1|            1|              3|20.14|        4.8|                155|\n",
            "|     0| 20|           0|            0|              0|27.32|        6.6|                 85|\n",
            "|     0| 44|           0|            0|              0|19.31|        6.5|                200|\n",
            "|     1| 42|           0|            0|              0|33.64|        4.8|                145|\n",
            "|     0| 32|           0|            0|              0|27.32|        5.0|                100|\n",
            "+------+---+------------+-------------+---------------+-----+-----------+-------------------+\n",
            "\n"
          ]
        }
      ]
    },
    {
      "cell_type": "code",
      "metadata": {
        "id": "J7jtGf4lRdaz"
      },
      "source": [
        "# Create an additional feature merged column:\n",
        "test_data = assembler.transform(test_df)"
      ],
      "execution_count": 39,
      "outputs": []
    },
    {
      "cell_type": "code",
      "metadata": {
        "id": "kd1glzOnRdkq",
        "colab": {
          "base_uri": "https://localhost:8080/"
        },
        "outputId": "e446d744-4691-422b-be98-14dbbcf16fc0"
      },
      "source": [
        "# Print the schema:\n",
        "test_data.printSchema()"
      ],
      "execution_count": 40,
      "outputs": [
        {
          "output_type": "stream",
          "name": "stdout",
          "text": [
            "root\n",
            " |-- gender: integer (nullable = true)\n",
            " |-- age: integer (nullable = true)\n",
            " |-- hypertension: integer (nullable = true)\n",
            " |-- heart_disease: integer (nullable = true)\n",
            " |-- smoking_history: integer (nullable = true)\n",
            " |-- bmi: double (nullable = true)\n",
            " |-- HbA1c_level: double (nullable = true)\n",
            " |-- blood_glucose_level: integer (nullable = true)\n",
            " |-- features: vector (nullable = true)\n",
            "\n"
          ]
        }
      ]
    },
    {
      "cell_type": "code",
      "metadata": {
        "id": "40Dck7K_Rdxh",
        "colab": {
          "base_uri": "https://localhost:8080/"
        },
        "outputId": "a197fc99-b213-435a-dded-f7bd02b330a0"
      },
      "source": [
        "# Use model to make predictions:\n",
        "results = model.transform(test_data)\n",
        "results.printSchema()"
      ],
      "execution_count": 41,
      "outputs": [
        {
          "output_type": "stream",
          "name": "stdout",
          "text": [
            "root\n",
            " |-- gender: integer (nullable = true)\n",
            " |-- age: integer (nullable = true)\n",
            " |-- hypertension: integer (nullable = true)\n",
            " |-- heart_disease: integer (nullable = true)\n",
            " |-- smoking_history: integer (nullable = true)\n",
            " |-- bmi: double (nullable = true)\n",
            " |-- HbA1c_level: double (nullable = true)\n",
            " |-- blood_glucose_level: integer (nullable = true)\n",
            " |-- features: vector (nullable = true)\n",
            " |-- rawPrediction: vector (nullable = true)\n",
            " |-- probability: vector (nullable = true)\n",
            " |-- prediction: double (nullable = false)\n",
            "\n"
          ]
        }
      ]
    },
    {
      "cell_type": "code",
      "metadata": {
        "id": "AHpfS2SjRd7s",
        "colab": {
          "base_uri": "https://localhost:8080/"
        },
        "outputId": "55a39abc-d54f-48b7-cc68-9beade113384"
      },
      "source": [
        "# Display the predictions:\n",
        "results.select('features','prediction').show()"
      ],
      "execution_count": 42,
      "outputs": [
        {
          "output_type": "stream",
          "name": "stdout",
          "text": [
            "+--------------------+----------+\n",
            "|            features|prediction|\n",
            "+--------------------+----------+\n",
            "|[0.0,80.0,1.0,1.0...|       1.0|\n",
            "|[1.0,28.0,0.0,0.0...|       0.0|\n",
            "|[0.0,36.0,0.0,0.0...|       0.0|\n",
            "|[1.0,76.0,1.0,1.0...|       0.0|\n",
            "|(8,[1,5,6,7],[20....|       0.0|\n",
            "|(8,[1,5,6,7],[44....|       0.0|\n",
            "|[1.0,42.0,0.0,0.0...|       0.0|\n",
            "|(8,[1,5,6,7],[32....|       0.0|\n",
            "+--------------------+----------+\n",
            "\n"
          ]
        }
      ]
    }
  ]
}