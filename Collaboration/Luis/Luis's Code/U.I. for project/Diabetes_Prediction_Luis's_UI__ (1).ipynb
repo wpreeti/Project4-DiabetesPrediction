{
  "nbformat": 4,
  "nbformat_minor": 0,
  "metadata": {
    "colab": {
      "provenance": []
    },
    "kernelspec": {
      "name": "python3",
      "display_name": "Python 3"
    }
  },
  "cells": [
    {
      "cell_type": "markdown",
      "metadata": {
        "id": "Snq4iq_JOB4T"
      },
      "source": [
        "# PART 1 : Install Dependencies & Run Spark Session"
      ]
    },
    {
      "cell_type": "code",
      "metadata": {
        "id": "NpCRBcqtN5lH",
        "colab": {
          "base_uri": "https://localhost:8080/"
        },
        "outputId": "03267002-d8ec-4389-a10e-3fb1396de678"
      },
      "source": [
        "#install pyspark\n",
        "! pip install pyspark\n",
        "\n",
        "from pyspark.sql.functions import when, col"
      ],
      "execution_count": 1,
      "outputs": [
        {
          "output_type": "stream",
          "name": "stdout",
          "text": [
            "Requirement already satisfied: pyspark in /usr/local/lib/python3.10/dist-packages (3.5.1)\n",
            "Requirement already satisfied: py4j==0.10.9.7 in /usr/local/lib/python3.10/dist-packages (from pyspark) (0.10.9.7)\n"
          ]
        }
      ]
    },
    {
      "cell_type": "code",
      "metadata": {
        "id": "GNZoOuDqOdxX"
      },
      "source": [
        "#create a sparksession\n",
        "from pyspark.sql import SparkSession\n",
        "spark = SparkSession.builder.appName(\"spark\").getOrCreate()"
      ],
      "execution_count": 2,
      "outputs": []
    },
    {
      "cell_type": "markdown",
      "metadata": {
        "id": "5sG3MLXlOews"
      },
      "source": [
        "# PART 2: Clone & Explore dataset"
      ]
    },
    {
      "cell_type": "code",
      "metadata": {
        "id": "-Uh5H7_KOoSL",
        "colab": {
          "base_uri": "https://localhost:8080/"
        },
        "outputId": "87deefc3-18dc-4559-d5e6-04ae9400691b"
      },
      "source": [
        "#clone the diabetes dataset from the github repository\n",
        "# if you get error saying \"Project-4 directory already exists, move to next cell\"\n",
        "! git clone https://github.com/elluis1001/Project-4/"
      ],
      "execution_count": 3,
      "outputs": [
        {
          "output_type": "stream",
          "name": "stdout",
          "text": [
            "fatal: destination path 'Project-4' already exists and is not an empty directory.\n"
          ]
        }
      ]
    },
    {
      "cell_type": "code",
      "metadata": {
        "id": "VcqwJRxVOutr",
        "colab": {
          "base_uri": "https://localhost:8080/"
        },
        "outputId": "4d0eafae-7a91-44d2-a1d5-b1999157f081"
      },
      "source": [
        "#check if the dataset exists\n",
        "! ls /content/Project-4/Luis/Dataset/"
      ],
      "execution_count": 4,
      "outputs": [
        {
          "output_type": "stream",
          "name": "stdout",
          "text": [
            "diabetes_prediction_dataset.csv  diabetes_test_dataset.csv\n"
          ]
        }
      ]
    },
    {
      "cell_type": "code",
      "metadata": {
        "id": "ST1rFFOlOu8s"
      },
      "source": [
        "#create spark dataframe\n",
        "df_diabetes_data = spark.read.csv(\"/content/Project-4/Luis/Dataset/diabetes_prediction_dataset.csv\", header=True, inferSchema=True)"
      ],
      "execution_count": 5,
      "outputs": []
    },
    {
      "cell_type": "code",
      "metadata": {
        "id": "IiJm-pmROvKd",
        "colab": {
          "base_uri": "https://localhost:8080/"
        },
        "outputId": "9150971f-425d-4815-cf87-8a8bc8b807ec"
      },
      "source": [
        "#display the dataframe\n",
        "df_diabetes_data.show()"
      ],
      "execution_count": 6,
      "outputs": [
        {
          "output_type": "stream",
          "name": "stdout",
          "text": [
            "+------+----+------------+-------------+---------------+-----+-----------+-------------------+--------+\n",
            "|gender| age|hypertension|heart_disease|smoking_history|  bmi|HbA1c_level|blood_glucose_level|diabetes|\n",
            "+------+----+------------+-------------+---------------+-----+-----------+-------------------+--------+\n",
            "|Female|80.0|           0|            1|          never|25.19|        6.6|                140|       0|\n",
            "|Female|54.0|           0|            0|        No Info|27.32|        6.6|                 80|       0|\n",
            "|  Male|28.0|           0|            0|          never|27.32|        5.7|                158|       0|\n",
            "|Female|36.0|           0|            0|        current|23.45|        5.0|                155|       0|\n",
            "|  Male|76.0|           1|            1|        current|20.14|        4.8|                155|       0|\n",
            "|Female|20.0|           0|            0|          never|27.32|        6.6|                 85|       0|\n",
            "|Female|44.0|           0|            0|          never|19.31|        6.5|                200|       1|\n",
            "|Female|79.0|           0|            0|        No Info|23.86|        5.7|                 85|       0|\n",
            "|  Male|42.0|           0|            0|          never|33.64|        4.8|                145|       0|\n",
            "|Female|32.0|           0|            0|          never|27.32|        5.0|                100|       0|\n",
            "|Female|53.0|           0|            0|          never|27.32|        6.1|                 85|       0|\n",
            "|Female|54.0|           0|            0|         former| 54.7|        6.0|                100|       0|\n",
            "|Female|78.0|           0|            0|         former|36.05|        5.0|                130|       0|\n",
            "|Female|67.0|           0|            0|          never|25.69|        5.8|                200|       0|\n",
            "|Female|76.0|           0|            0|        No Info|27.32|        5.0|                160|       0|\n",
            "|  Male|78.0|           0|            0|        No Info|27.32|        6.6|                126|       0|\n",
            "|  Male|15.0|           0|            0|          never|30.36|        6.1|                200|       0|\n",
            "|Female|42.0|           0|            0|          never|24.48|        5.7|                158|       0|\n",
            "|Female|42.0|           0|            0|        No Info|27.32|        5.7|                 80|       0|\n",
            "|  Male|37.0|           0|            0|           ever|25.72|        3.5|                159|       0|\n",
            "+------+----+------------+-------------+---------------+-----+-----------+-------------------+--------+\n",
            "only showing top 20 rows\n",
            "\n"
          ]
        }
      ]
    },
    {
      "cell_type": "code",
      "source": [
        "#show amount of rows\n",
        "df_diabetes_data.count()"
      ],
      "metadata": {
        "colab": {
          "base_uri": "https://localhost:8080/"
        },
        "id": "MKF7kv1AI2pw",
        "outputId": "768c6419-07cd-437c-dfcd-f7d113cc4789"
      },
      "execution_count": 7,
      "outputs": [
        {
          "output_type": "execute_result",
          "data": {
            "text/plain": [
              "100000"
            ]
          },
          "metadata": {},
          "execution_count": 7
        }
      ]
    },
    {
      "cell_type": "code",
      "metadata": {
        "id": "Ulqkuz8aOvV6",
        "colab": {
          "base_uri": "https://localhost:8080/"
        },
        "outputId": "39a4e542-3d5b-4408-89d7-cf873d43e103"
      },
      "source": [
        "#print the schema\n",
        "df_diabetes_data.printSchema()"
      ],
      "execution_count": 8,
      "outputs": [
        {
          "output_type": "stream",
          "name": "stdout",
          "text": [
            "root\n",
            " |-- gender: string (nullable = true)\n",
            " |-- age: double (nullable = true)\n",
            " |-- hypertension: integer (nullable = true)\n",
            " |-- heart_disease: integer (nullable = true)\n",
            " |-- smoking_history: string (nullable = true)\n",
            " |-- bmi: double (nullable = true)\n",
            " |-- HbA1c_level: double (nullable = true)\n",
            " |-- blood_glucose_level: integer (nullable = true)\n",
            " |-- diabetes: integer (nullable = true)\n",
            "\n"
          ]
        }
      ]
    },
    {
      "cell_type": "code",
      "metadata": {
        "id": "kpZlF2S2Ovgw",
        "colab": {
          "base_uri": "https://localhost:8080/"
        },
        "outputId": "17ed403a-a2e7-427e-d029-8658ae8e2a67"
      },
      "source": [
        "#count the total no. of diabetic and non-diabetic class (values of 1 indicating the presence of diabetes and 0 indicating the absence of diabetes)\n",
        "print((df_diabetes_data.count(), len(df_diabetes_data.columns)))\n",
        "df_diabetes_data.groupBy('diabetes').count().show()"
      ],
      "execution_count": 9,
      "outputs": [
        {
          "output_type": "stream",
          "name": "stdout",
          "text": [
            "(100000, 9)\n",
            "+--------+-----+\n",
            "|diabetes|count|\n",
            "+--------+-----+\n",
            "|       1| 8500|\n",
            "|       0|91500|\n",
            "+--------+-----+\n",
            "\n"
          ]
        }
      ]
    },
    {
      "cell_type": "code",
      "source": [
        "#count the total no. of gender types\n",
        "print((df_diabetes_data.count(), len(df_diabetes_data.columns)))\n",
        "df_diabetes_data.groupBy('gender').count().show()"
      ],
      "metadata": {
        "colab": {
          "base_uri": "https://localhost:8080/"
        },
        "id": "3f2sAuuh9iY7",
        "outputId": "8a4c25f7-97d6-4e3b-d7c9-39a04cea7dba"
      },
      "execution_count": 10,
      "outputs": [
        {
          "output_type": "stream",
          "name": "stdout",
          "text": [
            "(100000, 9)\n",
            "+------+-----+\n",
            "|gender|count|\n",
            "+------+-----+\n",
            "|Female|58552|\n",
            "| Other|   18|\n",
            "|  Male|41430|\n",
            "+------+-----+\n",
            "\n"
          ]
        }
      ]
    },
    {
      "cell_type": "code",
      "source": [
        "#check to see if there are any empty values in the 'gender' column\n",
        "df_diabetes_data[df_diabetes_data['gender'] == '']"
      ],
      "metadata": {
        "colab": {
          "base_uri": "https://localhost:8080/"
        },
        "id": "muPOXP7dF2Jl",
        "outputId": "46bad823-627b-4e9d-f54d-41df1ac31676"
      },
      "execution_count": 11,
      "outputs": [
        {
          "output_type": "execute_result",
          "data": {
            "text/plain": [
              "DataFrame[gender: string, age: double, hypertension: int, heart_disease: int, smoking_history: string, bmi: double, HbA1c_level: double, blood_glucose_level: int, diabetes: int]"
            ]
          },
          "metadata": {},
          "execution_count": 11
        }
      ]
    },
    {
      "cell_type": "code",
      "metadata": {
        "id": "NewCNZEMOvtM",
        "colab": {
          "base_uri": "https://localhost:8080/"
        },
        "outputId": "d6e50aab-a8ca-4b02-b9a1-4d133cbf2b3d"
      },
      "source": [
        "#get the summary statistics\n",
        "df_diabetes_data.describe().show()"
      ],
      "execution_count": 12,
      "outputs": [
        {
          "output_type": "stream",
          "name": "stdout",
          "text": [
            "+-------+------+-----------------+------------------+------------------+---------------+-----------------+------------------+-------------------+-------------------+\n",
            "|summary|gender|              age|      hypertension|     heart_disease|smoking_history|              bmi|       HbA1c_level|blood_glucose_level|           diabetes|\n",
            "+-------+------+-----------------+------------------+------------------+---------------+-----------------+------------------+-------------------+-------------------+\n",
            "|  count|100000|           100000|            100000|            100000|         100000|           100000|            100000|             100000|             100000|\n",
            "|   mean|  NULL|41.88585600000013|           0.07485|           0.03942|           NULL|27.32076709999422|5.5275069999983275|          138.05806|              0.085|\n",
            "| stddev|  NULL|22.51683987161704|0.2631504702289171|0.1945930169980986|           NULL|6.636783416648357|1.0706720918835468|  40.70813604870383|0.27888308976661896|\n",
            "|    min|Female|             0.08|                 0|                 0|        No Info|            10.01|               3.5|                 80|                  0|\n",
            "|    max| Other|             80.0|                 1|                 1|    not current|            95.69|               9.0|                300|                  1|\n",
            "+-------+------+-----------------+------------------+------------------+---------------+-----------------+------------------+-------------------+-------------------+\n",
            "\n"
          ]
        }
      ]
    },
    {
      "cell_type": "markdown",
      "metadata": {
        "id": "gZerPOR-OyjQ"
      },
      "source": [
        "# PART 3: Data Cleaning & Preparation"
      ]
    },
    {
      "cell_type": "code",
      "metadata": {
        "id": "Q-KkJvV_PFFU",
        "colab": {
          "base_uri": "https://localhost:8080/"
        },
        "outputId": "d25e4a8f-31b6-4a87-b9ab-bcc0bd9e04d6"
      },
      "source": [
        "#check for null values\n",
        "for col in df_diabetes_data.columns:\n",
        "  print(col + \":\", df_diabetes_data[df_diabetes_data[col].isNull()].count())"
      ],
      "execution_count": 13,
      "outputs": [
        {
          "output_type": "stream",
          "name": "stdout",
          "text": [
            "gender: 0\n",
            "age: 0\n",
            "hypertension: 0\n",
            "heart_disease: 0\n",
            "smoking_history: 0\n",
            "bmi: 0\n",
            "HbA1c_level: 0\n",
            "blood_glucose_level: 0\n",
            "diabetes: 0\n"
          ]
        }
      ]
    },
    {
      "cell_type": "code",
      "metadata": {
        "id": "ZJsbgwZMPFQC"
      },
      "source": [
        "#look for the unnecessary values present\n",
        "def count_zeros():\n",
        "  columns_list = [\"age\", \"bmi\", \"HbA1c_level\", \"blood_glucose_level\"]\n",
        "  for i in columns_list:\n",
        "    print(i+\":\",df_diabetes_data[df_diabetes_data[i]==0].count())"
      ],
      "execution_count": 14,
      "outputs": []
    },
    {
      "cell_type": "code",
      "metadata": {
        "id": "pcXTErb9PFbo",
        "colab": {
          "base_uri": "https://localhost:8080/"
        },
        "outputId": "1376ae03-6ddb-40f0-fbf6-6e2afabd2954"
      },
      "source": [
        "count_zeros()"
      ],
      "execution_count": 15,
      "outputs": [
        {
          "output_type": "stream",
          "name": "stdout",
          "text": [
            "age: 0\n",
            "bmi: 0\n",
            "HbA1c_level: 0\n",
            "blood_glucose_level: 0\n"
          ]
        }
      ]
    },
    {
      "cell_type": "code",
      "metadata": {
        "id": "C0bk0Ps_PFwk",
        "colab": {
          "base_uri": "https://localhost:8080/"
        },
        "outputId": "70fc3023-f39a-4690-8451-41abf221d6cd"
      },
      "source": [
        "#display the dataframe\n",
        "df_diabetes_data.show()"
      ],
      "execution_count": 16,
      "outputs": [
        {
          "output_type": "stream",
          "name": "stdout",
          "text": [
            "+------+----+------------+-------------+---------------+-----+-----------+-------------------+--------+\n",
            "|gender| age|hypertension|heart_disease|smoking_history|  bmi|HbA1c_level|blood_glucose_level|diabetes|\n",
            "+------+----+------------+-------------+---------------+-----+-----------+-------------------+--------+\n",
            "|Female|80.0|           0|            1|          never|25.19|        6.6|                140|       0|\n",
            "|Female|54.0|           0|            0|        No Info|27.32|        6.6|                 80|       0|\n",
            "|  Male|28.0|           0|            0|          never|27.32|        5.7|                158|       0|\n",
            "|Female|36.0|           0|            0|        current|23.45|        5.0|                155|       0|\n",
            "|  Male|76.0|           1|            1|        current|20.14|        4.8|                155|       0|\n",
            "|Female|20.0|           0|            0|          never|27.32|        6.6|                 85|       0|\n",
            "|Female|44.0|           0|            0|          never|19.31|        6.5|                200|       1|\n",
            "|Female|79.0|           0|            0|        No Info|23.86|        5.7|                 85|       0|\n",
            "|  Male|42.0|           0|            0|          never|33.64|        4.8|                145|       0|\n",
            "|Female|32.0|           0|            0|          never|27.32|        5.0|                100|       0|\n",
            "|Female|53.0|           0|            0|          never|27.32|        6.1|                 85|       0|\n",
            "|Female|54.0|           0|            0|         former| 54.7|        6.0|                100|       0|\n",
            "|Female|78.0|           0|            0|         former|36.05|        5.0|                130|       0|\n",
            "|Female|67.0|           0|            0|          never|25.69|        5.8|                200|       0|\n",
            "|Female|76.0|           0|            0|        No Info|27.32|        5.0|                160|       0|\n",
            "|  Male|78.0|           0|            0|        No Info|27.32|        6.6|                126|       0|\n",
            "|  Male|15.0|           0|            0|          never|30.36|        6.1|                200|       0|\n",
            "|Female|42.0|           0|            0|          never|24.48|        5.7|                158|       0|\n",
            "|Female|42.0|           0|            0|        No Info|27.32|        5.7|                 80|       0|\n",
            "|  Male|37.0|           0|            0|           ever|25.72|        3.5|                159|       0|\n",
            "+------+----+------------+-------------+---------------+-----+-----------+-------------------+--------+\n",
            "only showing top 20 rows\n",
            "\n"
          ]
        }
      ]
    },
    {
      "cell_type": "code",
      "source": [
        "#drop the 'other' rows in the gender columns\n",
        "string_to_remove = \"Other\"\n",
        "df_diabetes_data = df_diabetes_data[df_diabetes_data['Gender'] != string_to_remove]"
      ],
      "metadata": {
        "id": "E1k77q7hKhIo"
      },
      "execution_count": 17,
      "outputs": []
    },
    {
      "cell_type": "code",
      "source": [
        "#count the total no. of gender types\n",
        "print((df_diabetes_data.count(), len(df_diabetes_data.columns)))\n",
        "df_diabetes_data.groupBy('gender').count().show()"
      ],
      "metadata": {
        "colab": {
          "base_uri": "https://localhost:8080/"
        },
        "id": "OXDmlg6KZgTn",
        "outputId": "dedb6820-6103-4231-cf87-0e36c005982a"
      },
      "execution_count": 18,
      "outputs": [
        {
          "output_type": "stream",
          "name": "stdout",
          "text": [
            "(99982, 9)\n",
            "+------+-----+\n",
            "|gender|count|\n",
            "+------+-----+\n",
            "|Female|58552|\n",
            "|  Male|41430|\n",
            "+------+-----+\n",
            "\n"
          ]
        }
      ]
    },
    {
      "cell_type": "code",
      "source": [
        "#count the total no. of smoker/non-smoker types\n",
        "print((df_diabetes_data.count(), len(df_diabetes_data.columns)))\n",
        "df_diabetes_data.groupBy('smoking_history').count().show()"
      ],
      "metadata": {
        "colab": {
          "base_uri": "https://localhost:8080/"
        },
        "id": "xwwTUAJLZ72A",
        "outputId": "3f670803-025d-4ef1-b25e-d43bf673bc49"
      },
      "execution_count": 19,
      "outputs": [
        {
          "output_type": "stream",
          "name": "stdout",
          "text": [
            "(99982, 9)\n",
            "+---------------+-----+\n",
            "|smoking_history|count|\n",
            "+---------------+-----+\n",
            "|    not current| 6439|\n",
            "|         former| 9352|\n",
            "|        No Info|35810|\n",
            "|        current| 9286|\n",
            "|          never|35092|\n",
            "|           ever| 4003|\n",
            "+---------------+-----+\n",
            "\n"
          ]
        }
      ]
    },
    {
      "cell_type": "code",
      "source": [
        "#drop the 'other' rows in the gender columns\n",
        "string_to_remove_1= \"No Info\"\n",
        "df_diabetes_data = df_diabetes_data[df_diabetes_data['smoking_history'] != string_to_remove_1]"
      ],
      "metadata": {
        "id": "KdN7OCA1cDnb"
      },
      "execution_count": 20,
      "outputs": []
    },
    {
      "cell_type": "code",
      "source": [
        "#count the total no. of smoker/non-smoker types\n",
        "print((df_diabetes_data.count(), len(df_diabetes_data.columns)))\n",
        "df_diabetes_data.groupBy('smoking_history').count().show()"
      ],
      "metadata": {
        "colab": {
          "base_uri": "https://localhost:8080/"
        },
        "id": "ZbxmgHOFcoEb",
        "outputId": "9943bb61-d322-4732-fc01-547194472ec4"
      },
      "execution_count": 21,
      "outputs": [
        {
          "output_type": "stream",
          "name": "stdout",
          "text": [
            "(64172, 9)\n",
            "+---------------+-----+\n",
            "|smoking_history|count|\n",
            "+---------------+-----+\n",
            "|    not current| 6439|\n",
            "|         former| 9352|\n",
            "|        current| 9286|\n",
            "|          never|35092|\n",
            "|           ever| 4003|\n",
            "+---------------+-----+\n",
            "\n"
          ]
        }
      ]
    },
    {
      "cell_type": "code",
      "source": [
        "#count the total no. of gender types\n",
        "print((df_diabetes_data.count(), len(df_diabetes_data.columns)))\n",
        "df_diabetes_data.groupBy('gender').count().show()"
      ],
      "metadata": {
        "colab": {
          "base_uri": "https://localhost:8080/"
        },
        "id": "ZKJc4_sLh_pJ",
        "outputId": "3eb34b6b-251f-45f8-e82f-5619db4b0360"
      },
      "execution_count": 22,
      "outputs": [
        {
          "output_type": "stream",
          "name": "stdout",
          "text": [
            "(64172, 9)\n",
            "+------+-----+\n",
            "|gender|count|\n",
            "+------+-----+\n",
            "|Female|38852|\n",
            "|  Male|25320|\n",
            "+------+-----+\n",
            "\n"
          ]
        }
      ]
    },
    {
      "cell_type": "code",
      "source": [
        "#assign in the 'gender'column 'Female' = 0, and 'Male' = 1\n",
        "from pyspark.sql.functions import when, col\n",
        "df_diabetes_data = df_diabetes_data.withColumn(\"gender\",\n",
        "    when(col(\"gender\") == \"Female\", 0).\n",
        "    when(col(\"gender\") == \"Male\", 1).\n",
        "    otherwise(col(\"gender\"))\n",
        ")\n",
        "df_diabetes_data.show()"
      ],
      "metadata": {
        "colab": {
          "base_uri": "https://localhost:8080/"
        },
        "id": "ZlK0I77Di1Yq",
        "outputId": "0f4d5091-a3ef-46ea-de6a-e7f8208eea75"
      },
      "execution_count": 23,
      "outputs": [
        {
          "output_type": "stream",
          "name": "stdout",
          "text": [
            "+------+----+------------+-------------+---------------+-----+-----------+-------------------+--------+\n",
            "|gender| age|hypertension|heart_disease|smoking_history|  bmi|HbA1c_level|blood_glucose_level|diabetes|\n",
            "+------+----+------------+-------------+---------------+-----+-----------+-------------------+--------+\n",
            "|     0|80.0|           0|            1|          never|25.19|        6.6|                140|       0|\n",
            "|     1|28.0|           0|            0|          never|27.32|        5.7|                158|       0|\n",
            "|     0|36.0|           0|            0|        current|23.45|        5.0|                155|       0|\n",
            "|     1|76.0|           1|            1|        current|20.14|        4.8|                155|       0|\n",
            "|     0|20.0|           0|            0|          never|27.32|        6.6|                 85|       0|\n",
            "|     0|44.0|           0|            0|          never|19.31|        6.5|                200|       1|\n",
            "|     1|42.0|           0|            0|          never|33.64|        4.8|                145|       0|\n",
            "|     0|32.0|           0|            0|          never|27.32|        5.0|                100|       0|\n",
            "|     0|53.0|           0|            0|          never|27.32|        6.1|                 85|       0|\n",
            "|     0|54.0|           0|            0|         former| 54.7|        6.0|                100|       0|\n",
            "|     0|78.0|           0|            0|         former|36.05|        5.0|                130|       0|\n",
            "|     0|67.0|           0|            0|          never|25.69|        5.8|                200|       0|\n",
            "|     1|15.0|           0|            0|          never|30.36|        6.1|                200|       0|\n",
            "|     0|42.0|           0|            0|          never|24.48|        5.7|                158|       0|\n",
            "|     1|37.0|           0|            0|           ever|25.72|        3.5|                159|       0|\n",
            "|     1|40.0|           0|            0|        current|36.38|        6.0|                 90|       0|\n",
            "|     0|69.0|           0|            0|          never|21.24|        4.8|                 85|       0|\n",
            "|     0|72.0|           0|            1|         former|27.94|        6.5|                130|       0|\n",
            "|     1|30.0|           0|            0|          never|33.76|        6.1|                126|       0|\n",
            "|     1|67.0|           0|            1|    not current|27.32|        6.5|                200|       1|\n",
            "+------+----+------------+-------------+---------------+-----+-----------+-------------------+--------+\n",
            "only showing top 20 rows\n",
            "\n"
          ]
        }
      ]
    },
    {
      "cell_type": "code",
      "source": [
        "#assign in the 'smoking_history': \"never\" = 0, \"ever\" = 1, \"not current\" = 2, \"current\" = 3, \"former\" = 4\n",
        "df_diabetes_data = df_diabetes_data.withColumn(\"smoking_history\",\n",
        "    when(col(\"smoking_history\") == \"never\", 0).\n",
        "    when(col(\"smoking_history\") == \"ever\", 1).\n",
        "    when(col(\"smoking_history\") == \"not current\", 2).\n",
        "    when(col(\"smoking_history\") == \"current\", 3).\n",
        "    when(col(\"smoking_history\") == \"former\", 4).\n",
        "    otherwise(col(\"smoking_history\"))\n",
        ")\n",
        "df_diabetes_data.show()"
      ],
      "metadata": {
        "colab": {
          "base_uri": "https://localhost:8080/"
        },
        "id": "j3RHqrEwlS_e",
        "outputId": "debede35-e998-4e70-a7b8-50dfef7234f8"
      },
      "execution_count": 24,
      "outputs": [
        {
          "output_type": "stream",
          "name": "stdout",
          "text": [
            "+------+----+------------+-------------+---------------+-----+-----------+-------------------+--------+\n",
            "|gender| age|hypertension|heart_disease|smoking_history|  bmi|HbA1c_level|blood_glucose_level|diabetes|\n",
            "+------+----+------------+-------------+---------------+-----+-----------+-------------------+--------+\n",
            "|     0|80.0|           0|            1|              0|25.19|        6.6|                140|       0|\n",
            "|     1|28.0|           0|            0|              0|27.32|        5.7|                158|       0|\n",
            "|     0|36.0|           0|            0|              3|23.45|        5.0|                155|       0|\n",
            "|     1|76.0|           1|            1|              3|20.14|        4.8|                155|       0|\n",
            "|     0|20.0|           0|            0|              0|27.32|        6.6|                 85|       0|\n",
            "|     0|44.0|           0|            0|              0|19.31|        6.5|                200|       1|\n",
            "|     1|42.0|           0|            0|              0|33.64|        4.8|                145|       0|\n",
            "|     0|32.0|           0|            0|              0|27.32|        5.0|                100|       0|\n",
            "|     0|53.0|           0|            0|              0|27.32|        6.1|                 85|       0|\n",
            "|     0|54.0|           0|            0|              4| 54.7|        6.0|                100|       0|\n",
            "|     0|78.0|           0|            0|              4|36.05|        5.0|                130|       0|\n",
            "|     0|67.0|           0|            0|              0|25.69|        5.8|                200|       0|\n",
            "|     1|15.0|           0|            0|              0|30.36|        6.1|                200|       0|\n",
            "|     0|42.0|           0|            0|              0|24.48|        5.7|                158|       0|\n",
            "|     1|37.0|           0|            0|              1|25.72|        3.5|                159|       0|\n",
            "|     1|40.0|           0|            0|              3|36.38|        6.0|                 90|       0|\n",
            "|     0|69.0|           0|            0|              0|21.24|        4.8|                 85|       0|\n",
            "|     0|72.0|           0|            1|              4|27.94|        6.5|                130|       0|\n",
            "|     1|30.0|           0|            0|              0|33.76|        6.1|                126|       0|\n",
            "|     1|67.0|           0|            1|              2|27.32|        6.5|                200|       1|\n",
            "+------+----+------------+-------------+---------------+-----+-----------+-------------------+--------+\n",
            "only showing top 20 rows\n",
            "\n"
          ]
        }
      ]
    },
    {
      "cell_type": "markdown",
      "metadata": {
        "id": "LOgSTdBpPs7G"
      },
      "source": [
        "# PART 4: Correlation Analysis & Feature Selection"
      ]
    },
    {
      "cell_type": "code",
      "source": [
        "# gender and smoking_history needs to be converted to float data type for model to work\n",
        "df_diabetes_data = df_diabetes_data.withColumn(\"gender\", col(\"gender\").cast('float'))\n",
        "df_diabetes_data = df_diabetes_data.withColumn(\"smoking_history\", col(\"smoking_history\").cast('float'))\n",
        "df_diabetes_data.show()\n"
      ],
      "metadata": {
        "id": "PVQ4iahSjL63",
        "outputId": "c28a37dd-fc02-439c-d420-185ba62c4c8c",
        "colab": {
          "base_uri": "https://localhost:8080/"
        }
      },
      "execution_count": 25,
      "outputs": [
        {
          "output_type": "stream",
          "name": "stdout",
          "text": [
            "+------+----+------------+-------------+---------------+-----+-----------+-------------------+--------+\n",
            "|gender| age|hypertension|heart_disease|smoking_history|  bmi|HbA1c_level|blood_glucose_level|diabetes|\n",
            "+------+----+------------+-------------+---------------+-----+-----------+-------------------+--------+\n",
            "|   0.0|80.0|           0|            1|            0.0|25.19|        6.6|                140|       0|\n",
            "|   1.0|28.0|           0|            0|            0.0|27.32|        5.7|                158|       0|\n",
            "|   0.0|36.0|           0|            0|            3.0|23.45|        5.0|                155|       0|\n",
            "|   1.0|76.0|           1|            1|            3.0|20.14|        4.8|                155|       0|\n",
            "|   0.0|20.0|           0|            0|            0.0|27.32|        6.6|                 85|       0|\n",
            "|   0.0|44.0|           0|            0|            0.0|19.31|        6.5|                200|       1|\n",
            "|   1.0|42.0|           0|            0|            0.0|33.64|        4.8|                145|       0|\n",
            "|   0.0|32.0|           0|            0|            0.0|27.32|        5.0|                100|       0|\n",
            "|   0.0|53.0|           0|            0|            0.0|27.32|        6.1|                 85|       0|\n",
            "|   0.0|54.0|           0|            0|            4.0| 54.7|        6.0|                100|       0|\n",
            "|   0.0|78.0|           0|            0|            4.0|36.05|        5.0|                130|       0|\n",
            "|   0.0|67.0|           0|            0|            0.0|25.69|        5.8|                200|       0|\n",
            "|   1.0|15.0|           0|            0|            0.0|30.36|        6.1|                200|       0|\n",
            "|   0.0|42.0|           0|            0|            0.0|24.48|        5.7|                158|       0|\n",
            "|   1.0|37.0|           0|            0|            1.0|25.72|        3.5|                159|       0|\n",
            "|   1.0|40.0|           0|            0|            3.0|36.38|        6.0|                 90|       0|\n",
            "|   0.0|69.0|           0|            0|            0.0|21.24|        4.8|                 85|       0|\n",
            "|   0.0|72.0|           0|            1|            4.0|27.94|        6.5|                130|       0|\n",
            "|   1.0|30.0|           0|            0|            0.0|33.76|        6.1|                126|       0|\n",
            "|   1.0|67.0|           0|            1|            2.0|27.32|        6.5|                200|       1|\n",
            "+------+----+------------+-------------+---------------+-----+-----------+-------------------+--------+\n",
            "only showing top 20 rows\n",
            "\n"
          ]
        }
      ]
    },
    {
      "cell_type": "code",
      "metadata": {
        "id": "7Eq6jdcFP_3C",
        "colab": {
          "base_uri": "https://localhost:8080/"
        },
        "outputId": "1603b282-13c2-400f-966e-7c9581d54b1d"
      },
      "source": [
        "#find the correlation among the set of input & output variables\n",
        "for i in df_diabetes_data.columns:\n",
        "  print(\"Correlation to outcome for {} is {}\".format(i, df_diabetes_data.stat.corr(\"diabetes\",i)))"
      ],
      "execution_count": 26,
      "outputs": [
        {
          "output_type": "stream",
          "name": "stdout",
          "text": [
            "Correlation to outcome for gender is 0.05699689368565596\n",
            "Correlation to outcome for age is 0.26084962459224337\n",
            "Correlation to outcome for hypertension is 0.19222574901207254\n",
            "Correlation to outcome for heart_disease is 0.16961397731730365\n",
            "Correlation to outcome for smoking_history is 0.06472564826560573\n",
            "Correlation to outcome for bmi is 0.20442115545137657\n",
            "Correlation to outcome for HbA1c_level is 0.43889709468177335\n",
            "Correlation to outcome for blood_glucose_level is 0.449697968864106\n",
            "Correlation to outcome for diabetes is 1.0\n"
          ]
        }
      ]
    },
    {
      "cell_type": "code",
      "metadata": {
        "id": "Fl7Edj-OQACn"
      },
      "source": [
        "#feature selection\n",
        "from pyspark.ml.feature import VectorAssembler\n",
        "\n",
        "assembler = VectorAssembler(inputCols = ['gender', 'age', 'hypertension', 'heart_disease',\n",
        "                                         'smoking_history', 'bmi', 'HbA1c_level', 'blood_glucose_level'], outputCol='features')\n",
        "output_data = assembler.transform(df_diabetes_data)"
      ],
      "execution_count": 27,
      "outputs": []
    },
    {
      "cell_type": "code",
      "metadata": {
        "id": "mJKrfqdaQAOy",
        "colab": {
          "base_uri": "https://localhost:8080/"
        },
        "outputId": "3f14c23d-a680-4a38-8bfa-c4a57f57061a"
      },
      "source": [
        "#print the schema\n",
        "output_data.printSchema()"
      ],
      "execution_count": 28,
      "outputs": [
        {
          "output_type": "stream",
          "name": "stdout",
          "text": [
            "root\n",
            " |-- gender: float (nullable = true)\n",
            " |-- age: double (nullable = true)\n",
            " |-- hypertension: integer (nullable = true)\n",
            " |-- heart_disease: integer (nullable = true)\n",
            " |-- smoking_history: float (nullable = true)\n",
            " |-- bmi: double (nullable = true)\n",
            " |-- HbA1c_level: double (nullable = true)\n",
            " |-- blood_glucose_level: integer (nullable = true)\n",
            " |-- diabetes: integer (nullable = true)\n",
            " |-- features: vector (nullable = true)\n",
            "\n"
          ]
        }
      ]
    },
    {
      "cell_type": "code",
      "metadata": {
        "id": "FURl7qESQAaQ",
        "colab": {
          "base_uri": "https://localhost:8080/"
        },
        "outputId": "9743d414-f03b-4ab1-d3a9-17d11a5eef45"
      },
      "source": [
        "#display dataframe\n",
        "output_data.show()"
      ],
      "execution_count": 29,
      "outputs": [
        {
          "output_type": "stream",
          "name": "stdout",
          "text": [
            "+------+----+------------+-------------+---------------+-----+-----------+-------------------+--------+--------------------+\n",
            "|gender| age|hypertension|heart_disease|smoking_history|  bmi|HbA1c_level|blood_glucose_level|diabetes|            features|\n",
            "+------+----+------------+-------------+---------------+-----+-----------+-------------------+--------+--------------------+\n",
            "|   0.0|80.0|           0|            1|            0.0|25.19|        6.6|                140|       0|[0.0,80.0,0.0,1.0...|\n",
            "|   1.0|28.0|           0|            0|            0.0|27.32|        5.7|                158|       0|[1.0,28.0,0.0,0.0...|\n",
            "|   0.0|36.0|           0|            0|            3.0|23.45|        5.0|                155|       0|[0.0,36.0,0.0,0.0...|\n",
            "|   1.0|76.0|           1|            1|            3.0|20.14|        4.8|                155|       0|[1.0,76.0,1.0,1.0...|\n",
            "|   0.0|20.0|           0|            0|            0.0|27.32|        6.6|                 85|       0|(8,[1,5,6,7],[20....|\n",
            "|   0.0|44.0|           0|            0|            0.0|19.31|        6.5|                200|       1|(8,[1,5,6,7],[44....|\n",
            "|   1.0|42.0|           0|            0|            0.0|33.64|        4.8|                145|       0|[1.0,42.0,0.0,0.0...|\n",
            "|   0.0|32.0|           0|            0|            0.0|27.32|        5.0|                100|       0|(8,[1,5,6,7],[32....|\n",
            "|   0.0|53.0|           0|            0|            0.0|27.32|        6.1|                 85|       0|(8,[1,5,6,7],[53....|\n",
            "|   0.0|54.0|           0|            0|            4.0| 54.7|        6.0|                100|       0|[0.0,54.0,0.0,0.0...|\n",
            "|   0.0|78.0|           0|            0|            4.0|36.05|        5.0|                130|       0|[0.0,78.0,0.0,0.0...|\n",
            "|   0.0|67.0|           0|            0|            0.0|25.69|        5.8|                200|       0|(8,[1,5,6,7],[67....|\n",
            "|   1.0|15.0|           0|            0|            0.0|30.36|        6.1|                200|       0|[1.0,15.0,0.0,0.0...|\n",
            "|   0.0|42.0|           0|            0|            0.0|24.48|        5.7|                158|       0|(8,[1,5,6,7],[42....|\n",
            "|   1.0|37.0|           0|            0|            1.0|25.72|        3.5|                159|       0|[1.0,37.0,0.0,0.0...|\n",
            "|   1.0|40.0|           0|            0|            3.0|36.38|        6.0|                 90|       0|[1.0,40.0,0.0,0.0...|\n",
            "|   0.0|69.0|           0|            0|            0.0|21.24|        4.8|                 85|       0|(8,[1,5,6,7],[69....|\n",
            "|   0.0|72.0|           0|            1|            4.0|27.94|        6.5|                130|       0|[0.0,72.0,0.0,1.0...|\n",
            "|   1.0|30.0|           0|            0|            0.0|33.76|        6.1|                126|       0|[1.0,30.0,0.0,0.0...|\n",
            "|   1.0|67.0|           0|            1|            2.0|27.32|        6.5|                200|       1|[1.0,67.0,0.0,1.0...|\n",
            "+------+----+------------+-------------+---------------+-----+-----------+-------------------+--------+--------------------+\n",
            "only showing top 20 rows\n",
            "\n"
          ]
        }
      ]
    },
    {
      "cell_type": "markdown",
      "metadata": {
        "id": "8fSjOdfyQA99"
      },
      "source": [
        "# PART 5: Split Dataset & Build the Model"
      ]
    },
    {
      "cell_type": "code",
      "metadata": {
        "id": "F89--FiVQQJn"
      },
      "source": [
        "#create final data\n",
        "from pyspark.ml.classification import LogisticRegression\n",
        "\n",
        "final_data = output_data.select('features','diabetes')"
      ],
      "execution_count": 30,
      "outputs": []
    },
    {
      "cell_type": "code",
      "metadata": {
        "id": "cKpm5912Qji_",
        "colab": {
          "base_uri": "https://localhost:8080/"
        },
        "outputId": "86999d8a-60fb-4e23-a868-e2b1ccf240d1"
      },
      "source": [
        "#print schema of final data\n",
        "final_data.printSchema()"
      ],
      "execution_count": 31,
      "outputs": [
        {
          "output_type": "stream",
          "name": "stdout",
          "text": [
            "root\n",
            " |-- features: vector (nullable = true)\n",
            " |-- diabetes: integer (nullable = true)\n",
            "\n"
          ]
        }
      ]
    },
    {
      "cell_type": "code",
      "metadata": {
        "id": "r_Nom7aZQjuN"
      },
      "source": [
        "#split the dataset ; build the model\n",
        "train, test = final_data.randomSplit([0.7, 0.3])\n",
        "models = LogisticRegression(labelCol= 'diabetes')\n",
        "model = models.fit(train)"
      ],
      "execution_count": 32,
      "outputs": []
    },
    {
      "cell_type": "code",
      "metadata": {
        "id": "OljO2HcIQj7E",
        "colab": {
          "base_uri": "https://localhost:8080/"
        },
        "outputId": "1db1089a-fe11-44cc-cab6-109c4582cc58"
      },
      "source": [
        "#summary of the model\n",
        "summary = model.summary\n",
        "summary.predictions.describe().show()"
      ],
      "execution_count": 33,
      "outputs": [
        {
          "output_type": "stream",
          "name": "stdout",
          "text": [
            "+-------+-------------------+------------------+\n",
            "|summary|           diabetes|        prediction|\n",
            "+-------+-------------------+------------------+\n",
            "|  count|              44868|             44868|\n",
            "|   mean|0.11036819113845056|0.0825978425603994|\n",
            "| stddev| 0.3133516266524633|0.2752764571390363|\n",
            "|    min|                0.0|               0.0|\n",
            "|    max|                1.0|               1.0|\n",
            "+-------+-------------------+------------------+\n",
            "\n"
          ]
        }
      ]
    },
    {
      "cell_type": "markdown",
      "metadata": {
        "id": "DfaD_vzfQkah"
      },
      "source": [
        "# PART 6: Evaluate and Save the Model"
      ]
    },
    {
      "cell_type": "code",
      "metadata": {
        "id": "CHC5Erq7Q4QN"
      },
      "source": [
        "from pyspark.ml.evaluation import BinaryClassificationEvaluator\n",
        "\n",
        "predictions = model.evaluate(test)"
      ],
      "execution_count": 34,
      "outputs": []
    },
    {
      "cell_type": "code",
      "metadata": {
        "id": "UBltVqoNQ4cM",
        "colab": {
          "base_uri": "https://localhost:8080/"
        },
        "outputId": "73dd195c-289c-4790-e20b-623958d8eac9"
      },
      "source": [
        "predictions.predictions.show(100)"
      ],
      "execution_count": 35,
      "outputs": [
        {
          "output_type": "stream",
          "name": "stdout",
          "text": [
            "+--------------------+--------+--------------------+--------------------+----------+\n",
            "|            features|diabetes|       rawPrediction|         probability|prediction|\n",
            "+--------------------+--------+--------------------+--------------------+----------+\n",
            "|(8,[1,5,6,7],[0.4...|       0|[6.73298317644645...|[0.99881044196804...|       0.0|\n",
            "|(8,[1,5,6,7],[0.4...|       0|[4.92667428830366...|[0.99280161587908...|       0.0|\n",
            "|(8,[1,5,6,7],[0.8...|       0|[10.8965795842457...|[0.99998147886611...|       0.0|\n",
            "|(8,[1,5,6,7],[1.0...|       0|[6.32328744905691...|[0.99820917680200...|       0.0|\n",
            "|(8,[1,5,6,7],[1.0...|       0|[11.9291336362679...|[0.99999340461391...|       0.0|\n",
            "|(8,[1,5,6,7],[1.3...|       0|[8.43037173799067...|[0.99978190719060...|       0.0|\n",
            "|(8,[1,5,6,7],[1.3...|       0|[11.0352896938244...|[0.99998387767847...|       0.0|\n",
            "|(8,[1,5,6,7],[1.5...|       0|[6.61259376465083...|[0.99865845883998...|       0.0|\n",
            "|(8,[1,5,6,7],[1.6...|       0|[5.21786021822782...|[0.99461029432212...|       0.0|\n",
            "|(8,[1,5,6,7],[1.6...|       0|[8.09243972744604...|[0.99969425083774...|       0.0|\n",
            "|(8,[1,5,6,7],[1.7...|       0|[8.02452835024582...|[0.99967277273584...|       0.0|\n",
            "|(8,[1,5,6,7],[1.8...|       0|[6.51164964367189...|[0.99851617871133...|       0.0|\n",
            "|(8,[1,5,6,7],[1.8...|       0|[12.5978344100571...|[0.99999662068587...|       0.0|\n",
            "|(8,[1,5,6,7],[2.0...|       0|[12.6929844344910...|[0.99999692740325...|       0.0|\n",
            "|(8,[1,5,6,7],[2.0...|       0|[9.92100996080892...|[0.99995087090296...|       0.0|\n",
            "|(8,[1,5,6,7],[2.0...|       0|[7.68416594024886...|[0.99954015721047...|       0.0|\n",
            "|(8,[1,5,6,7],[2.0...|       0|[8.28038811059099...|[0.99974662539630...|       0.0|\n",
            "|(8,[1,5,6,7],[2.0...|       0|[6.67055174126785...|[0.99873390591025...|       0.0|\n",
            "|(8,[1,5,6,7],[2.0...|       0|[6.40981405625688...|[0.99835737225286...|       0.0|\n",
            "|(8,[1,5,6,7],[2.0...|       0|[6.91129696699095...|[0.99900452737683...|       0.0|\n",
            "|(8,[1,5,6,7],[2.0...|       0|[4.64277723018208...|[0.99046095651105...|       0.0|\n",
            "|(8,[1,5,6,7],[2.0...|       0|[5.52031623008529...|[0.99601139133523...|       0.0|\n",
            "|(8,[1,5,6,7],[2.0...|       0|[8.56655645844878...|[0.99980966917341...|       0.0|\n",
            "|(8,[1,5,6,7],[2.0...|       0|[7.59789284689267...|[0.99949874431023...|       0.0|\n",
            "|(8,[1,5,6,7],[2.0...|       0|[9.90670106618807...|[0.99995016290165...|       0.0|\n",
            "|(8,[1,5,6,7],[2.0...|       0|[7.79696362088698...|[0.99958918785555...|       0.0|\n",
            "|(8,[1,5,6,7],[3.0...|       0|[7.50375540666547...|[0.99944929223751...|       0.0|\n",
            "|(8,[1,5,6,7],[3.0...|       0|[12.2574702573315...|[0.99999525051803...|       0.0|\n",
            "|(8,[1,5,6,7],[3.0...|       0|[13.2954782838194...|[0.99999831792089...|       0.0|\n",
            "|(8,[1,5,6,7],[3.0...|       0|[8.58276952611559...|[0.99981272956588...|       0.0|\n",
            "|(8,[1,5,6,7],[3.0...|       0|[10.4565413699449...|[0.99997124129716...|       0.0|\n",
            "|(8,[1,5,6,7],[3.0...|       0|[9.11197106728161...|[0.99988967515394...|       0.0|\n",
            "|(8,[1,5,6,7],[3.0...|       0|[12.2197587590949...|[0.99999506798874...|       0.0|\n",
            "|(8,[1,5,6,7],[3.0...|       0|[12.2138734888767...|[0.99999503887709...|       0.0|\n",
            "|(8,[1,5,6,7],[3.0...|       0|[6.57852658796710...|[0.99861203345280...|       0.0|\n",
            "|(8,[1,5,6,7],[3.0...|       0|[6.82258206936927...|[0.99891227876651...|       0.0|\n",
            "|(8,[1,5,6,7],[3.0...|       0|[7.27353631281238...|[0.99930682615178...|       0.0|\n",
            "|(8,[1,5,6,7],[3.0...|       0|[11.0939985050385...|[0.99998479693807...|       0.0|\n",
            "|(8,[1,5,6,7],[3.0...|       0|[5.93167588932328...|[0.99735299483375...|       0.0|\n",
            "|(8,[1,5,6,7],[3.0...|       0|[6.74899801793025...|[0.99882931869188...|       0.0|\n",
            "|(8,[1,5,6,7],[3.0...|       0|[4.76145183063647...|[0.99151935390830...|       0.0|\n",
            "|(8,[1,5,6,7],[3.0...|       0|[4.29769105360125...|[0.98658255199288...|       0.0|\n",
            "|(8,[1,5,6,7],[3.0...|       0|[9.92167560678277...|[0.99995090359306...|       0.0|\n",
            "|(8,[1,5,6,7],[4.0...|       0|[8.36186683478360...|[0.99976644674062...|       0.0|\n",
            "|(8,[1,5,6,7],[4.0...|       0|[11.2669282748048...|[0.99998721120375...|       0.0|\n",
            "|(8,[1,5,6,7],[4.0...|       0|[7.95637824150549...|[0.99964970279269...|       0.0|\n",
            "|(8,[1,5,6,7],[4.0...|       0|[10.9641708883082...|[0.99998268934238...|       0.0|\n",
            "|(8,[1,5,6,7],[4.0...|       0|[6.57682001102248...|[0.99860966605484...|       0.0|\n",
            "|(8,[1,5,6,7],[4.0...|       0|[12.3934624000668...|[0.99999585441458...|       0.0|\n",
            "|(8,[1,5,6,7],[4.0...|       0|[9.47385257199210...|[0.99992317107828...|       0.0|\n",
            "|(8,[1,5,6,7],[4.0...|       0|[5.19113199139744...|[0.99446510267441...|       0.0|\n",
            "|(8,[1,5,6,7],[4.0...|       0|[8.02923378930237...|[0.99967430836657...|       0.0|\n",
            "|(8,[1,5,6,7],[4.0...|       1|[5.50149524546801...|[0.99593591887649...|       0.0|\n",
            "|(8,[1,5,6,7],[4.0...|       0|[6.66418030513506...|[0.99872582363068...|       0.0|\n",
            "|(8,[1,5,6,7],[4.0...|       0|[9.71781013445636...|[0.99993980193411...|       0.0|\n",
            "|(8,[1,5,6,7],[4.0...|       0|[8.57523867983155...|[0.99981131420439...|       0.0|\n",
            "|(8,[1,5,6,7],[4.0...|       0|[10.8260248442648...|[0.99998012493683...|       0.0|\n",
            "|(8,[1,5,6,7],[4.0...|       0|[13.7031455195624...|[0.99999888108001...|       0.0|\n",
            "|(8,[1,5,6,7],[4.0...|       0|[7.70185654304267...|[0.99954821693055...|       0.0|\n",
            "|(8,[1,5,6,7],[4.0...|       0|[11.8380513546333...|[0.99999277568818...|       0.0|\n",
            "|(8,[1,5,6,7],[5.0...|       0|[9.28306027910955...|[0.99990702252150...|       0.0|\n",
            "|(8,[1,5,6,7],[5.0...|       0|[11.1193427589939...|[0.99998517740099...|       0.0|\n",
            "|(8,[1,5,6,7],[5.0...|       0|[5.41618571056822...|[0.99557559702346...|       0.0|\n",
            "|(8,[1,5,6,7],[5.0...|       0|[7.30964926166973...|[0.99933139565786...|       0.0|\n",
            "|(8,[1,5,6,7],[5.0...|       0|[6.10312402833162...|[0.99776911610006...|       0.0|\n",
            "|(8,[1,5,6,7],[5.0...|       0|[11.8603827061575...|[0.99999293522769...|       0.0|\n",
            "|(8,[1,5,6,7],[5.0...|       0|[8.07753299334143...|[0.99968966040151...|       0.0|\n",
            "|(8,[1,5,6,7],[5.0...|       0|[10.5918598592918...|[0.99997488097368...|       0.0|\n",
            "|(8,[1,5,6,7],[5.0...|       0|[7.41994269428751...|[0.99940117532468...|       0.0|\n",
            "|(8,[1,5,6,7],[5.0...|       0|[11.4230127654767...|[0.99998905933204...|       0.0|\n",
            "|(8,[1,5,6,7],[5.0...|       0|[7.37184663867571...|[0.99937168890957...|       0.0|\n",
            "|(8,[1,5,6,7],[5.0...|       0|[13.3251772084758...|[0.99999836714222...|       0.0|\n",
            "|(8,[1,5,6,7],[5.0...|       0|[11.9643524676492...|[0.99999363285150...|       0.0|\n",
            "|(8,[1,5,6,7],[5.0...|       0|[5.87214171255427...|[0.99719107824605...|       0.0|\n",
            "|(8,[1,5,6,7],[5.0...|       0|[7.41391866146962...|[0.99939755927774...|       0.0|\n",
            "|(8,[1,5,6,7],[5.0...|       0|[6.81956844243697...|[0.99890899941791...|       0.0|\n",
            "|(8,[1,5,6,7],[5.0...|       0|[8.30137583705594...|[0.99975188643206...|       0.0|\n",
            "|(8,[1,5,6,7],[5.0...|       0|[7.59767194399176...|[0.99949863362468...|       0.0|\n",
            "|(8,[1,5,6,7],[5.0...|       0|[12.6881699795746...|[0.99999691257475...|       0.0|\n",
            "|(8,[1,5,6,7],[5.0...|       0|[8.7980402634068,...|[0.99984899404438...|       0.0|\n",
            "|(8,[1,5,6,7],[5.0...|       0|[10.1531047915531...|[0.99996104657069...|       0.0|\n",
            "|(8,[1,5,6,7],[6.0...|       0|[7.26163409502331...|[0.99929853237373...|       0.0|\n",
            "|(8,[1,5,6,7],[6.0...|       0|[4.95425551434599...|[0.99299607158638...|       0.0|\n",
            "|(8,[1,5,6,7],[6.0...|       0|[5.48507385243541...|[0.99586890800325...|       0.0|\n",
            "|(8,[1,5,6,7],[6.0...|       0|[12.7942895191055...|[0.99999722342469...|       0.0|\n",
            "|(8,[1,5,6,7],[6.0...|       0|[11.7464030468887...|[0.99999208230923...|       0.0|\n",
            "|(8,[1,5,6,7],[6.0...|       0|[8.62948865362403...|[0.99982127591996...|       0.0|\n",
            "|(8,[1,5,6,7],[6.0...|       0|[9.43300043339349...|[0.99991996771713...|       0.0|\n",
            "|(8,[1,5,6,7],[6.0...|       0|[9.18376862649716...|[0.99989731775252...|       0.0|\n",
            "|(8,[1,5,6,7],[6.0...|       0|[3.15250998383835...|[0.95900750831375...|       0.0|\n",
            "|(8,[1,5,6,7],[6.0...|       0|[6.35824536021734...|[0.99827059224135...|       0.0|\n",
            "|(8,[1,5,6,7],[6.0...|       0|[12.0480886496971...|[0.99999414429703...|       0.0|\n",
            "|(8,[1,5,6,7],[6.0...|       0|[12.1151965761678...|[0.99999452436360...|       0.0|\n",
            "|(8,[1,5,6,7],[6.0...|       0|[9.60757359326753...|[0.99993278679378...|       0.0|\n",
            "|(8,[1,5,6,7],[6.0...|       0|[6.01916834003995...|[0.99757420768314...|       0.0|\n",
            "|(8,[1,5,6,7],[6.0...|       0|[6.01916834003995...|[0.99757420768314...|       0.0|\n",
            "|(8,[1,5,6,7],[6.0...|       0|[5.54922349666258...|[0.99612460011498...|       0.0|\n",
            "|(8,[1,5,6,7],[6.0...|       0|[3.84486194838961...|[0.97905856948249...|       0.0|\n",
            "|(8,[1,5,6,7],[7.0...|       0|[11.2138053956250...|[0.99998651346641...|       0.0|\n",
            "|(8,[1,5,6,7],[7.0...|       0|[13.6887952868450...|[0.99999886490751...|       0.0|\n",
            "+--------------------+--------+--------------------+--------------------+----------+\n",
            "only showing top 100 rows\n",
            "\n"
          ]
        }
      ]
    },
    {
      "cell_type": "code",
      "metadata": {
        "id": "A4BHCxCiQ4l-",
        "colab": {
          "base_uri": "https://localhost:8080/"
        },
        "outputId": "c7496882-6142-45df-86c1-7965d7f50efd"
      },
      "source": [
        "evaluator = BinaryClassificationEvaluator(rawPredictionCol= 'rawPrediction', labelCol='diabetes')\n",
        "evaluator.evaluate(model.transform(test))"
      ],
      "execution_count": 36,
      "outputs": [
        {
          "output_type": "execute_result",
          "data": {
            "text/plain": [
              "0.9548805640975272"
            ]
          },
          "metadata": {},
          "execution_count": 36
        }
      ]
    },
    {
      "cell_type": "code",
      "metadata": {
        "id": "ERpRUFOHQ4x5"
      },
      "source": [
        "# save model\n",
        "model.save(\"model\")"
      ],
      "execution_count": 37,
      "outputs": []
    },
    {
      "cell_type": "code",
      "metadata": {
        "id": "4zSA9_KCQ47W"
      },
      "source": [
        "# load saved model back to the environment\n",
        "from pyspark.ml.classification import LogisticRegressionModel\n",
        "\n",
        "model = LogisticRegressionModel.load('model')"
      ],
      "execution_count": 38,
      "outputs": []
    },
    {
      "cell_type": "markdown",
      "metadata": {
        "id": "Iznukr-xRANo"
      },
      "source": [
        "# PART 7: Prediction on New Data with the saved model\n"
      ]
    },
    {
      "cell_type": "code",
      "metadata": {
        "id": "MBq2hq27RdHB"
      },
      "source": [
        "#create a new spark dataframe\n",
        "test_df = spark.read.csv('/content/Project-4/Luis/Dataset/diabetes_test_dataset.csv', header=True, inferSchema=True)"
      ],
      "execution_count": 39,
      "outputs": []
    },
    {
      "cell_type": "code",
      "metadata": {
        "id": "co8K0NZsRdQB",
        "colab": {
          "base_uri": "https://localhost:8080/"
        },
        "outputId": "509799b1-da59-485d-950b-9e390af5992e"
      },
      "source": [
        "#print the schema\n",
        "test_df.printSchema()"
      ],
      "execution_count": 40,
      "outputs": [
        {
          "output_type": "stream",
          "name": "stdout",
          "text": [
            "root\n",
            " |-- gender: integer (nullable = true)\n",
            " |-- age: integer (nullable = true)\n",
            " |-- hypertension: integer (nullable = true)\n",
            " |-- heart_disease: integer (nullable = true)\n",
            " |-- smoking_history: integer (nullable = true)\n",
            " |-- bmi: double (nullable = true)\n",
            " |-- HbA1c_level: double (nullable = true)\n",
            " |-- blood_glucose_level: integer (nullable = true)\n",
            "\n"
          ]
        }
      ]
    },
    {
      "cell_type": "code",
      "metadata": {
        "id": "J7jtGf4lRdaz"
      },
      "source": [
        "#create an additional feature merged column\n",
        "test_data = assembler.transform(test_df)"
      ],
      "execution_count": 41,
      "outputs": []
    },
    {
      "cell_type": "code",
      "metadata": {
        "id": "kd1glzOnRdkq",
        "colab": {
          "base_uri": "https://localhost:8080/"
        },
        "outputId": "7a394bd5-6ad8-4356-c3ef-eaebcb563cfa"
      },
      "source": [
        "#print the schema\n",
        "test_data.printSchema()"
      ],
      "execution_count": 42,
      "outputs": [
        {
          "output_type": "stream",
          "name": "stdout",
          "text": [
            "root\n",
            " |-- gender: integer (nullable = true)\n",
            " |-- age: integer (nullable = true)\n",
            " |-- hypertension: integer (nullable = true)\n",
            " |-- heart_disease: integer (nullable = true)\n",
            " |-- smoking_history: integer (nullable = true)\n",
            " |-- bmi: double (nullable = true)\n",
            " |-- HbA1c_level: double (nullable = true)\n",
            " |-- blood_glucose_level: integer (nullable = true)\n",
            " |-- features: vector (nullable = true)\n",
            "\n"
          ]
        }
      ]
    },
    {
      "cell_type": "code",
      "metadata": {
        "id": "40Dck7K_Rdxh",
        "colab": {
          "base_uri": "https://localhost:8080/"
        },
        "outputId": "a14f1e12-3ac7-4830-ac71-66715cf47cc2"
      },
      "source": [
        "#use model to make predictions\n",
        "results = model.transform(test_data)\n",
        "results.printSchema()"
      ],
      "execution_count": 43,
      "outputs": [
        {
          "output_type": "stream",
          "name": "stdout",
          "text": [
            "root\n",
            " |-- gender: integer (nullable = true)\n",
            " |-- age: integer (nullable = true)\n",
            " |-- hypertension: integer (nullable = true)\n",
            " |-- heart_disease: integer (nullable = true)\n",
            " |-- smoking_history: integer (nullable = true)\n",
            " |-- bmi: double (nullable = true)\n",
            " |-- HbA1c_level: double (nullable = true)\n",
            " |-- blood_glucose_level: integer (nullable = true)\n",
            " |-- features: vector (nullable = true)\n",
            " |-- rawPrediction: vector (nullable = true)\n",
            " |-- probability: vector (nullable = true)\n",
            " |-- prediction: double (nullable = false)\n",
            "\n"
          ]
        }
      ]
    },
    {
      "cell_type": "code",
      "metadata": {
        "id": "AHpfS2SjRd7s",
        "colab": {
          "base_uri": "https://localhost:8080/"
        },
        "outputId": "16a72e15-f23c-4754-a45b-8f11bc22b2da"
      },
      "source": [
        "#display the predictions\n",
        "results.select('features','rawPrediction','probability','prediction').show()"
      ],
      "execution_count": 44,
      "outputs": [
        {
          "output_type": "stream",
          "name": "stdout",
          "text": [
            "+--------------------+--------------------+--------------------+----------+\n",
            "|            features|       rawPrediction|         probability|prediction|\n",
            "+--------------------+--------------------+--------------------+----------+\n",
            "|[0.0,80.0,1.0,1.0...|[-0.1564843933134...|[0.46095853772191...|       1.0|\n",
            "|[1.0,28.0,0.0,0.0...|[4.65830826051093...|[0.99060658225279...|       0.0|\n",
            "|[0.0,36.0,0.0,0.0...|[6.60029094405418...|[0.99864187470865...|       0.0|\n",
            "|[1.0,76.0,1.0,1.0...|[3.79800206745135...|[0.97807592747868...|       0.0|\n",
            "|(8,[1,5,6,7],[20....|[5.68861253797044...|[0.99662712947532...|       0.0|\n",
            "|(8,[1,5,6,7],[44....|[1.65750771129390...|[0.83990315918791...|       0.0|\n",
            "|[1.0,42.0,0.0,0.0...|[5.94665930994294...|[0.99739225771866...|       0.0|\n",
            "|(8,[1,5,6,7],[32....|[8.34281265525147...|[0.99976195497669...|       0.0|\n",
            "+--------------------+--------------------+--------------------+----------+\n",
            "\n"
          ]
        }
      ]
    },
    {
      "cell_type": "markdown",
      "source": [
        "# PART 8: Host a Flask App which will take subjects parameters and return probablity and prediction on being diabetic or not based on ML model above"
      ],
      "metadata": {
        "id": "IKwLb4u2OB-6"
      }
    },
    {
      "cell_type": "code",
      "source": [
        "# import dependencies to run Flask app and host it on publicly accessible colab URL\n",
        "from flask import *\n",
        "from google.colab import output\n",
        "from google.colab.output import eval_js"
      ],
      "metadata": {
        "id": "u3bqTKQkWzcV"
      },
      "execution_count": 149,
      "outputs": []
    },
    {
      "cell_type": "code",
      "source": [
        "# initialize Flask app\n",
        "app=Flask(__name__, template_folder='/content/Project-4/Luis/U.I. for project/templates')"
      ],
      "metadata": {
        "id": "-3N6dvcF5qMT"
      },
      "execution_count": 150,
      "outputs": []
    },
    {
      "cell_type": "code",
      "source": [
        "# Render Home page for Diabetes Prediction to take subject parameters as input\n",
        "@app.route('/')\n",
        "def home():\n",
        "    return render_template('index.html')"
      ],
      "metadata": {
        "id": "klOqSAl95yuB"
      },
      "execution_count": 151,
      "outputs": []
    },
    {
      "cell_type": "code",
      "source": [
        "# Dynamic API that will take parameters of subject through Web UI and leverage ML Model above to return probability & prediction for being diabetic\n",
        "@app.route('/api/v1.0/predict/')\n",
        "def predict(gender,age,hypertension,heart_disease,smoking_history,bmi,HbA1c_level,blood_glucose_level):\n",
        "    # create a tuple from input parameters and convert them to int or float as they are treated as string when passed from Web UI\n",
        "    data = [(int(gender),int(age),int(hypertension),int(heart_disease),int(smoking_history),float(bmi),float(HbA1c_level),int(blood_glucose_level))]\n",
        "    columns = ['gender','age','hypertension','heart_disease','smoking_history','bmi','HbA1c_level','blood_glucose_level']\n",
        "\n",
        "    # Create spark dataframe for the input parameters\n",
        "    test_df = spark.createDataFrame(data,columns)\n",
        "\n",
        "    # invoke ML Model and capture model output in results\n",
        "    test_data = assembler.transform(test_df)\n",
        "    results = model.transform(test_data)\n",
        "\n",
        "    # return the results after converting it to JSON\n",
        "    return results.toJSON().first()"
      ],
      "metadata": {
        "id": "L0XpBIJ952UT"
      },
      "execution_count": 152,
      "outputs": []
    },
    {
      "cell_type": "code",
      "source": [
        "# Flask app when run gives local IP to access API. Since this is running on Cloud (Google Colab) and not on local notebook, local IP (127.0.0.1) will not be accessible.\n",
        "# Below code will ask colab to give us publicly accessible URL\n",
        "\n",
        "print(eval_js(\"google.colab.kernel.proxyPort(5000)\"))\n",
        "output.serve_kernel_port_as_window(5000)\n",
        "if __name__ == '__main__':\n",
        "    app.run(host='0.0.0.0',port=5000)"
      ],
      "metadata": {
        "colab": {
          "base_uri": "https://localhost:8080/",
          "height": 332
        },
        "id": "4swdp6vo6B5B",
        "outputId": "584f7906-759d-46f4-a044-d7521f7904d2"
      },
      "execution_count": 153,
      "outputs": [
        {
          "output_type": "stream",
          "name": "stdout",
          "text": [
            "https://6yvrqczkyof-496ff2e9c6d22116-5000-colab.googleusercontent.com/\n"
          ]
        },
        {
          "output_type": "display_data",
          "data": {
            "text/plain": [
              "<IPython.core.display.Javascript object>"
            ],
            "application/javascript": [
              "(async (port, path, text, element) => {\n",
              "    if (!google.colab.kernel.accessAllowed) {\n",
              "      return;\n",
              "    }\n",
              "    element.appendChild(document.createTextNode(''));\n",
              "    const url = await google.colab.kernel.proxyPort(port);\n",
              "    const anchor = document.createElement('a');\n",
              "    anchor.href = new URL(path, url).toString();\n",
              "    anchor.target = '_blank';\n",
              "    anchor.setAttribute('data-href', url + path);\n",
              "    anchor.textContent = text;\n",
              "    element.appendChild(anchor);\n",
              "  })(5000, \"/\", \"https://localhost:5000/\", window.element)"
            ]
          },
          "metadata": {}
        },
        {
          "output_type": "stream",
          "name": "stdout",
          "text": [
            " * Serving Flask app '__main__'\n",
            " * Debug mode: off\n"
          ]
        },
        {
          "output_type": "stream",
          "name": "stderr",
          "text": [
            "INFO:werkzeug:\u001b[31m\u001b[1mWARNING: This is a development server. Do not use it in a production deployment. Use a production WSGI server instead.\u001b[0m\n",
            " * Running on all addresses (0.0.0.0)\n",
            " * Running on http://127.0.0.1:5000\n",
            " * Running on http://172.28.0.12:5000\n",
            "INFO:werkzeug:\u001b[33mPress CTRL+C to quit\u001b[0m\n",
            "INFO:werkzeug:127.0.0.1 - - [27/Feb/2024 05:49:20] \"GET / HTTP/1.1\" 200 -\n",
            "INFO:werkzeug:127.0.0.1 - - [27/Feb/2024 05:49:20] \"\u001b[33mGET /favicon.ico HTTP/1.1\u001b[0m\" 404 -\n",
            "INFO:werkzeug:127.0.0.1 - - [27/Feb/2024 05:49:41] \"\u001b[33mGET /api/v1.0/predict/1/23/0/0/0/0/7/100 HTTP/1.1\u001b[0m\" 404 -\n",
            "INFO:werkzeug:127.0.0.1 - - [27/Feb/2024 05:49:42] \"\u001b[33mGET /api/v1.0/predict/1/23/0/0/0/0/7/100 HTTP/1.1\u001b[0m\" 404 -\n",
            "INFO:werkzeug:127.0.0.1 - - [27/Feb/2024 05:49:48] \"\u001b[33mGET /api/v1.0/predict/1/23/0/0/0/0/7/100 HTTP/1.1\u001b[0m\" 404 -\n",
            "INFO:werkzeug:127.0.0.1 - - [27/Feb/2024 05:50:18] \"GET / HTTP/1.1\" 200 -\n",
            "INFO:werkzeug:127.0.0.1 - - [27/Feb/2024 05:50:18] \"\u001b[33mGET /favicon.ico HTTP/1.1\u001b[0m\" 404 -\n",
            "INFO:werkzeug:127.0.0.1 - - [27/Feb/2024 05:50:20] \"\u001b[33mGET /api/v1.0/predict/NaN/NaN/NaN/ HTTP/1.1\u001b[0m\" 404 -\n"
          ]
        }
      ]
    }
  ]
}