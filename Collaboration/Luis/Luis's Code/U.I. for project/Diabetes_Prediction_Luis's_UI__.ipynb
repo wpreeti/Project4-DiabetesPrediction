{
  "nbformat": 4,
  "nbformat_minor": 0,
  "metadata": {
    "colab": {
      "provenance": []
    },
    "kernelspec": {
      "name": "python3",
      "display_name": "Python 3"
    }
  },
  "cells": [
    {
      "cell_type": "markdown",
      "metadata": {
        "id": "Snq4iq_JOB4T"
      },
      "source": [
        "# PART 1 : Install Dependencies & Run Spark Session"
      ]
    },
    {
      "cell_type": "code",
      "metadata": {
        "id": "NpCRBcqtN5lH",
        "colab": {
          "base_uri": "https://localhost:8080/"
        },
        "outputId": "51ad3f98-4a31-4d47-9d11-460dddd8346a"
      },
      "source": [
        "#install pyspark\n",
        "! pip install pyspark\n",
        "\n",
        "from pyspark.sql.functions import when, col"
      ],
      "execution_count": 1,
      "outputs": [
        {
          "output_type": "stream",
          "name": "stdout",
          "text": [
            "Collecting pyspark\n",
            "  Downloading pyspark-3.5.1.tar.gz (317.0 MB)\n",
            "\u001b[2K     \u001b[90m━━━━━━━━━━━━━━━━━━━━━━━━━━━━━━━━━━━━━━━━\u001b[0m \u001b[32m317.0/317.0 MB\u001b[0m \u001b[31m3.8 MB/s\u001b[0m eta \u001b[36m0:00:00\u001b[0m\n",
            "\u001b[?25h  Preparing metadata (setup.py) ... \u001b[?25l\u001b[?25hdone\n",
            "Requirement already satisfied: py4j==0.10.9.7 in /usr/local/lib/python3.10/dist-packages (from pyspark) (0.10.9.7)\n",
            "Building wheels for collected packages: pyspark\n",
            "  Building wheel for pyspark (setup.py) ... \u001b[?25l\u001b[?25hdone\n",
            "  Created wheel for pyspark: filename=pyspark-3.5.1-py2.py3-none-any.whl size=317488493 sha256=2c908e1e4efb83e129556e28d11ff979e61e0edb464e46d6d3d04cf10c8b773e\n",
            "  Stored in directory: /root/.cache/pip/wheels/80/1d/60/2c256ed38dddce2fdd93be545214a63e02fbd8d74fb0b7f3a6\n",
            "Successfully built pyspark\n",
            "Installing collected packages: pyspark\n",
            "Successfully installed pyspark-3.5.1\n"
          ]
        }
      ]
    },
    {
      "cell_type": "code",
      "metadata": {
        "id": "GNZoOuDqOdxX"
      },
      "source": [
        "#create a sparksession\n",
        "from pyspark.sql import SparkSession\n",
        "spark = SparkSession.builder.appName(\"spark\").getOrCreate()"
      ],
      "execution_count": 2,
      "outputs": []
    },
    {
      "cell_type": "markdown",
      "metadata": {
        "id": "5sG3MLXlOews"
      },
      "source": [
        "# PART 2: Clone & Explore dataset"
      ]
    },
    {
      "cell_type": "code",
      "metadata": {
        "id": "-Uh5H7_KOoSL",
        "colab": {
          "base_uri": "https://localhost:8080/"
        },
        "outputId": "5202877f-bdaf-48e3-c954-c8408cd85439"
      },
      "source": [
        "#clone the diabetes dataset from the github repository\n",
        "# if you get error saying \"Project-4 directory already exists, move to next cell\"\n",
        "! git clone https://github.com/elluis1001/Project-4/"
      ],
      "execution_count": 3,
      "outputs": [
        {
          "output_type": "stream",
          "name": "stdout",
          "text": [
            "Cloning into 'Project-4'...\n",
            "remote: Enumerating objects: 145, done.\u001b[K\n",
            "remote: Counting objects: 100% (145/145), done.\u001b[K\n",
            "remote: Compressing objects: 100% (123/123), done.\u001b[K\n",
            "remote: Total 145 (delta 69), reused 66 (delta 20), pack-reused 0\u001b[K\n",
            "Receiving objects: 100% (145/145), 942.48 KiB | 8.20 MiB/s, done.\n",
            "Resolving deltas: 100% (69/69), done.\n"
          ]
        }
      ]
    },
    {
      "cell_type": "code",
      "metadata": {
        "id": "VcqwJRxVOutr",
        "colab": {
          "base_uri": "https://localhost:8080/"
        },
        "outputId": "d31b9166-58d9-4491-f2a1-d5aacbe052bf"
      },
      "source": [
        "#check if the dataset exists\n",
        "! ls /content/Project-4/Luis/Dataset/"
      ],
      "execution_count": 4,
      "outputs": [
        {
          "output_type": "stream",
          "name": "stdout",
          "text": [
            "diabetes_prediction_dataset.csv  diabetes_test_dataset.csv\n"
          ]
        }
      ]
    },
    {
      "cell_type": "code",
      "metadata": {
        "id": "ST1rFFOlOu8s"
      },
      "source": [
        "#create spark dataframe\n",
        "df_diabetes_data = spark.read.csv(\"/content/Project-4/Luis/Dataset/diabetes_prediction_dataset.csv\", header=True, inferSchema=True)"
      ],
      "execution_count": 5,
      "outputs": []
    },
    {
      "cell_type": "code",
      "metadata": {
        "id": "IiJm-pmROvKd",
        "colab": {
          "base_uri": "https://localhost:8080/"
        },
        "outputId": "5374b518-6790-424f-8c6a-200dbbaac479"
      },
      "source": [
        "#display the dataframe\n",
        "df_diabetes_data.show()"
      ],
      "execution_count": 6,
      "outputs": [
        {
          "output_type": "stream",
          "name": "stdout",
          "text": [
            "+------+----+------------+-------------+---------------+-----+-----------+-------------------+--------+\n",
            "|gender| age|hypertension|heart_disease|smoking_history|  bmi|HbA1c_level|blood_glucose_level|diabetes|\n",
            "+------+----+------------+-------------+---------------+-----+-----------+-------------------+--------+\n",
            "|Female|80.0|           0|            1|          never|25.19|        6.6|                140|       0|\n",
            "|Female|54.0|           0|            0|        No Info|27.32|        6.6|                 80|       0|\n",
            "|  Male|28.0|           0|            0|          never|27.32|        5.7|                158|       0|\n",
            "|Female|36.0|           0|            0|        current|23.45|        5.0|                155|       0|\n",
            "|  Male|76.0|           1|            1|        current|20.14|        4.8|                155|       0|\n",
            "|Female|20.0|           0|            0|          never|27.32|        6.6|                 85|       0|\n",
            "|Female|44.0|           0|            0|          never|19.31|        6.5|                200|       1|\n",
            "|Female|79.0|           0|            0|        No Info|23.86|        5.7|                 85|       0|\n",
            "|  Male|42.0|           0|            0|          never|33.64|        4.8|                145|       0|\n",
            "|Female|32.0|           0|            0|          never|27.32|        5.0|                100|       0|\n",
            "|Female|53.0|           0|            0|          never|27.32|        6.1|                 85|       0|\n",
            "|Female|54.0|           0|            0|         former| 54.7|        6.0|                100|       0|\n",
            "|Female|78.0|           0|            0|         former|36.05|        5.0|                130|       0|\n",
            "|Female|67.0|           0|            0|          never|25.69|        5.8|                200|       0|\n",
            "|Female|76.0|           0|            0|        No Info|27.32|        5.0|                160|       0|\n",
            "|  Male|78.0|           0|            0|        No Info|27.32|        6.6|                126|       0|\n",
            "|  Male|15.0|           0|            0|          never|30.36|        6.1|                200|       0|\n",
            "|Female|42.0|           0|            0|          never|24.48|        5.7|                158|       0|\n",
            "|Female|42.0|           0|            0|        No Info|27.32|        5.7|                 80|       0|\n",
            "|  Male|37.0|           0|            0|           ever|25.72|        3.5|                159|       0|\n",
            "+------+----+------------+-------------+---------------+-----+-----------+-------------------+--------+\n",
            "only showing top 20 rows\n",
            "\n"
          ]
        }
      ]
    },
    {
      "cell_type": "code",
      "source": [
        "#show amount of rows\n",
        "df_diabetes_data.count()"
      ],
      "metadata": {
        "colab": {
          "base_uri": "https://localhost:8080/"
        },
        "id": "MKF7kv1AI2pw",
        "outputId": "bc928869-6e44-4467-cff3-43d63b68bee8"
      },
      "execution_count": 7,
      "outputs": [
        {
          "output_type": "execute_result",
          "data": {
            "text/plain": [
              "100000"
            ]
          },
          "metadata": {},
          "execution_count": 7
        }
      ]
    },
    {
      "cell_type": "code",
      "metadata": {
        "id": "Ulqkuz8aOvV6",
        "colab": {
          "base_uri": "https://localhost:8080/"
        },
        "outputId": "cd96cbcb-c02f-481b-b60d-057b7358b5d9"
      },
      "source": [
        "#print the schema\n",
        "df_diabetes_data.printSchema()"
      ],
      "execution_count": 8,
      "outputs": [
        {
          "output_type": "stream",
          "name": "stdout",
          "text": [
            "root\n",
            " |-- gender: string (nullable = true)\n",
            " |-- age: double (nullable = true)\n",
            " |-- hypertension: integer (nullable = true)\n",
            " |-- heart_disease: integer (nullable = true)\n",
            " |-- smoking_history: string (nullable = true)\n",
            " |-- bmi: double (nullable = true)\n",
            " |-- HbA1c_level: double (nullable = true)\n",
            " |-- blood_glucose_level: integer (nullable = true)\n",
            " |-- diabetes: integer (nullable = true)\n",
            "\n"
          ]
        }
      ]
    },
    {
      "cell_type": "code",
      "metadata": {
        "id": "kpZlF2S2Ovgw",
        "colab": {
          "base_uri": "https://localhost:8080/"
        },
        "outputId": "bb31befa-dacd-4884-ace1-ff76b42d92e3"
      },
      "source": [
        "#count the total no. of diabetic and non-diabetic class (values of 1 indicating the presence of diabetes and 0 indicating the absence of diabetes)\n",
        "print((df_diabetes_data.count(), len(df_diabetes_data.columns)))\n",
        "df_diabetes_data.groupBy('diabetes').count().show()"
      ],
      "execution_count": 9,
      "outputs": [
        {
          "output_type": "stream",
          "name": "stdout",
          "text": [
            "(100000, 9)\n",
            "+--------+-----+\n",
            "|diabetes|count|\n",
            "+--------+-----+\n",
            "|       1| 8500|\n",
            "|       0|91500|\n",
            "+--------+-----+\n",
            "\n"
          ]
        }
      ]
    },
    {
      "cell_type": "code",
      "source": [
        "#count the total no. of gender types\n",
        "print((df_diabetes_data.count(), len(df_diabetes_data.columns)))\n",
        "df_diabetes_data.groupBy('gender').count().show()"
      ],
      "metadata": {
        "colab": {
          "base_uri": "https://localhost:8080/"
        },
        "id": "3f2sAuuh9iY7",
        "outputId": "371e8b6a-753d-47ce-a27b-b547257afd90"
      },
      "execution_count": 10,
      "outputs": [
        {
          "output_type": "stream",
          "name": "stdout",
          "text": [
            "(100000, 9)\n",
            "+------+-----+\n",
            "|gender|count|\n",
            "+------+-----+\n",
            "|Female|58552|\n",
            "| Other|   18|\n",
            "|  Male|41430|\n",
            "+------+-----+\n",
            "\n"
          ]
        }
      ]
    },
    {
      "cell_type": "code",
      "source": [
        "#check to see if there are any empty values in the 'gender' column\n",
        "df_diabetes_data[df_diabetes_data['gender'] == '']"
      ],
      "metadata": {
        "colab": {
          "base_uri": "https://localhost:8080/"
        },
        "id": "muPOXP7dF2Jl",
        "outputId": "349f58dc-4db9-4075-8c9a-ba3141b8e6df"
      },
      "execution_count": 11,
      "outputs": [
        {
          "output_type": "execute_result",
          "data": {
            "text/plain": [
              "DataFrame[gender: string, age: double, hypertension: int, heart_disease: int, smoking_history: string, bmi: double, HbA1c_level: double, blood_glucose_level: int, diabetes: int]"
            ]
          },
          "metadata": {},
          "execution_count": 11
        }
      ]
    },
    {
      "cell_type": "code",
      "metadata": {
        "id": "NewCNZEMOvtM",
        "colab": {
          "base_uri": "https://localhost:8080/"
        },
        "outputId": "d56eced5-5645-421f-8cab-aac5c9e29729"
      },
      "source": [
        "#get the summary statistics\n",
        "df_diabetes_data.describe().show()"
      ],
      "execution_count": 12,
      "outputs": [
        {
          "output_type": "stream",
          "name": "stdout",
          "text": [
            "+-------+------+-----------------+------------------+------------------+---------------+-----------------+------------------+-------------------+-------------------+\n",
            "|summary|gender|              age|      hypertension|     heart_disease|smoking_history|              bmi|       HbA1c_level|blood_glucose_level|           diabetes|\n",
            "+-------+------+-----------------+------------------+------------------+---------------+-----------------+------------------+-------------------+-------------------+\n",
            "|  count|100000|           100000|            100000|            100000|         100000|           100000|            100000|             100000|             100000|\n",
            "|   mean|  NULL|41.88585600000013|           0.07485|           0.03942|           NULL|27.32076709999422|5.5275069999983275|          138.05806|              0.085|\n",
            "| stddev|  NULL|22.51683987161704|0.2631504702289171|0.1945930169980986|           NULL|6.636783416648357|1.0706720918835468|  40.70813604870383|0.27888308976661896|\n",
            "|    min|Female|             0.08|                 0|                 0|        No Info|            10.01|               3.5|                 80|                  0|\n",
            "|    max| Other|             80.0|                 1|                 1|    not current|            95.69|               9.0|                300|                  1|\n",
            "+-------+------+-----------------+------------------+------------------+---------------+-----------------+------------------+-------------------+-------------------+\n",
            "\n"
          ]
        }
      ]
    },
    {
      "cell_type": "markdown",
      "metadata": {
        "id": "gZerPOR-OyjQ"
      },
      "source": [
        "# PART 3: Data Cleaning & Preparation"
      ]
    },
    {
      "cell_type": "code",
      "metadata": {
        "id": "Q-KkJvV_PFFU",
        "colab": {
          "base_uri": "https://localhost:8080/"
        },
        "outputId": "9f54895b-4e94-4451-9852-867fd4e38183"
      },
      "source": [
        "#check for null values\n",
        "for col in df_diabetes_data.columns:\n",
        "  print(col + \":\", df_diabetes_data[df_diabetes_data[col].isNull()].count())"
      ],
      "execution_count": 13,
      "outputs": [
        {
          "output_type": "stream",
          "name": "stdout",
          "text": [
            "gender: 0\n",
            "age: 0\n",
            "hypertension: 0\n",
            "heart_disease: 0\n",
            "smoking_history: 0\n",
            "bmi: 0\n",
            "HbA1c_level: 0\n",
            "blood_glucose_level: 0\n",
            "diabetes: 0\n"
          ]
        }
      ]
    },
    {
      "cell_type": "code",
      "metadata": {
        "id": "ZJsbgwZMPFQC"
      },
      "source": [
        "#look for the unnecessary values present\n",
        "def count_zeros():\n",
        "  columns_list = [\"age\", \"bmi\", \"HbA1c_level\", \"blood_glucose_level\"]\n",
        "  for i in columns_list:\n",
        "    print(i+\":\",df_diabetes_data[df_diabetes_data[i]==0].count())"
      ],
      "execution_count": 14,
      "outputs": []
    },
    {
      "cell_type": "code",
      "metadata": {
        "id": "pcXTErb9PFbo",
        "colab": {
          "base_uri": "https://localhost:8080/"
        },
        "outputId": "a5592cc9-71db-4abd-c726-57139547cb26"
      },
      "source": [
        "count_zeros()"
      ],
      "execution_count": 15,
      "outputs": [
        {
          "output_type": "stream",
          "name": "stdout",
          "text": [
            "age: 0\n",
            "bmi: 0\n",
            "HbA1c_level: 0\n",
            "blood_glucose_level: 0\n"
          ]
        }
      ]
    },
    {
      "cell_type": "code",
      "metadata": {
        "id": "C0bk0Ps_PFwk",
        "colab": {
          "base_uri": "https://localhost:8080/"
        },
        "outputId": "9912c287-7f0e-4e3b-f19d-ac158cc41857"
      },
      "source": [
        "#display the dataframe\n",
        "df_diabetes_data.show()"
      ],
      "execution_count": 16,
      "outputs": [
        {
          "output_type": "stream",
          "name": "stdout",
          "text": [
            "+------+----+------------+-------------+---------------+-----+-----------+-------------------+--------+\n",
            "|gender| age|hypertension|heart_disease|smoking_history|  bmi|HbA1c_level|blood_glucose_level|diabetes|\n",
            "+------+----+------------+-------------+---------------+-----+-----------+-------------------+--------+\n",
            "|Female|80.0|           0|            1|          never|25.19|        6.6|                140|       0|\n",
            "|Female|54.0|           0|            0|        No Info|27.32|        6.6|                 80|       0|\n",
            "|  Male|28.0|           0|            0|          never|27.32|        5.7|                158|       0|\n",
            "|Female|36.0|           0|            0|        current|23.45|        5.0|                155|       0|\n",
            "|  Male|76.0|           1|            1|        current|20.14|        4.8|                155|       0|\n",
            "|Female|20.0|           0|            0|          never|27.32|        6.6|                 85|       0|\n",
            "|Female|44.0|           0|            0|          never|19.31|        6.5|                200|       1|\n",
            "|Female|79.0|           0|            0|        No Info|23.86|        5.7|                 85|       0|\n",
            "|  Male|42.0|           0|            0|          never|33.64|        4.8|                145|       0|\n",
            "|Female|32.0|           0|            0|          never|27.32|        5.0|                100|       0|\n",
            "|Female|53.0|           0|            0|          never|27.32|        6.1|                 85|       0|\n",
            "|Female|54.0|           0|            0|         former| 54.7|        6.0|                100|       0|\n",
            "|Female|78.0|           0|            0|         former|36.05|        5.0|                130|       0|\n",
            "|Female|67.0|           0|            0|          never|25.69|        5.8|                200|       0|\n",
            "|Female|76.0|           0|            0|        No Info|27.32|        5.0|                160|       0|\n",
            "|  Male|78.0|           0|            0|        No Info|27.32|        6.6|                126|       0|\n",
            "|  Male|15.0|           0|            0|          never|30.36|        6.1|                200|       0|\n",
            "|Female|42.0|           0|            0|          never|24.48|        5.7|                158|       0|\n",
            "|Female|42.0|           0|            0|        No Info|27.32|        5.7|                 80|       0|\n",
            "|  Male|37.0|           0|            0|           ever|25.72|        3.5|                159|       0|\n",
            "+------+----+------------+-------------+---------------+-----+-----------+-------------------+--------+\n",
            "only showing top 20 rows\n",
            "\n"
          ]
        }
      ]
    },
    {
      "cell_type": "code",
      "source": [
        "#drop the 'other' rows in the gender columns\n",
        "string_to_remove = \"Other\"\n",
        "df_diabetes_data = df_diabetes_data[df_diabetes_data['Gender'] != string_to_remove]"
      ],
      "metadata": {
        "id": "E1k77q7hKhIo"
      },
      "execution_count": 17,
      "outputs": []
    },
    {
      "cell_type": "code",
      "source": [
        "#count the total no. of gender types\n",
        "print((df_diabetes_data.count(), len(df_diabetes_data.columns)))\n",
        "df_diabetes_data.groupBy('gender').count().show()"
      ],
      "metadata": {
        "colab": {
          "base_uri": "https://localhost:8080/"
        },
        "id": "OXDmlg6KZgTn",
        "outputId": "c7c164ec-acc0-48c9-ad6f-b57638a9fe2a"
      },
      "execution_count": 18,
      "outputs": [
        {
          "output_type": "stream",
          "name": "stdout",
          "text": [
            "(99982, 9)\n",
            "+------+-----+\n",
            "|gender|count|\n",
            "+------+-----+\n",
            "|Female|58552|\n",
            "|  Male|41430|\n",
            "+------+-----+\n",
            "\n"
          ]
        }
      ]
    },
    {
      "cell_type": "code",
      "source": [
        "#count the total no. of smoker/non-smoker types\n",
        "print((df_diabetes_data.count(), len(df_diabetes_data.columns)))\n",
        "df_diabetes_data.groupBy('smoking_history').count().show()"
      ],
      "metadata": {
        "colab": {
          "base_uri": "https://localhost:8080/"
        },
        "id": "xwwTUAJLZ72A",
        "outputId": "a11f7507-5413-4cc2-c00b-23cda8dd1b0f"
      },
      "execution_count": 19,
      "outputs": [
        {
          "output_type": "stream",
          "name": "stdout",
          "text": [
            "(99982, 9)\n",
            "+---------------+-----+\n",
            "|smoking_history|count|\n",
            "+---------------+-----+\n",
            "|    not current| 6439|\n",
            "|         former| 9352|\n",
            "|        No Info|35810|\n",
            "|        current| 9286|\n",
            "|          never|35092|\n",
            "|           ever| 4003|\n",
            "+---------------+-----+\n",
            "\n"
          ]
        }
      ]
    },
    {
      "cell_type": "code",
      "source": [
        "#drop the 'other' rows in the gender columns\n",
        "string_to_remove_1= \"No Info\"\n",
        "df_diabetes_data = df_diabetes_data[df_diabetes_data['smoking_history'] != string_to_remove_1]"
      ],
      "metadata": {
        "id": "KdN7OCA1cDnb"
      },
      "execution_count": 20,
      "outputs": []
    },
    {
      "cell_type": "code",
      "source": [
        "#count the total no. of smoker/non-smoker types\n",
        "print((df_diabetes_data.count(), len(df_diabetes_data.columns)))\n",
        "df_diabetes_data.groupBy('smoking_history').count().show()"
      ],
      "metadata": {
        "colab": {
          "base_uri": "https://localhost:8080/"
        },
        "id": "ZbxmgHOFcoEb",
        "outputId": "a5bfc974-7efc-4c0f-bd81-41dd28d4fdc8"
      },
      "execution_count": 21,
      "outputs": [
        {
          "output_type": "stream",
          "name": "stdout",
          "text": [
            "(64172, 9)\n",
            "+---------------+-----+\n",
            "|smoking_history|count|\n",
            "+---------------+-----+\n",
            "|    not current| 6439|\n",
            "|         former| 9352|\n",
            "|        current| 9286|\n",
            "|          never|35092|\n",
            "|           ever| 4003|\n",
            "+---------------+-----+\n",
            "\n"
          ]
        }
      ]
    },
    {
      "cell_type": "code",
      "source": [
        "#count the total no. of gender types\n",
        "print((df_diabetes_data.count(), len(df_diabetes_data.columns)))\n",
        "df_diabetes_data.groupBy('gender').count().show()"
      ],
      "metadata": {
        "colab": {
          "base_uri": "https://localhost:8080/"
        },
        "id": "ZKJc4_sLh_pJ",
        "outputId": "d4a6ef4e-7a55-4bc9-9300-b6e0870a3ffa"
      },
      "execution_count": 22,
      "outputs": [
        {
          "output_type": "stream",
          "name": "stdout",
          "text": [
            "(64172, 9)\n",
            "+------+-----+\n",
            "|gender|count|\n",
            "+------+-----+\n",
            "|Female|38852|\n",
            "|  Male|25320|\n",
            "+------+-----+\n",
            "\n"
          ]
        }
      ]
    },
    {
      "cell_type": "code",
      "source": [
        "#assign in the 'gender'column 'Female' = 0, and 'Male' = 1\n",
        "from pyspark.sql.functions import when, col\n",
        "df_diabetes_data = df_diabetes_data.withColumn(\"gender\",\n",
        "    when(col(\"gender\") == \"Female\", 0).\n",
        "    when(col(\"gender\") == \"Male\", 1).\n",
        "    otherwise(col(\"gender\"))\n",
        ")\n",
        "df_diabetes_data.show()"
      ],
      "metadata": {
        "colab": {
          "base_uri": "https://localhost:8080/"
        },
        "id": "ZlK0I77Di1Yq",
        "outputId": "d1af3089-b898-4f80-83b9-eabe81b987de"
      },
      "execution_count": 23,
      "outputs": [
        {
          "output_type": "stream",
          "name": "stdout",
          "text": [
            "+------+----+------------+-------------+---------------+-----+-----------+-------------------+--------+\n",
            "|gender| age|hypertension|heart_disease|smoking_history|  bmi|HbA1c_level|blood_glucose_level|diabetes|\n",
            "+------+----+------------+-------------+---------------+-----+-----------+-------------------+--------+\n",
            "|     0|80.0|           0|            1|          never|25.19|        6.6|                140|       0|\n",
            "|     1|28.0|           0|            0|          never|27.32|        5.7|                158|       0|\n",
            "|     0|36.0|           0|            0|        current|23.45|        5.0|                155|       0|\n",
            "|     1|76.0|           1|            1|        current|20.14|        4.8|                155|       0|\n",
            "|     0|20.0|           0|            0|          never|27.32|        6.6|                 85|       0|\n",
            "|     0|44.0|           0|            0|          never|19.31|        6.5|                200|       1|\n",
            "|     1|42.0|           0|            0|          never|33.64|        4.8|                145|       0|\n",
            "|     0|32.0|           0|            0|          never|27.32|        5.0|                100|       0|\n",
            "|     0|53.0|           0|            0|          never|27.32|        6.1|                 85|       0|\n",
            "|     0|54.0|           0|            0|         former| 54.7|        6.0|                100|       0|\n",
            "|     0|78.0|           0|            0|         former|36.05|        5.0|                130|       0|\n",
            "|     0|67.0|           0|            0|          never|25.69|        5.8|                200|       0|\n",
            "|     1|15.0|           0|            0|          never|30.36|        6.1|                200|       0|\n",
            "|     0|42.0|           0|            0|          never|24.48|        5.7|                158|       0|\n",
            "|     1|37.0|           0|            0|           ever|25.72|        3.5|                159|       0|\n",
            "|     1|40.0|           0|            0|        current|36.38|        6.0|                 90|       0|\n",
            "|     0|69.0|           0|            0|          never|21.24|        4.8|                 85|       0|\n",
            "|     0|72.0|           0|            1|         former|27.94|        6.5|                130|       0|\n",
            "|     1|30.0|           0|            0|          never|33.76|        6.1|                126|       0|\n",
            "|     1|67.0|           0|            1|    not current|27.32|        6.5|                200|       1|\n",
            "+------+----+------------+-------------+---------------+-----+-----------+-------------------+--------+\n",
            "only showing top 20 rows\n",
            "\n"
          ]
        }
      ]
    },
    {
      "cell_type": "code",
      "source": [
        "#assign in the 'smoking_history': \"never\" = 0, \"ever\" = 1, \"not current\" = 2, \"current\" = 3, \"former\" = 4\n",
        "df_diabetes_data = df_diabetes_data.withColumn(\"smoking_history\",\n",
        "    when(col(\"smoking_history\") == \"never\", 0).\n",
        "    when(col(\"smoking_history\") == \"ever\", 1).\n",
        "    when(col(\"smoking_history\") == \"not current\", 2).\n",
        "    when(col(\"smoking_history\") == \"current\", 3).\n",
        "    when(col(\"smoking_history\") == \"former\", 4).\n",
        "    otherwise(col(\"smoking_history\"))\n",
        ")\n",
        "df_diabetes_data.show()"
      ],
      "metadata": {
        "colab": {
          "base_uri": "https://localhost:8080/"
        },
        "id": "j3RHqrEwlS_e",
        "outputId": "1ca015a1-0e2e-4687-a5a7-317f19a7f1a3"
      },
      "execution_count": 24,
      "outputs": [
        {
          "output_type": "stream",
          "name": "stdout",
          "text": [
            "+------+----+------------+-------------+---------------+-----+-----------+-------------------+--------+\n",
            "|gender| age|hypertension|heart_disease|smoking_history|  bmi|HbA1c_level|blood_glucose_level|diabetes|\n",
            "+------+----+------------+-------------+---------------+-----+-----------+-------------------+--------+\n",
            "|     0|80.0|           0|            1|              0|25.19|        6.6|                140|       0|\n",
            "|     1|28.0|           0|            0|              0|27.32|        5.7|                158|       0|\n",
            "|     0|36.0|           0|            0|              3|23.45|        5.0|                155|       0|\n",
            "|     1|76.0|           1|            1|              3|20.14|        4.8|                155|       0|\n",
            "|     0|20.0|           0|            0|              0|27.32|        6.6|                 85|       0|\n",
            "|     0|44.0|           0|            0|              0|19.31|        6.5|                200|       1|\n",
            "|     1|42.0|           0|            0|              0|33.64|        4.8|                145|       0|\n",
            "|     0|32.0|           0|            0|              0|27.32|        5.0|                100|       0|\n",
            "|     0|53.0|           0|            0|              0|27.32|        6.1|                 85|       0|\n",
            "|     0|54.0|           0|            0|              4| 54.7|        6.0|                100|       0|\n",
            "|     0|78.0|           0|            0|              4|36.05|        5.0|                130|       0|\n",
            "|     0|67.0|           0|            0|              0|25.69|        5.8|                200|       0|\n",
            "|     1|15.0|           0|            0|              0|30.36|        6.1|                200|       0|\n",
            "|     0|42.0|           0|            0|              0|24.48|        5.7|                158|       0|\n",
            "|     1|37.0|           0|            0|              1|25.72|        3.5|                159|       0|\n",
            "|     1|40.0|           0|            0|              3|36.38|        6.0|                 90|       0|\n",
            "|     0|69.0|           0|            0|              0|21.24|        4.8|                 85|       0|\n",
            "|     0|72.0|           0|            1|              4|27.94|        6.5|                130|       0|\n",
            "|     1|30.0|           0|            0|              0|33.76|        6.1|                126|       0|\n",
            "|     1|67.0|           0|            1|              2|27.32|        6.5|                200|       1|\n",
            "+------+----+------------+-------------+---------------+-----+-----------+-------------------+--------+\n",
            "only showing top 20 rows\n",
            "\n"
          ]
        }
      ]
    },
    {
      "cell_type": "markdown",
      "metadata": {
        "id": "LOgSTdBpPs7G"
      },
      "source": [
        "# PART 4: Correlation Analysis & Feature Selection"
      ]
    },
    {
      "cell_type": "code",
      "source": [
        "# gender and smoking_history needs to be converted to float data type for model to work\n",
        "df_diabetes_data = df_diabetes_data.withColumn(\"gender\", col(\"gender\").cast('float'))\n",
        "df_diabetes_data = df_diabetes_data.withColumn(\"smoking_history\", col(\"smoking_history\").cast('float'))\n",
        "df_diabetes_data.show()\n"
      ],
      "metadata": {
        "id": "PVQ4iahSjL63",
        "outputId": "a525766f-9121-484e-df99-b3dc89db2fa8",
        "colab": {
          "base_uri": "https://localhost:8080/"
        }
      },
      "execution_count": 25,
      "outputs": [
        {
          "output_type": "stream",
          "name": "stdout",
          "text": [
            "+------+----+------------+-------------+---------------+-----+-----------+-------------------+--------+\n",
            "|gender| age|hypertension|heart_disease|smoking_history|  bmi|HbA1c_level|blood_glucose_level|diabetes|\n",
            "+------+----+------------+-------------+---------------+-----+-----------+-------------------+--------+\n",
            "|   0.0|80.0|           0|            1|            0.0|25.19|        6.6|                140|       0|\n",
            "|   1.0|28.0|           0|            0|            0.0|27.32|        5.7|                158|       0|\n",
            "|   0.0|36.0|           0|            0|            3.0|23.45|        5.0|                155|       0|\n",
            "|   1.0|76.0|           1|            1|            3.0|20.14|        4.8|                155|       0|\n",
            "|   0.0|20.0|           0|            0|            0.0|27.32|        6.6|                 85|       0|\n",
            "|   0.0|44.0|           0|            0|            0.0|19.31|        6.5|                200|       1|\n",
            "|   1.0|42.0|           0|            0|            0.0|33.64|        4.8|                145|       0|\n",
            "|   0.0|32.0|           0|            0|            0.0|27.32|        5.0|                100|       0|\n",
            "|   0.0|53.0|           0|            0|            0.0|27.32|        6.1|                 85|       0|\n",
            "|   0.0|54.0|           0|            0|            4.0| 54.7|        6.0|                100|       0|\n",
            "|   0.0|78.0|           0|            0|            4.0|36.05|        5.0|                130|       0|\n",
            "|   0.0|67.0|           0|            0|            0.0|25.69|        5.8|                200|       0|\n",
            "|   1.0|15.0|           0|            0|            0.0|30.36|        6.1|                200|       0|\n",
            "|   0.0|42.0|           0|            0|            0.0|24.48|        5.7|                158|       0|\n",
            "|   1.0|37.0|           0|            0|            1.0|25.72|        3.5|                159|       0|\n",
            "|   1.0|40.0|           0|            0|            3.0|36.38|        6.0|                 90|       0|\n",
            "|   0.0|69.0|           0|            0|            0.0|21.24|        4.8|                 85|       0|\n",
            "|   0.0|72.0|           0|            1|            4.0|27.94|        6.5|                130|       0|\n",
            "|   1.0|30.0|           0|            0|            0.0|33.76|        6.1|                126|       0|\n",
            "|   1.0|67.0|           0|            1|            2.0|27.32|        6.5|                200|       1|\n",
            "+------+----+------------+-------------+---------------+-----+-----------+-------------------+--------+\n",
            "only showing top 20 rows\n",
            "\n"
          ]
        }
      ]
    },
    {
      "cell_type": "code",
      "metadata": {
        "id": "7Eq6jdcFP_3C",
        "colab": {
          "base_uri": "https://localhost:8080/"
        },
        "outputId": "8bad639f-c420-4058-bf44-d08bb1545df0"
      },
      "source": [
        "#find the correlation among the set of input & output variables\n",
        "for i in df_diabetes_data.columns:\n",
        "  print(\"Correlation to outcome for {} is {}\".format(i, df_diabetes_data.stat.corr(\"diabetes\",i)))"
      ],
      "execution_count": 26,
      "outputs": [
        {
          "output_type": "stream",
          "name": "stdout",
          "text": [
            "Correlation to outcome for gender is 0.05699689368565596\n",
            "Correlation to outcome for age is 0.26084962459224337\n",
            "Correlation to outcome for hypertension is 0.19222574901207254\n",
            "Correlation to outcome for heart_disease is 0.16961397731730365\n",
            "Correlation to outcome for smoking_history is 0.06472564826560573\n",
            "Correlation to outcome for bmi is 0.20442115545137657\n",
            "Correlation to outcome for HbA1c_level is 0.43889709468177335\n",
            "Correlation to outcome for blood_glucose_level is 0.449697968864106\n",
            "Correlation to outcome for diabetes is 1.0\n"
          ]
        }
      ]
    },
    {
      "cell_type": "code",
      "metadata": {
        "id": "Fl7Edj-OQACn"
      },
      "source": [
        "#feature selection\n",
        "from pyspark.ml.feature import VectorAssembler\n",
        "\n",
        "assembler = VectorAssembler(inputCols = ['gender', 'age', 'hypertension', 'heart_disease',\n",
        "                                         'smoking_history', 'bmi', 'HbA1c_level', 'blood_glucose_level'], outputCol='features')\n",
        "output_data = assembler.transform(df_diabetes_data)"
      ],
      "execution_count": 27,
      "outputs": []
    },
    {
      "cell_type": "code",
      "metadata": {
        "id": "mJKrfqdaQAOy",
        "colab": {
          "base_uri": "https://localhost:8080/"
        },
        "outputId": "c6dd8966-0e78-48b5-eda1-56dbcda161c9"
      },
      "source": [
        "#print the schema\n",
        "output_data.printSchema()"
      ],
      "execution_count": 28,
      "outputs": [
        {
          "output_type": "stream",
          "name": "stdout",
          "text": [
            "root\n",
            " |-- gender: float (nullable = true)\n",
            " |-- age: double (nullable = true)\n",
            " |-- hypertension: integer (nullable = true)\n",
            " |-- heart_disease: integer (nullable = true)\n",
            " |-- smoking_history: float (nullable = true)\n",
            " |-- bmi: double (nullable = true)\n",
            " |-- HbA1c_level: double (nullable = true)\n",
            " |-- blood_glucose_level: integer (nullable = true)\n",
            " |-- diabetes: integer (nullable = true)\n",
            " |-- features: vector (nullable = true)\n",
            "\n"
          ]
        }
      ]
    },
    {
      "cell_type": "code",
      "metadata": {
        "id": "FURl7qESQAaQ",
        "colab": {
          "base_uri": "https://localhost:8080/"
        },
        "outputId": "0de4733d-2562-438c-b2f4-0d7ef01dab7b"
      },
      "source": [
        "#display dataframe\n",
        "output_data.show()"
      ],
      "execution_count": 29,
      "outputs": [
        {
          "output_type": "stream",
          "name": "stdout",
          "text": [
            "+------+----+------------+-------------+---------------+-----+-----------+-------------------+--------+--------------------+\n",
            "|gender| age|hypertension|heart_disease|smoking_history|  bmi|HbA1c_level|blood_glucose_level|diabetes|            features|\n",
            "+------+----+------------+-------------+---------------+-----+-----------+-------------------+--------+--------------------+\n",
            "|   0.0|80.0|           0|            1|            0.0|25.19|        6.6|                140|       0|[0.0,80.0,0.0,1.0...|\n",
            "|   1.0|28.0|           0|            0|            0.0|27.32|        5.7|                158|       0|[1.0,28.0,0.0,0.0...|\n",
            "|   0.0|36.0|           0|            0|            3.0|23.45|        5.0|                155|       0|[0.0,36.0,0.0,0.0...|\n",
            "|   1.0|76.0|           1|            1|            3.0|20.14|        4.8|                155|       0|[1.0,76.0,1.0,1.0...|\n",
            "|   0.0|20.0|           0|            0|            0.0|27.32|        6.6|                 85|       0|(8,[1,5,6,7],[20....|\n",
            "|   0.0|44.0|           0|            0|            0.0|19.31|        6.5|                200|       1|(8,[1,5,6,7],[44....|\n",
            "|   1.0|42.0|           0|            0|            0.0|33.64|        4.8|                145|       0|[1.0,42.0,0.0,0.0...|\n",
            "|   0.0|32.0|           0|            0|            0.0|27.32|        5.0|                100|       0|(8,[1,5,6,7],[32....|\n",
            "|   0.0|53.0|           0|            0|            0.0|27.32|        6.1|                 85|       0|(8,[1,5,6,7],[53....|\n",
            "|   0.0|54.0|           0|            0|            4.0| 54.7|        6.0|                100|       0|[0.0,54.0,0.0,0.0...|\n",
            "|   0.0|78.0|           0|            0|            4.0|36.05|        5.0|                130|       0|[0.0,78.0,0.0,0.0...|\n",
            "|   0.0|67.0|           0|            0|            0.0|25.69|        5.8|                200|       0|(8,[1,5,6,7],[67....|\n",
            "|   1.0|15.0|           0|            0|            0.0|30.36|        6.1|                200|       0|[1.0,15.0,0.0,0.0...|\n",
            "|   0.0|42.0|           0|            0|            0.0|24.48|        5.7|                158|       0|(8,[1,5,6,7],[42....|\n",
            "|   1.0|37.0|           0|            0|            1.0|25.72|        3.5|                159|       0|[1.0,37.0,0.0,0.0...|\n",
            "|   1.0|40.0|           0|            0|            3.0|36.38|        6.0|                 90|       0|[1.0,40.0,0.0,0.0...|\n",
            "|   0.0|69.0|           0|            0|            0.0|21.24|        4.8|                 85|       0|(8,[1,5,6,7],[69....|\n",
            "|   0.0|72.0|           0|            1|            4.0|27.94|        6.5|                130|       0|[0.0,72.0,0.0,1.0...|\n",
            "|   1.0|30.0|           0|            0|            0.0|33.76|        6.1|                126|       0|[1.0,30.0,0.0,0.0...|\n",
            "|   1.0|67.0|           0|            1|            2.0|27.32|        6.5|                200|       1|[1.0,67.0,0.0,1.0...|\n",
            "+------+----+------------+-------------+---------------+-----+-----------+-------------------+--------+--------------------+\n",
            "only showing top 20 rows\n",
            "\n"
          ]
        }
      ]
    },
    {
      "cell_type": "markdown",
      "metadata": {
        "id": "8fSjOdfyQA99"
      },
      "source": [
        "# PART 5: Split Dataset & Build the Model"
      ]
    },
    {
      "cell_type": "code",
      "metadata": {
        "id": "F89--FiVQQJn"
      },
      "source": [
        "#create final data\n",
        "from pyspark.ml.classification import LogisticRegression\n",
        "\n",
        "final_data = output_data.select('features','diabetes')"
      ],
      "execution_count": 30,
      "outputs": []
    },
    {
      "cell_type": "code",
      "metadata": {
        "id": "cKpm5912Qji_",
        "colab": {
          "base_uri": "https://localhost:8080/"
        },
        "outputId": "234470b6-952a-40bf-8154-ad7cf0fe99fa"
      },
      "source": [
        "#print schema of final data\n",
        "final_data.printSchema()"
      ],
      "execution_count": 31,
      "outputs": [
        {
          "output_type": "stream",
          "name": "stdout",
          "text": [
            "root\n",
            " |-- features: vector (nullable = true)\n",
            " |-- diabetes: integer (nullable = true)\n",
            "\n"
          ]
        }
      ]
    },
    {
      "cell_type": "code",
      "metadata": {
        "id": "r_Nom7aZQjuN"
      },
      "source": [
        "#split the dataset ; build the model\n",
        "train, test = final_data.randomSplit([0.7, 0.3])\n",
        "models = LogisticRegression(labelCol= 'diabetes')\n",
        "model = models.fit(train)"
      ],
      "execution_count": 32,
      "outputs": []
    },
    {
      "cell_type": "code",
      "metadata": {
        "id": "OljO2HcIQj7E",
        "colab": {
          "base_uri": "https://localhost:8080/"
        },
        "outputId": "1a85a99c-34c9-4a32-852c-2bce46ca9a9b"
      },
      "source": [
        "#summary of the model\n",
        "summary = model.summary\n",
        "summary.predictions.describe().show()"
      ],
      "execution_count": 33,
      "outputs": [
        {
          "output_type": "stream",
          "name": "stdout",
          "text": [
            "+-------+-------------------+-------------------+\n",
            "|summary|           diabetes|         prediction|\n",
            "+-------+-------------------+-------------------+\n",
            "|  count|              44986|              44986|\n",
            "|   mean|0.11107900235628862|0.08260347663717602|\n",
            "| stddev|0.31423343640654444|0.27528499205243867|\n",
            "|    min|                0.0|                0.0|\n",
            "|    max|                1.0|                1.0|\n",
            "+-------+-------------------+-------------------+\n",
            "\n"
          ]
        }
      ]
    },
    {
      "cell_type": "markdown",
      "metadata": {
        "id": "DfaD_vzfQkah"
      },
      "source": [
        "# PART 6: Evaluate and Save the Model"
      ]
    },
    {
      "cell_type": "code",
      "metadata": {
        "id": "CHC5Erq7Q4QN"
      },
      "source": [
        "from pyspark.ml.evaluation import BinaryClassificationEvaluator\n",
        "\n",
        "predictions = model.evaluate(test)"
      ],
      "execution_count": 34,
      "outputs": []
    },
    {
      "cell_type": "code",
      "metadata": {
        "id": "UBltVqoNQ4cM",
        "colab": {
          "base_uri": "https://localhost:8080/"
        },
        "outputId": "f0e71a29-792a-4fd5-fcd0-b8248c83f494"
      },
      "source": [
        "predictions.predictions.show(100)"
      ],
      "execution_count": 35,
      "outputs": [
        {
          "output_type": "stream",
          "name": "stdout",
          "text": [
            "+--------------------+--------+--------------------+--------------------+----------+\n",
            "|            features|diabetes|       rawPrediction|         probability|prediction|\n",
            "+--------------------+--------+--------------------+--------------------+----------+\n",
            "|(8,[1,5,6,7],[0.3...|       0|[7.10707098832726...|[0.99918137949396...|       0.0|\n",
            "|(8,[1,5,6,7],[0.4...|       0|[4.92644186968294...|[0.99279995469349...|       0.0|\n",
            "|(8,[1,5,6,7],[0.4...|       0|[10.6181329032953...|[0.99997553231697...|       0.0|\n",
            "|(8,[1,5,6,7],[0.8...|       0|[5.28258198825644...|[0.99494636974354...|       0.0|\n",
            "|(8,[1,5,6,7],[0.8...|       0|[5.90781251096330...|[0.99728924192245...|       0.0|\n",
            "|(8,[1,5,6,7],[0.8...|       0|[14.4559230637950...|[0.99999947292532...|       0.0|\n",
            "|(8,[1,5,6,7],[1.0...|       0|[7.74925832647991...|[0.99956912360508...|       0.0|\n",
            "|(8,[1,5,6,7],[1.0...|       0|[7.53206450354184...|[0.99946465544559...|       0.0|\n",
            "|(8,[1,5,6,7],[1.1...|       0|[9.37480828979076...|[0.99991517269895...|       0.0|\n",
            "|(8,[1,5,6,7],[1.2...|       0|[5.28088178160517...|[0.99493781375174...|       0.0|\n",
            "|(8,[1,5,6,7],[1.2...|       0|[7.48494531299336...|[0.99943884120154...|       0.0|\n",
            "|(8,[1,5,6,7],[1.3...|       0|[12.5820040147971...|[0.99999656676450...|       0.0|\n",
            "|(8,[1,5,6,7],[1.3...|       0|[10.0698674990423...|[0.99995766556912...|       0.0|\n",
            "|(8,[1,5,6,7],[1.4...|       0|[14.8159117960669...|[0.99999963226827...|       0.0|\n",
            "|(8,[1,5,6,7],[1.5...|       0|[8.29149274823542...|[0.99974942276381...|       0.0|\n",
            "|(8,[1,5,6,7],[1.5...|       0|[8.641671771744,-...|[0.99982343974426...|       0.0|\n",
            "|(8,[1,5,6,7],[1.5...|       0|[7.47384493695021...|[0.99943258098124...|       0.0|\n",
            "|(8,[1,5,6,7],[1.7...|       0|[5.32051205692990...|[0.99513354915822...|       0.0|\n",
            "|(8,[1,5,6,7],[1.8...|       0|[6.53433172738662...|[0.99854940777186...|       0.0|\n",
            "|(8,[1,5,6,7],[1.8...|       0|[11.6370180216147...|[0.99999116709720...|       0.0|\n",
            "|(8,[1,5,6,7],[2.0...|       0|[11.3760312447308...|[0.99998853306305...|       0.0|\n",
            "|(8,[1,5,6,7],[2.0...|       0|[9.95433129555972...|[0.99995248089968...|       0.0|\n",
            "|(8,[1,5,6,7],[2.0...|       0|[11.7494997388029...|[0.99999210678976...|       0.0|\n",
            "|(8,[1,5,6,7],[2.0...|       0|[6.09627549216302...|[0.99775381980996...|       0.0|\n",
            "|(8,[1,5,6,7],[2.0...|       0|[6.76285739358572...|[0.99884541308409...|       0.0|\n",
            "|(8,[1,5,6,7],[2.0...|       0|[11.1862147944320...|[0.99998613618928...|       0.0|\n",
            "|(8,[1,5,6,7],[2.0...|       0|[8.62057380165992...|[0.99981967578667...|       0.0|\n",
            "|(8,[1,5,6,7],[2.0...|       0|[7.26142909667126...|[0.99929838866019...|       0.0|\n",
            "|(8,[1,5,6,7],[2.0...|       0|[6.26351688454170...|[0.99809908439056...|       0.0|\n",
            "|(8,[1,5,6,7],[2.0...|       0|[4.50559048509036...|[0.98907363908735...|       0.0|\n",
            "|(8,[1,5,6,7],[2.0...|       0|[3.23239665773361...|[0.96203538378357...|       0.0|\n",
            "|(8,[1,5,6,7],[2.0...|       0|[11.5163585334430...|[0.99999003437113...|       0.0|\n",
            "|(8,[1,5,6,7],[2.0...|       0|[10.6699186777284...|[0.99997676711697...|       0.0|\n",
            "|(8,[1,5,6,7],[2.0...|       0|[9.16610238282848...|[0.99989548781604...|       0.0|\n",
            "|(8,[1,5,6,7],[2.0...|       0|[8.31966252711386...|[0.99975638127944...|       0.0|\n",
            "|(8,[1,5,6,7],[3.0...|       0|[7.75191700396271...|[0.99957026715333...|       0.0|\n",
            "|(8,[1,5,6,7],[3.0...|       0|[8.85353908863506...|[0.99985714521792...|       0.0|\n",
            "|(8,[1,5,6,7],[3.0...|       0|[6.32957543936066...|[0.99822038217464...|       0.0|\n",
            "|(8,[1,5,6,7],[3.0...|       0|[7.55445939747508...|[0.99947650497423...|       0.0|\n",
            "|(8,[1,5,6,7],[3.0...|       0|[7.28374775443608...|[0.99931386360696...|       0.0|\n",
            "|(8,[1,5,6,7],[3.0...|       0|[9.15766026746168...|[0.99989460187075...|       0.0|\n",
            "|(8,[1,5,6,7],[3.0...|       0|[10.4945613373681...|[0.99997231414772...|       0.0|\n",
            "|(8,[1,5,6,7],[3.0...|       0|[7.33669351893404...|[0.99934922363956...|       0.0|\n",
            "|(8,[1,5,6,7],[3.0...|       0|[12.2421163253215...|[0.99999517703246...|       0.0|\n",
            "|(8,[1,5,6,7],[3.0...|       0|[11.6831320081739...|[0.99999156516533...|       0.0|\n",
            "|(8,[1,5,6,7],[3.0...|       0|[12.2696530406759...|[0.99999530802864...|       0.0|\n",
            "|(8,[1,5,6,7],[3.0...|       0|[7.91658040699911...|[0.99963548577735...|       0.0|\n",
            "|(8,[1,5,6,7],[3.0...|       0|[11.8551027154560...|[0.99999289782737...|       0.0|\n",
            "|(8,[1,5,6,7],[3.0...|       0|[6.83986912396240...|[0.99893090073679...|       0.0|\n",
            "|(8,[1,5,6,7],[3.0...|       0|[11.1150010751082...|[0.99998511290700...|       0.0|\n",
            "|(8,[1,5,6,7],[3.0...|       0|[11.2546258781716...|[0.99998705290119...|       0.0|\n",
            "|(8,[1,5,6,7],[3.0...|       0|[8.19929288237267...|[0.99972522766955...|       0.0|\n",
            "|(8,[1,5,6,7],[3.0...|       0|[6.39150767461292...|[0.99832707552255...|       0.0|\n",
            "|(8,[1,5,6,7],[3.0...|       0|[3.87776519476838...|[0.97972265343558...|       0.0|\n",
            "|(8,[1,5,6,7],[4.0...|       0|[11.9956508159148...|[0.99999382904522...|       0.0|\n",
            "|(8,[1,5,6,7],[4.0...|       0|[7.95367382638333...|[0.99964875449466...|       0.0|\n",
            "|(8,[1,5,6,7],[4.0...|       0|[11.0061821342092...|[0.99998340150837...|       0.0|\n",
            "|(8,[1,5,6,7],[4.0...|       0|[7.21930749967461...|[0.99926822651677...|       0.0|\n",
            "|(8,[1,5,6,7],[4.0...|       0|[8.62224750804870...|[0.99981997728974...|       0.0|\n",
            "|(8,[1,5,6,7],[4.0...|       0|[6.45001687419852...|[0.99842199852531...|       0.0|\n",
            "|(8,[1,5,6,7],[4.0...|       0|[8.17981994398935...|[0.99971982612268...|       0.0|\n",
            "|(8,[1,5,6,7],[4.0...|       0|[8.83224524247658...|[0.99985407112055...|       0.0|\n",
            "|(8,[1,5,6,7],[4.0...|       0|[12.2133143767643...|[0.99999503610250...|       0.0|\n",
            "|(8,[1,5,6,7],[4.0...|       1|[-2.8514640130613...|[0.05460568983934...|       1.0|\n",
            "|(8,[1,5,6,7],[4.0...|       0|[8.03289471082536...|[0.99967549813202...|       0.0|\n",
            "|(8,[1,5,6,7],[4.0...|       0|[9.97456839499327...|[0.99995343283892...|       0.0|\n",
            "|(8,[1,5,6,7],[4.0...|       0|[9.56258918497054...|[0.99992969442737...|       0.0|\n",
            "|(8,[1,5,6,7],[4.0...|       0|[8.57072328948599...|[0.99981046044979...|       0.0|\n",
            "|(8,[1,5,6,7],[4.0...|       0|[7.66645770709549...|[0.99953194552588...|       0.0|\n",
            "|(8,[1,5,6,7],[4.0...|       0|[9.64323828688965...|[0.99993514153653...|       0.0|\n",
            "|(8,[1,5,6,7],[4.0...|       0|[6.95349361490123...|[0.99904561981658...|       0.0|\n",
            "|(8,[1,5,6,7],[4.0...|       0|[6.78218231913778...|[0.99886748615414...|       0.0|\n",
            "|(8,[1,5,6,7],[4.0...|       0|[8.72418257589730...|[0.99983742078016...|       0.0|\n",
            "|(8,[1,5,6,7],[4.0...|       0|[5.85052541321464...|[0.99712987491062...|       0.0|\n",
            "|(8,[1,5,6,7],[5.0...|       0|[9.78841297935381...|[0.99994390529167...|       0.0|\n",
            "|(8,[1,5,6,7],[5.0...|       0|[11.1774267034245...|[0.99998601381763...|       0.0|\n",
            "|(8,[1,5,6,7],[5.0...|       0|[5.43326161472515...|[0.99565018047063...|       0.0|\n",
            "|(8,[1,5,6,7],[5.0...|       0|[11.8941050111394...|[0.99999316949426...|       0.0|\n",
            "|(8,[1,5,6,7],[5.0...|       0|[12.3360329116018...|[0.99999560936766...|       0.0|\n",
            "|(8,[1,5,6,7],[5.0...|       0|[6.76625899810706...|[0.99884932934840...|       0.0|\n",
            "|(8,[1,5,6,7],[5.0...|       0|[11.4733259750188...|[0.99998959616821...|       0.0|\n",
            "|(8,[1,5,6,7],[5.0...|       0|[12.1746018565767...|[0.99999484017047...|       0.0|\n",
            "|(8,[1,5,6,7],[5.0...|       0|[5.08183879189392...|[0.99382982501636...|       0.0|\n",
            "|(8,[1,5,6,7],[5.0...|       0|[7.01774298633641...|[0.99910495667268...|       0.0|\n",
            "|(8,[1,5,6,7],[5.0...|       0|[12.6037376750153...|[0.99999664057602...|       0.0|\n",
            "|(8,[1,5,6,7],[5.0...|       0|[5.35568531549896...|[0.99530095244318...|       0.0|\n",
            "|(8,[1,5,6,7],[5.0...|       0|[12.0074882625353...|[0.99999390166247...|       0.0|\n",
            "|(8,[1,5,6,7],[5.0...|       0|[9.56150675122991...|[0.99992961829040...|       0.0|\n",
            "|(8,[1,5,6,7],[5.0...|       0|[11.9610423751984...|[0.99999361174087...|       0.0|\n",
            "|(8,[1,5,6,7],[5.0...|       0|[8.29728644878606...|[0.99975086997520...|       0.0|\n",
            "|(8,[1,5,6,7],[5.0...|       0|[7.60771637134894...|[0.99950364186861...|       0.0|\n",
            "|(8,[1,5,6,7],[5.0...|       0|[10.6516857052044...|[0.99997633963720...|       0.0|\n",
            "|(8,[1,5,6,7],[5.0...|       0|[9.06473776258957...|[0.99988433973679...|       0.0|\n",
            "|(8,[1,5,6,7],[5.0...|       0|[6.52525177598222...|[0.99853619585413...|       0.0|\n",
            "|(8,[1,5,6,7],[5.0...|       0|[5.16323627993953...|[0.99430942005746...|       0.0|\n",
            "|(8,[1,5,6,7],[5.0...|       0|[4.41540289010271...|[0.98805473216311...|       0.0|\n",
            "|(8,[1,5,6,7],[6.0...|       0|[9.85005241186239...|[0.99994725835331...|       0.0|\n",
            "|(8,[1,5,6,7],[6.0...|       0|[11.7701647214039...|[0.99999226822775...|       0.0|\n",
            "|(8,[1,5,6,7],[6.0...|       0|[5.39136669480151...|[0.99546491789838...|       0.0|\n",
            "|(8,[1,5,6,7],[6.0...|       0|[12.6662098126510...|[0.99999684402465...|       0.0|\n",
            "+--------------------+--------+--------------------+--------------------+----------+\n",
            "only showing top 100 rows\n",
            "\n"
          ]
        }
      ]
    },
    {
      "cell_type": "code",
      "metadata": {
        "id": "A4BHCxCiQ4l-",
        "colab": {
          "base_uri": "https://localhost:8080/"
        },
        "outputId": "79602274-cca9-435b-c53d-7310941a6e0a"
      },
      "source": [
        "evaluator = BinaryClassificationEvaluator(rawPredictionCol= 'rawPrediction', labelCol='diabetes')\n",
        "evaluator.evaluate(model.transform(test))"
      ],
      "execution_count": 36,
      "outputs": [
        {
          "output_type": "execute_result",
          "data": {
            "text/plain": [
              "0.9547518942243435"
            ]
          },
          "metadata": {},
          "execution_count": 36
        }
      ]
    },
    {
      "cell_type": "code",
      "metadata": {
        "id": "ERpRUFOHQ4x5"
      },
      "source": [
        "# save model\n",
        "model.save(\"model\")"
      ],
      "execution_count": 37,
      "outputs": []
    },
    {
      "cell_type": "code",
      "metadata": {
        "id": "4zSA9_KCQ47W"
      },
      "source": [
        "# load saved model back to the environment\n",
        "from pyspark.ml.classification import LogisticRegressionModel\n",
        "\n",
        "model = LogisticRegressionModel.load('model')"
      ],
      "execution_count": 38,
      "outputs": []
    },
    {
      "cell_type": "markdown",
      "metadata": {
        "id": "Iznukr-xRANo"
      },
      "source": [
        "# PART 7: Prediction on New Data with the saved model\n"
      ]
    },
    {
      "cell_type": "code",
      "metadata": {
        "id": "MBq2hq27RdHB"
      },
      "source": [
        "#create a new spark dataframe\n",
        "test_df = spark.read.csv('/content/Project-4/Luis/Dataset/diabetes_test_dataset.csv', header=True, inferSchema=True)"
      ],
      "execution_count": 39,
      "outputs": []
    },
    {
      "cell_type": "code",
      "metadata": {
        "id": "co8K0NZsRdQB",
        "colab": {
          "base_uri": "https://localhost:8080/"
        },
        "outputId": "caa88153-0626-4dbd-bbcc-a69b779dabe2"
      },
      "source": [
        "#print the schema\n",
        "test_df.printSchema()"
      ],
      "execution_count": 40,
      "outputs": [
        {
          "output_type": "stream",
          "name": "stdout",
          "text": [
            "root\n",
            " |-- gender: integer (nullable = true)\n",
            " |-- age: integer (nullable = true)\n",
            " |-- hypertension: integer (nullable = true)\n",
            " |-- heart_disease: integer (nullable = true)\n",
            " |-- smoking_history: integer (nullable = true)\n",
            " |-- bmi: double (nullable = true)\n",
            " |-- HbA1c_level: double (nullable = true)\n",
            " |-- blood_glucose_level: integer (nullable = true)\n",
            "\n"
          ]
        }
      ]
    },
    {
      "cell_type": "code",
      "metadata": {
        "id": "J7jtGf4lRdaz"
      },
      "source": [
        "#create an additional feature merged column\n",
        "test_data = assembler.transform(test_df)"
      ],
      "execution_count": 41,
      "outputs": []
    },
    {
      "cell_type": "code",
      "metadata": {
        "id": "kd1glzOnRdkq",
        "colab": {
          "base_uri": "https://localhost:8080/"
        },
        "outputId": "20aec4d8-92ea-4eb2-be11-1371516fc7cc"
      },
      "source": [
        "#print the schema\n",
        "test_data.printSchema()"
      ],
      "execution_count": 42,
      "outputs": [
        {
          "output_type": "stream",
          "name": "stdout",
          "text": [
            "root\n",
            " |-- gender: integer (nullable = true)\n",
            " |-- age: integer (nullable = true)\n",
            " |-- hypertension: integer (nullable = true)\n",
            " |-- heart_disease: integer (nullable = true)\n",
            " |-- smoking_history: integer (nullable = true)\n",
            " |-- bmi: double (nullable = true)\n",
            " |-- HbA1c_level: double (nullable = true)\n",
            " |-- blood_glucose_level: integer (nullable = true)\n",
            " |-- features: vector (nullable = true)\n",
            "\n"
          ]
        }
      ]
    },
    {
      "cell_type": "code",
      "metadata": {
        "id": "40Dck7K_Rdxh",
        "colab": {
          "base_uri": "https://localhost:8080/"
        },
        "outputId": "88a5b857-a98f-4c98-a1c2-6f031cb70a98"
      },
      "source": [
        "#use model to make predictions\n",
        "results = model.transform(test_data)\n",
        "results.printSchema()"
      ],
      "execution_count": 43,
      "outputs": [
        {
          "output_type": "stream",
          "name": "stdout",
          "text": [
            "root\n",
            " |-- gender: integer (nullable = true)\n",
            " |-- age: integer (nullable = true)\n",
            " |-- hypertension: integer (nullable = true)\n",
            " |-- heart_disease: integer (nullable = true)\n",
            " |-- smoking_history: integer (nullable = true)\n",
            " |-- bmi: double (nullable = true)\n",
            " |-- HbA1c_level: double (nullable = true)\n",
            " |-- blood_glucose_level: integer (nullable = true)\n",
            " |-- features: vector (nullable = true)\n",
            " |-- rawPrediction: vector (nullable = true)\n",
            " |-- probability: vector (nullable = true)\n",
            " |-- prediction: double (nullable = false)\n",
            "\n"
          ]
        }
      ]
    },
    {
      "cell_type": "code",
      "metadata": {
        "id": "AHpfS2SjRd7s",
        "colab": {
          "base_uri": "https://localhost:8080/"
        },
        "outputId": "57159c25-4d82-498c-cc20-de1aeff9ce90"
      },
      "source": [
        "#display the predictions\n",
        "results.select('features','rawPrediction','probability','prediction').show()"
      ],
      "execution_count": 44,
      "outputs": [
        {
          "output_type": "stream",
          "name": "stdout",
          "text": [
            "+--------------------+--------------------+--------------------+----------+\n",
            "|            features|       rawPrediction|         probability|prediction|\n",
            "+--------------------+--------------------+--------------------+----------+\n",
            "|[0.0,80.0,1.0,1.0...|[-0.2095933187828...|[0.44779265014018...|       1.0|\n",
            "|[1.0,28.0,0.0,0.0...|[4.64705005492692...|[0.99050124188798...|       0.0|\n",
            "|[0.0,36.0,0.0,0.0...|[6.62110014451784...|[0.99866980698474...|       0.0|\n",
            "|[1.0,76.0,1.0,1.0...|[3.73430275961849...|[0.97666758503342...|       0.0|\n",
            "|(8,[1,5,6,7],[20....|[5.66828322751992...|[0.99655809804484...|       0.0|\n",
            "|(8,[1,5,6,7],[44....|[1.70357179851134...|[0.84600065680202...|       0.0|\n",
            "|[1.0,42.0,0.0,0.0...|[5.94152624422066...|[0.99737887276827...|       0.0|\n",
            "|(8,[1,5,6,7],[32....|[8.36026155500314...|[0.99976607160898...|       0.0|\n",
            "+--------------------+--------------------+--------------------+----------+\n",
            "\n"
          ]
        }
      ]
    },
    {
      "cell_type": "markdown",
      "source": [
        "# PART 8: Host a Flask App which will take subjects parameters and return probablity and prediction on being diabetic or not based on ML model above"
      ],
      "metadata": {
        "id": "IKwLb4u2OB-6"
      }
    },
    {
      "cell_type": "code",
      "source": [
        "# import dependencies to run Flask app and host it on publicly accessible colab URL\n",
        "from flask import *\n",
        "import pandas as pd\n",
        "import json\n",
        "from google.colab import output\n",
        "from google.colab.output import eval_js"
      ],
      "metadata": {
        "id": "f5MRzVzRGdLn"
      },
      "execution_count": 137,
      "outputs": []
    },
    {
      "cell_type": "code",
      "source": [
        "# initialize Flask app\n",
        "app=Flask(__name__)\n"
      ],
      "metadata": {
        "id": "9Wj4Xo3ZGkXY"
      },
      "execution_count": 138,
      "outputs": []
    },
    {
      "cell_type": "code",
      "source": [
        "# Static Root API for Diabetes Prediction Model\n",
        "@app.route('/')\n",
        "def home():\n",
        "    return 'Root API for Diabetes Prediction Model'\n",
        "\n",
        "# Dynamic API that will take parameters of subject through Web UI and leverage ML Model above to return probability & prediction for being diabetic\n",
        "@app.route('/api/v1.0/predict/<gender>/<age>/<hypertension>/<heart_disease>/<smoking_history>/<bmi>/<HbA1c_level>/<blood_glucose_level>')\n",
        "def predict(gender,age,hypertension,heart_disease,smoking_history,bmi,HbA1c_level,blood_glucose_level):\n",
        "    # create a tuple from input parameters and convert them to int or float as they are treated as string when passed from Web UI\n",
        "    data = [(int(gender),int(age),int(hypertension),int(heart_disease),int(smoking_history),float(bmi),float(HbA1c_level),int(blood_glucose_level))]\n",
        "    columns = ['gender','age','hypertension','heart_disease','smoking_history','bmi','HbA1c_level','blood_glucose_level']\n",
        "\n",
        "    # Create spark dataframe for the input parameters\n",
        "    test_df = spark.createDataFrame(data,columns)\n",
        "\n",
        "    # invoke ML Model and capture model output in results\n",
        "    test_data = assembler.transform(test_df)\n",
        "    results = model.transform(test_data)\n",
        "\n",
        "    # return the results after converting it to JSON\n",
        "    return results.toJSON().first()"
      ],
      "metadata": {
        "id": "Df-lDH6cJ1o3"
      },
      "execution_count": 139,
      "outputs": []
    },
    {
      "cell_type": "code",
      "source": [
        "# Flask app when run gives local IP to access API. Since this is running on Cloud (Google Colab) and not on local notebook, local IP (127.0.0.1) will not be accessible.\n",
        "# Below code will ask colab to give us publicly accessible URL\n",
        "\n",
        "print(eval_js(\"google.colab.kernel.proxyPort(5000)\"))\n",
        "output.serve_kernel_port_as_window(5000)\n",
        "if __name__ == '__main__':\n",
        "    app.run(host='0.0.0.0',port=5000)"
      ],
      "metadata": {
        "id": "_nBfvcpZOmxv",
        "colab": {
          "base_uri": "https://localhost:8080/",
          "height": 243
        },
        "outputId": "767817cd-b92e-48bb-d224-4774103cc1d0"
      },
      "execution_count": 145,
      "outputs": [
        {
          "output_type": "stream",
          "name": "stdout",
          "text": [
            "https://g74ttvfgl36-496ff2e9c6d22116-5000-colab.googleusercontent.com/\n"
          ]
        },
        {
          "output_type": "display_data",
          "data": {
            "text/plain": [
              "<IPython.core.display.Javascript object>"
            ],
            "application/javascript": [
              "(async (port, path, text, element) => {\n",
              "    if (!google.colab.kernel.accessAllowed) {\n",
              "      return;\n",
              "    }\n",
              "    element.appendChild(document.createTextNode(''));\n",
              "    const url = await google.colab.kernel.proxyPort(port);\n",
              "    const anchor = document.createElement('a');\n",
              "    anchor.href = new URL(path, url).toString();\n",
              "    anchor.target = '_blank';\n",
              "    anchor.setAttribute('data-href', url + path);\n",
              "    anchor.textContent = text;\n",
              "    element.appendChild(anchor);\n",
              "  })(5000, \"/\", \"https://localhost:5000/\", window.element)"
            ]
          },
          "metadata": {}
        },
        {
          "output_type": "stream",
          "name": "stdout",
          "text": [
            " * Serving Flask app '__main__'\n",
            " * Debug mode: off\n"
          ]
        },
        {
          "output_type": "stream",
          "name": "stderr",
          "text": [
            "INFO:werkzeug:\u001b[31m\u001b[1mWARNING: This is a development server. Do not use it in a production deployment. Use a production WSGI server instead.\u001b[0m\n",
            " * Running on all addresses (0.0.0.0)\n",
            " * Running on http://127.0.0.1:5000\n",
            " * Running on http://172.28.0.12:5000\n",
            "INFO:werkzeug:\u001b[33mPress CTRL+C to quit\u001b[0m\n",
            "INFO:werkzeug:127.0.0.1 - - [26/Feb/2024 18:06:05] \"GET / HTTP/1.1\" 200 -\n",
            "INFO:werkzeug:127.0.0.1 - - [26/Feb/2024 18:06:05] \"\u001b[33mGET /favicon.ico HTTP/1.1\u001b[0m\" 404 -\n",
            "INFO:werkzeug:127.0.0.1 - - [26/Feb/2024 18:10:27] \"GET / HTTP/1.1\" 200 -\n",
            "INFO:werkzeug:127.0.0.1 - - [26/Feb/2024 18:10:27] \"\u001b[33mGET /favicon.ico HTTP/1.1\u001b[0m\" 404 -\n"
          ]
        }
      ]
    },
    {
      "cell_type": "code",
      "source": [
        "%%html\n",
        "<!DOCTYPE html>\n",
        "<html>\n",
        "\n",
        "<head>\n",
        "    <title>Diabetes Prediction</title>\n",
        "    <style>\n",
        "        body {\n",
        "            font-family: Arial, sans-serif;\n",
        "            background-color: #000000;\n",
        "            padding: 20px;\n",
        "            color: #333;\n",
        "        }\n",
        "\n",
        "        .container {\n",
        "            max-width: 500px;\n",
        "            margin: 0 auto;\n",
        "            background-color: #fff;\n",
        "            padding: 20px;\n",
        "            border-radius: 5px;\n",
        "        }\n",
        "\n",
        "        h1 {\n",
        "            text-align: center;\n",
        "            color: #111; /* An even darker shade of black for the title */\n",
        "        }\n",
        "\n",
        "        label {\n",
        "            display: block;\n",
        "            margin-bottom: 10px;\n",
        "        }\n",
        "\n",
        "        input[type=\"text\"],\n",
        "        input[type=\"number\"] {\n",
        "            padding: 10px;\n",
        "            border-radius: 5px;\n",
        "            border: 1px solid #ccc;\n",
        "            width: 100%;\n",
        "            margin-bottom: 20px;\n",
        "        }\n",
        "\n",
        "        button {\n",
        "            background-color: #4CAF50;\n",
        "            color: white;\n",
        "            padding: 12px 20px;\n",
        "            border: none;\n",
        "            border-radius: 5px;\n",
        "            cursor: pointer;\n",
        "            width: 100%;\n",
        "            font-size: 16px;\n",
        "        }\n",
        "    </style>\n",
        "</head>\n",
        "\n",
        "<body>\n",
        "\n",
        "    <div class=\"container\">\n",
        "\n",
        "        <h1>Diabetes Prediction</h1>\n",
        "\n",
        "        <form>\n",
        "\n",
        "            <label for=\"gender\">Gender:</label>\n",
        "            <input type=\"text\" id=\"gender\" name=\"gender\">\n",
        "\n",
        "            <label for=\"age\">Age:</label>\n",
        "            <input type=\"number\" id=\"age\" name=\"age\">\n",
        "\n",
        "            <label for=\"hypertension\">Hypertension:</label>\n",
        "            <input type=\"number\" id=\"hypertension\" name=\"hypertension\">\n",
        "\n",
        "            <label for=\"heart_disease\">Heart Disease:</label>\n",
        "            <input type=\"number\" id=\"heart_disease\" name=\"heart_disease\">\n",
        "\n",
        "            <label for=\"smoking_history\">Smoking History:</label>\n",
        "            <input type=\"number\" id=\"smoking_history\" name=\"smoking_history\">\n",
        "\n",
        "            <label for=\"bmi\">BMI:</label>\n",
        "            <input type=\"number\" step=\"0.01\" id=\"bmi\" name=\"bmi\">\n",
        "\n",
        "            <label for=\"hba1c_level\">HbA1c Level:</label>\n",
        "            <input type=\"number\" step=\"0.01\" id=\"hba1c_level\" name=\"hba1c_level\">\n",
        "\n",
        "            <label for=\"blood_glucose_level\">Blood Glucose Level:</label>\n",
        "            <input type=\"number\" id=\"blood_glucose_level\" name=\"blood_glucose_level\">\n",
        "\n",
        "            <button type=\"button\" onclick=\"predict()\">Predict</button>\n",
        "\n",
        "        </form>\n",
        "\n",
        "    </div>\n",
        "\n",
        "    <script>\n",
        "        function predict() {\n",
        "            // Get input values\n",
        "            var gender = document.getElementById(\"gender\").value;\n",
        "            var age = document.getElementById(\"age\").value;\n",
        "            var hypertension = document.getElementById(\"hypertension\").value;\n",
        "            var heart_disease = document.getElementById(\"heart_disease\").value;\n",
        "            var smoking_history = document.getElementById(\"smoking_history\").value;\n",
        "            var bmi = document.getElementById(\"bmi\").value;\n",
        "            var hba1c_level = document.getElementById(\"hba1c_level\").value;\n",
        "            var blood_glucose_level = document.getElementById(\"blood_glucose_level\").value;\n",
        "\n",
        "            // API URL\n",
        "            var publicUrl = \"https://g74ttvfgl36-496ff2e9c6d22116-5000-colab.googleusercontent.com/\";\n",
        "            var apiUrl = publicUrl + \"/api/v1.0/predict\" + gender + \"/\" + age + \"/\" + hypertension + \"/\" + heart_disease + \"/\" + smoking_history + \"/\" + bmi + \"/\" + hba1c_level + \"/\" + blood_glucose_level;\n",
        "\n",
        "            // Make API call\n",
        "            fetch(apiUrl)\n",
        "                .then(response => response.json())\n",
        "                .then(data => {\n",
        "                    // Display results\n",
        "                    console.log(data);\n",
        "                    alert(\"Prediction: \" + data.prediction + \", Probability: \" + data.probability[1]);\n",
        "                });\n",
        "        }\n",
        "    </script>\n",
        "\n",
        "</body>\n",
        "\n",
        "</html>\n"
      ],
      "metadata": {
        "colab": {
          "base_uri": "https://localhost:8080/",
          "height": 854
        },
        "id": "ZcelFZMyVgGa",
        "outputId": "edd95af7-b670-4bce-92d8-c13fb916adc0"
      },
      "execution_count": 146,
      "outputs": [
        {
          "output_type": "display_data",
          "data": {
            "text/plain": [
              "<IPython.core.display.HTML object>"
            ],
            "text/html": [
              "<!DOCTYPE html>\n",
              "<html>\n",
              "\n",
              "<head>\n",
              "    <title>Diabetes Prediction</title>\n",
              "    <style>\n",
              "        body {\n",
              "            font-family: Arial, sans-serif;\n",
              "            background-color: #000000;\n",
              "            padding: 20px;\n",
              "            color: #333;\n",
              "        }\n",
              "\n",
              "        .container {\n",
              "            max-width: 500px;\n",
              "            margin: 0 auto;\n",
              "            background-color: #fff;\n",
              "            padding: 20px;\n",
              "            border-radius: 5px;\n",
              "        }\n",
              "\n",
              "        h1 {\n",
              "            text-align: center;\n",
              "            color: #111; /* An even darker shade of black for the title */\n",
              "        }\n",
              "\n",
              "        label {\n",
              "            display: block;\n",
              "            margin-bottom: 10px;\n",
              "        }\n",
              "\n",
              "        input[type=\"text\"],\n",
              "        input[type=\"number\"] {\n",
              "            padding: 10px;\n",
              "            border-radius: 5px;\n",
              "            border: 1px solid #ccc;\n",
              "            width: 100%;\n",
              "            margin-bottom: 20px;\n",
              "        }\n",
              "\n",
              "        button {\n",
              "            background-color: #4CAF50;\n",
              "            color: white;\n",
              "            padding: 12px 20px;\n",
              "            border: none;\n",
              "            border-radius: 5px;\n",
              "            cursor: pointer;\n",
              "            width: 100%;\n",
              "            font-size: 16px;\n",
              "        }\n",
              "    </style>\n",
              "</head>\n",
              "\n",
              "<body>\n",
              "\n",
              "    <div class=\"container\">\n",
              "\n",
              "        <h1>Diabetes Prediction</h1>\n",
              "\n",
              "        <form>\n",
              "\n",
              "            <label for=\"gender\">Gender:</label>\n",
              "            <input type=\"text\" id=\"gender\" name=\"gender\">\n",
              "\n",
              "            <label for=\"age\">Age:</label>\n",
              "            <input type=\"number\" id=\"age\" name=\"age\">\n",
              "\n",
              "            <label for=\"hypertension\">Hypertension:</label>\n",
              "            <input type=\"number\" id=\"hypertension\" name=\"hypertension\">\n",
              "\n",
              "            <label for=\"heart_disease\">Heart Disease:</label>\n",
              "            <input type=\"number\" id=\"heart_disease\" name=\"heart_disease\">\n",
              "\n",
              "            <label for=\"smoking_history\">Smoking History:</label>\n",
              "            <input type=\"number\" id=\"smoking_history\" name=\"smoking_history\">\n",
              "\n",
              "            <label for=\"bmi\">BMI:</label>\n",
              "            <input type=\"number\" step=\"0.01\" id=\"bmi\" name=\"bmi\">\n",
              "\n",
              "            <label for=\"hba1c_level\">HbA1c Level:</label>\n",
              "            <input type=\"number\" step=\"0.01\" id=\"hba1c_level\" name=\"hba1c_level\">\n",
              "\n",
              "            <label for=\"blood_glucose_level\">Blood Glucose Level:</label>\n",
              "            <input type=\"number\" id=\"blood_glucose_level\" name=\"blood_glucose_level\">\n",
              "\n",
              "            <button type=\"button\" onclick=\"predict()\">Predict</button>\n",
              "\n",
              "        </form>\n",
              "\n",
              "    </div>\n",
              "\n",
              "    <script>\n",
              "        function predict() {\n",
              "            // Get input values\n",
              "            var gender = document.getElementById(\"gender\").value;\n",
              "            var age = document.getElementById(\"age\").value;\n",
              "            var hypertension = document.getElementById(\"hypertension\").value;\n",
              "            var heart_disease = document.getElementById(\"heart_disease\").value;\n",
              "            var smoking_history = document.getElementById(\"smoking_history\").value;\n",
              "            var bmi = document.getElementById(\"bmi\").value;\n",
              "            var hba1c_level = document.getElementById(\"hba1c_level\").value;\n",
              "            var blood_glucose_level = document.getElementById(\"blood_glucose_level\").value;\n",
              "\n",
              "            // API URL\n",
              "            var publicUrl = \"https://g74ttvfgl36-496ff2e9c6d22116-5000-colab.googleusercontent.com/\";\n",
              "            var apiUrl = publicUrl + \"/api/v1.0/predict\" + gender + \"/\" + age + \"/\" + hypertension + \"/\" + heart_disease + \"/\" + smoking_history + \"/\" + bmi + \"/\" + hba1c_level + \"/\" + blood_glucose_level;\n",
              "\n",
              "            // Make API call\n",
              "            fetch(apiUrl)\n",
              "                .then(response => response.json())\n",
              "                .then(data => {\n",
              "                    // Display results\n",
              "                    console.log(data);\n",
              "                    alert(\"Prediction: \" + data.prediction + \", Probability: \" + data.probability[1]);\n",
              "                });\n",
              "        }\n",
              "    </script>\n",
              "\n",
              "</body>\n",
              "\n",
              "</html>\n"
            ]
          },
          "metadata": {}
        }
      ]
    },
    {
      "cell_type": "code",
      "source": [],
      "metadata": {
        "id": "u3bqTKQkWzcV"
      },
      "execution_count": null,
      "outputs": []
    }
  ]
}